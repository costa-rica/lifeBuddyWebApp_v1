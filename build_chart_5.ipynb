{
 "cells": [
  {
   "cell_type": "code",
   "execution_count": 1,
   "id": "3ef95970",
   "metadata": {},
   "outputs": [
    {
     "name": "stderr",
     "output_type": "stream",
     "text": [
      "C:\\tools\\miniconda3\\envs\\lifebuddy\\lib\\site-packages\\flask_sqlalchemy\\__init__.py:872: FSADeprecationWarning: SQLALCHEMY_TRACK_MODIFICATIONS adds significant overhead and will be disabled by default in the future.  Set it to True or False to suppress this warning.\n",
      "  warnings.warn(FSADeprecationWarning(\n"
     ]
    }
   ],
   "source": [
    "import json;import datetime;from datetime import timedelta;import os, zipfile;\n",
    "import pandas as pd;from scipy.optimize import curve_fit;from scipy.stats import chisquare\n",
    "import numpy as np;import matplotlib.pyplot as plt\n",
    "from LifeBuddyWebApp import create_app, db\n",
    "from LifeBuddyWebApp.models import User, Post, Health_description, Health_measure\n",
    "proxyApp=create_app()\n",
    "ctx=proxyApp.app_context()\n",
    "ctx.push()\n",
    "from sqlalchemy import func\n",
    "\n",
    "from bokeh.plotting import figure, output_file, show\n",
    "import pandas as pd\n",
    "from bokeh.resources import CDN\n",
    "from bokeh.models import ColumnDataSource, Grid, LinearAxis, Plot, Text, Span\n",
    "from bokeh.io import curdoc\n",
    "from bokeh.themes import built_in_themes, Theme\n",
    "\n",
    "from bokeh.layouts import row\n",
    "import time\n",
    "import pytz\n",
    "import zoneinfo\n",
    "from pytz import timezone"
   ]
  },
  {
   "cell_type": "code",
   "execution_count": 117,
   "id": "4d45bde9",
   "metadata": {},
   "outputs": [],
   "source": [
    "base_query_health_description=db.session.query(Health_description).filter(Health_description.user_id==1)\n",
    "df_health_description=pd.read_sql(str(base_query_health_description)[:-1]+str(1),db.session.bind)\n",
    "\n",
    "#clean df\n",
    "colNames=[i[len('health_description_'):] for i in list(df_health_description.columns)]\n",
    "col_names_dict={i:j for i,j in zip(list(df_health_description.columns),colNames)}\n",
    "df_health_description.rename(columns=col_names_dict, inplace=True)\n",
    "df_health_description=df_health_description.sort_values(by=['datetime_of_activity'], ascending=False)"
   ]
  },
  {
   "cell_type": "code",
   "execution_count": 3,
   "id": "b7b471b9",
   "metadata": {},
   "outputs": [],
   "source": [
    "def plot_text_format(x):\n",
    "    return ('%.1f' % x).rstrip('0').rstrip('.')"
   ]
  },
  {
   "cell_type": "code",
   "execution_count": 118,
   "id": "7ef9c9e5",
   "metadata": {},
   "outputs": [
    {
     "ename": "ValueError",
     "evalue": "min() arg is an empty sequence",
     "output_type": "error",
     "traceback": [
      "\u001b[1;31m---------------------------------------------------------------------------\u001b[0m",
      "\u001b[1;31mValueError\u001b[0m                                Traceback (most recent call last)",
      "\u001b[1;32m<ipython-input-118-1f5d3e1358aa>\u001b[0m in \u001b[0;36m<module>\u001b[1;34m\u001b[0m\n\u001b[0;32m     19\u001b[0m \u001b[0mobs_x3\u001b[0m\u001b[1;33m=\u001b[0m\u001b[1;33m[\u001b[0m \u001b[0mdatetime\u001b[0m\u001b[1;33m.\u001b[0m\u001b[0mdatetime\u001b[0m\u001b[1;33m.\u001b[0m\u001b[0mstrptime\u001b[0m\u001b[1;33m(\u001b[0m\u001b[0mdate_string\u001b[0m\u001b[1;33m,\u001b[0m\u001b[1;34m'%Y-%m-%d %H:%M:%S.%f'\u001b[0m\u001b[1;33m)\u001b[0m \u001b[1;32mfor\u001b[0m \u001b[0mdate_string\u001b[0m \u001b[1;32min\u001b[0m \u001b[0mdf3\u001b[0m\u001b[1;33m.\u001b[0m\u001b[0mdatetime_of_activity\u001b[0m\u001b[1;33m]\u001b[0m\u001b[1;33m\u001b[0m\u001b[1;33m\u001b[0m\u001b[0m\n\u001b[0;32m     20\u001b[0m \u001b[0mobs_y3\u001b[0m\u001b[1;33m=\u001b[0m\u001b[0mdf3\u001b[0m\u001b[1;33m.\u001b[0m\u001b[0mmetric3\u001b[0m\u001b[1;33m.\u001b[0m\u001b[0mto_list\u001b[0m\u001b[1;33m(\u001b[0m\u001b[1;33m)\u001b[0m\u001b[1;33m\u001b[0m\u001b[1;33m\u001b[0m\u001b[0m\n\u001b[1;32m---> 21\u001b[1;33m \u001b[0mobs_y3_min\u001b[0m\u001b[1;33m=\u001b[0m\u001b[0mmin\u001b[0m\u001b[1;33m(\u001b[0m\u001b[0mobs_y3\u001b[0m\u001b[1;33m)\u001b[0m\u001b[1;33m\u001b[0m\u001b[1;33m\u001b[0m\u001b[0m\n\u001b[0m\u001b[0;32m     22\u001b[0m \u001b[0mobs_y3_adjusted\u001b[0m\u001b[1;33m=\u001b[0m\u001b[1;33m[\u001b[0m\u001b[0mi\u001b[0m\u001b[1;33m-\u001b[0m\u001b[0mobs_y3_min\u001b[0m\u001b[1;33m+\u001b[0m\u001b[1;36m10\u001b[0m \u001b[1;32mfor\u001b[0m \u001b[0mi\u001b[0m \u001b[1;32min\u001b[0m \u001b[0mobs_y3\u001b[0m\u001b[1;33m]\u001b[0m\u001b[1;33m\u001b[0m\u001b[1;33m\u001b[0m\u001b[0m\n\u001b[0;32m     23\u001b[0m \u001b[1;33m\u001b[0m\u001b[0m\n",
      "\u001b[1;31mValueError\u001b[0m: min() arg is an empty sequence"
     ]
    }
   ],
   "source": [
    "#assign default chart dates\n",
    "date_end=datetime.datetime.strptime(df1.datetime_of_activity.to_list()[0],'%Y-%m-%d %H:%M:%S.%f')\n",
    "date_end=date_end+ timedelta(days=1)\n",
    "date_start=date_end- timedelta(days=7)\n",
    "\n",
    "#get cardio performance metric into lists\n",
    "df1=df_health_description.loc[df_health_description.metric1_carido<100]#filter dataset\n",
    "obs_x1=[ datetime.datetime.strptime(date_string,'%Y-%m-%d %H:%M:%S.%f') for date_string in df1.datetime_of_activity]\n",
    "obs_y1=df1.metric1_carido\n",
    "obs_y1_formatted=[ plot_text_format(i) for i in obs_y1]\n",
    "\n",
    "#get activities into lists\n",
    "df2=df_health_description.loc[(df_health_description.var_type=='Activity')]#filter dataset\n",
    "obs_x2=[ datetime.datetime.strptime(date_string,'%Y-%m-%d %H:%M:%S.%f') for date_string in df2.datetime_of_activity]\n",
    "obs_y2=df2.var_activity.to_list()\n",
    "\n",
    "#get weights into lists\n",
    "df3=df_health_description.loc[(df_health_description.var_type=='Weight')]#filter dataset\n",
    "obs_x3=[ datetime.datetime.strptime(date_string,'%Y-%m-%d %H:%M:%S.%f') for date_string in df3.datetime_of_activity]\n",
    "obs_y3=df3.metric3.to_list()\n",
    "obs_y3_min=min(obs_y3)\n",
    "obs_y3_adjusted=[i-obs_y3_min+10 for i in obs_y3]\n",
    "\n",
    "#create figure object [start of jupyter notebook]\n",
    "fig1=figure(toolbar_location=None,tools='xwheel_zoom,xpan',active_scroll='xwheel_zoom',\n",
    "            x_range=(date_start,date_end),y_range=(-10,90),width=900, height=400)\n"
   ]
  },
  {
   "cell_type": "code",
   "execution_count": 46,
   "id": "98d2b0f1",
   "metadata": {},
   "outputs": [
    {
     "data": {
      "text/plain": [
       "[13.0, 12.0, 10.0]"
      ]
     },
     "execution_count": 46,
     "metadata": {},
     "output_type": "execute_result"
    }
   ],
   "source": [
    "# obs_y3_min=obs_y3.min()\n",
    "obs_y3_adjusted"
   ]
  },
  {
   "cell_type": "code",
   "execution_count": 47,
   "id": "e61950bf",
   "metadata": {},
   "outputs": [],
   "source": [
    "#add cardio_metric1\n",
    "if len(obs_x1)>0:\n",
    "    circle=fig1.circle(obs_x1,obs_y1, legend_label=\"Cardio Performance\", fill_color='#c77711', line_color=None,\n",
    "                  size=20)\n",
    "    source1 = ColumnDataSource(dict(x=obs_x1, y=obs_y1, text=obs_y1_formatted))\n",
    "    glyph1 = Text(text=\"text\",text_font_size={'value': '10px'},x_offset=-10, y_offset=5)\n",
    "    fig1.add_glyph(source1, glyph1)\n",
    "\n",
    "#add activities to fig1\n",
    "if len(obs_x2)>0:\n",
    "    for a,b in zip(obs_x2,obs_y2):\n",
    "        #add activity data\n",
    "        source2 = ColumnDataSource(dict(x=[a], y=[80], text=[b]))\n",
    "        glyph2 = Text(text=\"text\", text_color=\"#414444\", text_font_size={'value': '10px'},\n",
    "                     x_offset=-10,angle=-1.58)\n",
    "\n",
    "        #add line for activity data\n",
    "        line_start_time=time.mktime(a.timetuple())*1000\n",
    "        important_time = Span(location=line_start_time, dimension='height', line_color=\"#414444\", line_dash='dashed', line_width=1)\n",
    "        fig1.add_glyph(source2, glyph2)\n",
    "        fig1.add_layout(important_time)\n",
    "\n",
    "    fig1.add_glyph(source2, glyph2)"
   ]
  },
  {
   "cell_type": "code",
   "execution_count": 48,
   "id": "ca27fdef",
   "metadata": {},
   "outputs": [],
   "source": [
    "#add weight as triangles\n",
    "if len(obs_x3)>0:\n",
    "    triangle=fig1.triangle(obs_x3,obs_y3_adjusted, legend_label=\"Weight\", fill_color='#c77711', line_color=None,\n",
    "                  size=20)\n",
    "    source3 = ColumnDataSource(dict(x=obs_x3, y=obs_y3_adjusted, text=obs_y3))\n",
    "    glyph3 = Text(text=\"text\",text_font_size={'value': '10px'},x_offset=-10, y_offset=5)\n",
    "    fig1.add_glyph(source3, glyph3)"
   ]
  },
  {
   "cell_type": "code",
   "execution_count": 49,
   "id": "0a6630a7",
   "metadata": {},
   "outputs": [],
   "source": [
    "fig1.ygrid.grid_line_color = None\n",
    "fig1.yaxis.major_label_text_color = None\n",
    "fig1.yaxis.major_tick_line_color = None\n",
    "fig1.yaxis.minor_tick_line_color = None\n",
    "\n",
    "fig1.legend.background_fill_color = \"#578582\"\n",
    "fig1.legend.background_fill_alpha = 0.2\n",
    "fig1.legend.border_line_color = None\n",
    "\n",
    "theme_1=curdoc().theme = Theme(filename=proxyApp.config['BOKEH_THEME'])\n",
    "curdoc().theme = theme_1\n",
    "show(fig1)"
   ]
  },
  {
   "cell_type": "code",
   "execution_count": null,
   "id": "8fd56dfc",
   "metadata": {},
   "outputs": [],
   "source": []
  },
  {
   "cell_type": "markdown",
   "id": "fad4df8e",
   "metadata": {},
   "source": [
    "#scratech work delte record"
   ]
  },
  {
   "cell_type": "code",
   "execution_count": 51,
   "id": "1bac8e81",
   "metadata": {},
   "outputs": [],
   "source": [
    "delete_record_id=252\n",
    "db.session.query(Health_description).filter(Health_description.id==delete_record_id).delete()\n",
    "db.session.commit()"
   ]
  },
  {
   "cell_type": "code",
   "execution_count": 131,
   "id": "f386afb2",
   "metadata": {},
   "outputs": [
    {
     "data": {
      "text/plain": [
       "str"
      ]
     },
     "execution_count": 131,
     "metadata": {},
     "output_type": "execute_result"
    }
   ],
   "source": [
    "# date_list=obs_x2\n",
    "type(df_health_description.datetime_of_activity.max())"
   ]
  },
  {
   "cell_type": "code",
   "execution_count": 107,
   "id": "8d3e9762",
   "metadata": {},
   "outputs": [
    {
     "data": {
      "text/plain": [
       "datetime.datetime(2021, 4, 26, 12, 17, 19, 88000)"
      ]
     },
     "execution_count": 107,
     "metadata": {},
     "output_type": "execute_result"
    }
   ],
   "source": [
    "date_end=datetime.datetime.strptime(df1.datetime_of_activity.to_list()[-1],'%Y-%m-%d %H:%M:%S.%f')\n",
    "date_end=date_end+ timedelta(days=1)\n",
    "\n",
    "date_end"
   ]
  },
  {
   "cell_type": "code",
   "execution_count": 108,
   "id": "8eadfe8a",
   "metadata": {},
   "outputs": [],
   "source": [
    "def max_date(date_end,date_list):\n",
    "    new_max=max(date_list)\n",
    "    if new_max>date_end:\n",
    "        date_end=new_max\n",
    "    return date_end"
   ]
  },
  {
   "cell_type": "code",
   "execution_count": 109,
   "id": "5a385b95",
   "metadata": {},
   "outputs": [
    {
     "data": {
      "text/plain": [
       "datetime.datetime(2021, 8, 20, 8, 19)"
      ]
     },
     "execution_count": 109,
     "metadata": {},
     "output_type": "execute_result"
    }
   ],
   "source": [
    "date_end=max_date(date_end,obs_x2)\n",
    "date_end"
   ]
  },
  {
   "cell_type": "code",
   "execution_count": 102,
   "id": "ab41d212",
   "metadata": {},
   "outputs": [],
   "source": [
    "obs_x4=[datetime.datetime(2021,7,6),datetime.datetime(2021,7,9)]"
   ]
  },
  {
   "cell_type": "code",
   "execution_count": 116,
   "id": "740223cc",
   "metadata": {},
   "outputs": [
    {
     "data": {
      "text/plain": [
       "datetime.datetime(2021, 8, 20, 8, 19)"
      ]
     },
     "execution_count": 116,
     "metadata": {},
     "output_type": "execute_result"
    }
   ],
   "source": [
    "try:\n",
    "    date_end=max_date(date_end,obs_x5)\n",
    "except:\n",
    "    pass\n",
    "    \n",
    "date_end\n",
    "    "
   ]
  },
  {
   "cell_type": "code",
   "execution_count": 72,
   "id": "05b1293c",
   "metadata": {},
   "outputs": [],
   "source": [
    "try:\n",
    "    date_list=date_list+obs_x4\n",
    "except:\n",
    "    pass"
   ]
  },
  {
   "cell_type": "code",
   "execution_count": 111,
   "id": "862bc64e",
   "metadata": {},
   "outputs": [
    {
     "ename": "NameError",
     "evalue": "name 'obs_x5' is not defined",
     "output_type": "error",
     "traceback": [
      "\u001b[1;31m---------------------------------------------------------------------------\u001b[0m",
      "\u001b[1;31mNameError\u001b[0m                                 Traceback (most recent call last)",
      "\u001b[1;32m<ipython-input-111-f6310acbc9cb>\u001b[0m in \u001b[0;36m<module>\u001b[1;34m\u001b[0m\n\u001b[1;32m----> 1\u001b[1;33m \u001b[0mobs_x5\u001b[0m\u001b[1;33m\u001b[0m\u001b[1;33m\u001b[0m\u001b[0m\n\u001b[0m",
      "\u001b[1;31mNameError\u001b[0m: name 'obs_x5' is not defined"
     ]
    }
   ],
   "source": [
    "obs_x5"
   ]
  },
  {
   "cell_type": "code",
   "execution_count": 114,
   "id": "687579c3",
   "metadata": {},
   "outputs": [
    {
     "data": {
      "text/plain": [
       "datetime.datetime(2021, 8, 20, 8, 19)"
      ]
     },
     "execution_count": 114,
     "metadata": {},
     "output_type": "execute_result"
    }
   ],
   "source": [
    "#scenario#1: Add empty list to a list without altering it\n",
    "date_end"
   ]
  },
  {
   "cell_type": "code",
   "execution_count": null,
   "id": "505922b3",
   "metadata": {},
   "outputs": [],
   "source": []
  },
  {
   "cell_type": "code",
   "execution_count": null,
   "id": "fe753407",
   "metadata": {},
   "outputs": [],
   "source": []
  },
  {
   "cell_type": "code",
   "execution_count": null,
   "id": "cb39f449",
   "metadata": {},
   "outputs": [],
   "source": []
  },
  {
   "cell_type": "code",
   "execution_count": null,
   "id": "5307fee1",
   "metadata": {},
   "outputs": [],
   "source": []
  }
 ],
 "metadata": {
  "kernelspec": {
   "display_name": "Python 3",
   "language": "python",
   "name": "python3"
  },
  "language_info": {
   "codemirror_mode": {
    "name": "ipython",
    "version": 3
   },
   "file_extension": ".py",
   "mimetype": "text/x-python",
   "name": "python",
   "nbconvert_exporter": "python",
   "pygments_lexer": "ipython3",
   "version": "3.9.5"
  }
 },
 "nbformat": 4,
 "nbformat_minor": 5
}
