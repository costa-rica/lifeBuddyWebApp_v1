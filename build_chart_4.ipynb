{
 "cells": [
  {
   "cell_type": "code",
   "execution_count": 1,
   "id": "fb8d0c56",
   "metadata": {},
   "outputs": [
    {
     "name": "stderr",
     "output_type": "stream",
     "text": [
      "C:\\tools\\miniconda3\\envs\\lifebuddy\\lib\\site-packages\\flask_sqlalchemy\\__init__.py:872: FSADeprecationWarning: SQLALCHEMY_TRACK_MODIFICATIONS adds significant overhead and will be disabled by default in the future.  Set it to True or False to suppress this warning.\n",
      "  warnings.warn(FSADeprecationWarning(\n"
     ]
    }
   ],
   "source": [
    "import json;import datetime;from datetime import timedelta;import os, zipfile;\n",
    "import pandas as pd;from scipy.optimize import curve_fit;from scipy.stats import chisquare\n",
    "import numpy as np;import matplotlib.pyplot as plt\n",
    "from LifeBuddyWebApp import create_app, db\n",
    "from LifeBuddyWebApp.models import User, Post, Health_description, Health_measure\n",
    "proxyApp=create_app()\n",
    "ctx=proxyApp.app_context()\n",
    "ctx.push()\n",
    "from sqlalchemy import func\n",
    "\n",
    "from bokeh.plotting import figure, output_file, show\n",
    "import pandas as pd\n",
    "from bokeh.resources import CDN\n",
    "from bokeh.models import ColumnDataSource, Grid, LinearAxis, Plot, Text, Span\n",
    "from bokeh.io import curdoc\n",
    "from bokeh.themes import built_in_themes\n",
    "\n",
    "from bokeh.layouts import row\n",
    "import time\n",
    "import pytz\n",
    "import zoneinfo\n",
    "from pytz import timezone"
   ]
  },
  {
   "cell_type": "code",
   "execution_count": 2,
   "id": "147200f5",
   "metadata": {},
   "outputs": [],
   "source": [
    "#filter on user data only\n",
    "base_query_health_description=db.session.query(Health_description).filter(Health_description.user_id==1)\n",
    "# if current_user.id==2:\n",
    "df_health_description=pd.read_sql(str(base_query_health_description)[:-1]+str(1),db.session.bind)\n",
    "# else:\n",
    "#     df_health_description=pd.read_sql(str(base_query_health_description)[:-1]+str(current_user.id),db.session.bind)"
   ]
  },
  {
   "cell_type": "code",
   "execution_count": 8,
   "id": "03c00b97",
   "metadata": {},
   "outputs": [],
   "source": [
    "#This stays exactly\n",
    "colNames=[i[len('health_description_'):] for i in list(df_health_description.columns)]\n",
    "col_names_dict={i:j for i,j in zip(list(df_health_description.columns),colNames)}\n",
    "df_health_description.rename(columns=col_names_dict, inplace=True)"
   ]
  },
  {
   "cell_type": "code",
   "execution_count": 9,
   "id": "3e58d51c",
   "metadata": {},
   "outputs": [
    {
     "data": {
      "text/html": [
       "<div>\n",
       "<style scoped>\n",
       "    .dataframe tbody tr th:only-of-type {\n",
       "        vertical-align: middle;\n",
       "    }\n",
       "\n",
       "    .dataframe tbody tr th {\n",
       "        vertical-align: top;\n",
       "    }\n",
       "\n",
       "    .dataframe thead th {\n",
       "        text-align: right;\n",
       "    }\n",
       "</style>\n",
       "<table border=\"1\" class=\"dataframe\">\n",
       "  <thead>\n",
       "    <tr style=\"text-align: right;\">\n",
       "      <th></th>\n",
       "      <th>id</th>\n",
       "      <th>datetime_of_activity</th>\n",
       "      <th>var_activity</th>\n",
       "      <th>var_type</th>\n",
       "      <th>var_periodicity</th>\n",
       "      <th>var_timezone_utc_delta_in_mins</th>\n",
       "      <th>time_stamp_utc</th>\n",
       "      <th>user_id</th>\n",
       "      <th>source_filename</th>\n",
       "      <th>metric1_carido</th>\n",
       "      <th>metric2_session_duration</th>\n",
       "      <th>metric3</th>\n",
       "      <th>metric4</th>\n",
       "      <th>metric5</th>\n",
       "      <th>note</th>\n",
       "    </tr>\n",
       "  </thead>\n",
       "  <tbody>\n",
       "    <tr>\n",
       "      <th>0</th>\n",
       "      <td>1</td>\n",
       "      <td>2021-06-09 12:08:34.635000</td>\n",
       "      <td>YOGA</td>\n",
       "      <td>heart rate</td>\n",
       "      <td>seconds</td>\n",
       "      <td>-240.0</td>\n",
       "      <td>2021-08-22 15:13:51.668660</td>\n",
       "      <td>1</td>\n",
       "      <td>training-session-2021-06-09-6138678344-024ee81...</td>\n",
       "      <td>21.733782</td>\n",
       "      <td>359.0</td>\n",
       "      <td>NaN</td>\n",
       "      <td>None</td>\n",
       "      <td>None</td>\n",
       "      <td>None</td>\n",
       "    </tr>\n",
       "  </tbody>\n",
       "</table>\n",
       "</div>"
      ],
      "text/plain": [
       "   id        datetime_of_activity var_activity    var_type var_periodicity  \\\n",
       "0   1  2021-06-09 12:08:34.635000         YOGA  heart rate         seconds   \n",
       "\n",
       "   var_timezone_utc_delta_in_mins              time_stamp_utc  user_id  \\\n",
       "0                          -240.0  2021-08-22 15:13:51.668660        1   \n",
       "\n",
       "                                     source_filename  metric1_carido  \\\n",
       "0  training-session-2021-06-09-6138678344-024ee81...       21.733782   \n",
       "\n",
       "   metric2_session_duration  metric3 metric4 metric5  note  \n",
       "0                     359.0      NaN    None    None  None  "
      ]
     },
     "execution_count": 9,
     "metadata": {},
     "output_type": "execute_result"
    }
   ],
   "source": [
    "df_health_description.head(1)"
   ]
  },
  {
   "cell_type": "code",
   "execution_count": 10,
   "id": "540635dc",
   "metadata": {},
   "outputs": [],
   "source": [
    "def plot_text_format(x):\n",
    "    return ('%.1f' % x).rstrip('0').rstrip('.')"
   ]
  },
  {
   "cell_type": "code",
   "execution_count": 16,
   "id": "8335efe1",
   "metadata": {},
   "outputs": [],
   "source": [
    "#This stays exactly\n",
    "df1=df_health_description.loc[df_health_description.metric1_carido<100]\n",
    "df1=df1.sort_values(by=['datetime_of_activity'])\n",
    "obs_x1=[ datetime.datetime.strptime(date_string,'%Y-%m-%d %H:%M:%S.%f') for date_string in df1.datetime_of_activity]\n",
    "obs_y1=df1.metric1_carido\n",
    "obs_y1_formatted=[ plot_text_format(i) for i in y_obs]\n",
    "\n",
    "date_end=datetime.datetime.strptime(df1.datetime_of_activity.to_list()[-1],'%Y-%m-%d %H:%M:%S.%f')\n",
    "date_end=date_end+ timedelta(days=1)\n",
    "date_start=date_end- timedelta(days=7)"
   ]
  },
  {
   "cell_type": "code",
   "execution_count": null,
   "id": "f6ba4d0b",
   "metadata": {},
   "outputs": [],
   "source": [
    "source = ColumnDataSource(dict(x=x_obs, y=y_obs, text=y_obs_formatted))\n",
    "p1=figure(x_axis_label='Time',x_axis_type='datetime',width=880, height=400, toolbar_location=None,\n",
    "          tools='xwheel_zoom,xpan',active_scroll='xwheel_zoom',x_range=(date_start, date_end))\n",
    "p1.yaxis.major_label_text_color='black'\n",
    "\n",
    "glyph = Text(text=\"text\", text_color=\"#d6fbf7\")\n",
    "\n",
    "p1.add_glyph(source, glyph)"
   ]
  },
  {
   "cell_type": "code",
   "execution_count": 13,
   "id": "4202592b",
   "metadata": {},
   "outputs": [],
   "source": [
    "#get x and y's for activity\n",
    "df2=df_health_description.loc[(df_health_description.var_type=='Activity') ]\n",
    "#1 time (obs_x)\n",
    "obs_x2=[ datetime.datetime.strptime(date_string,'%Y-%m-%d %H:%M:%S.%f') for date_string in df2.datetime_of_activity]\n",
    "#3 activity (obs_y2)\n",
    "obs_y2=df2.var_activity.to_list()"
   ]
  },
  {
   "cell_type": "code",
   "execution_count": 21,
   "id": "9ce50647",
   "metadata": {},
   "outputs": [
    {
     "data": {
      "text/plain": [
       "['activity-walk', 'coffee', 'woke up']"
      ]
     },
     "execution_count": 21,
     "metadata": {},
     "output_type": "execute_result"
    }
   ],
   "source": [
    "obs_y2"
   ]
  },
  {
   "cell_type": "code",
   "execution_count": 35,
   "id": "0c4a392e",
   "metadata": {},
   "outputs": [
    {
     "name": "stderr",
     "output_type": "stream",
     "text": [
      "BokehUserWarning: ColumnDataSource's columns must be of the same length. Current lengths: ('text', 3), ('x', 3), ('y', 1)\n"
     ]
    }
   ],
   "source": [
    "fig1=figure(toolbar_location=None,tools='xwheel_zoom,xpan',active_scroll='xwheel_zoom',\n",
    "            x_range=(date_start,date_end),y_range=(-10,90),width=800, height=300)\n",
    "\n",
    "#add cardio_metric1\n",
    "source1 = ColumnDataSource(dict(x=obs_x1, y=obs_y1, text=obs_y1_formatted))\n",
    "glyph1 = Text(text=\"text\", text_color=\"#d6fbf7\")\n",
    "fig1.add_glyph(source1, glyph1)\n",
    "\n",
    "#add activity data\n",
    "source2 = ColumnDataSource(dict(x=obs_x2, y=[80], text=obs_y2))\n",
    "glyph2 = Text(text=\"text\", text_color=\"#9aa6a5\")\n",
    "#add line for activity data\n",
    "line_start_time=time.mktime(obs_x2[0].timetuple())*1000\n",
    "important_time = Span(location=line_start_time, dimension='height', line_color=\"#9aa6a5\", line_dash='dashed', line_width=3)\n",
    "\n",
    "# line_start_time2=time.mktime((obs_x2[0]+timedelta(days=1)).timetuple())*1000\n",
    "# important_time2 = Span(location=line_start_time2, dimension='height', line_color='blue', line_dash='dashed', line_width=3)\n",
    "\n",
    "fig1.add_layout(important_time)\n",
    "# fig1.add_layout(important_time2)\n",
    "\n",
    "fig1.add_glyph(source2, glyph2)\n",
    "\n",
    "curdoc().theme = 'contrast'\n",
    "\n",
    "\n",
    "show(fig1)"
   ]
  },
  {
   "cell_type": "code",
   "execution_count": 37,
   "id": "a693c19f",
   "metadata": {},
   "outputs": [
    {
     "name": "stdout",
     "output_type": "stream",
     "text": [
      "a:: <class 'datetime.datetime'> 2021-08-22 21:08:00\n",
      "b:: <class 'str'> activity-walk\n",
      "a:: <class 'datetime.datetime'> 2021-08-23 05:30:00\n",
      "b:: <class 'str'> coffee\n",
      "a:: <class 'datetime.datetime'> 2021-08-24 08:18:00\n",
      "b:: <class 'str'> woke up\n"
     ]
    }
   ],
   "source": [
    "fig1=figure(toolbar_location=None,tools='xwheel_zoom,xpan',active_scroll='xwheel_zoom',\n",
    "            x_range=(date_start,date_end),y_range=(-10,90),width=800, height=300)\n",
    "\n",
    "#add cardio_metric1\n",
    "source1 = ColumnDataSource(dict(x=obs_x1, y=obs_y1, text=obs_y1_formatted))\n",
    "glyph1 = Text(text=\"text\", text_color=\"#d6fbf7\")\n",
    "fig1.add_glyph(source1, glyph1)\n",
    "\n",
    "for a,b in zip(obs_x2,obs_y2):\n",
    "    #add activity data\n",
    "    source2 = ColumnDataSource(dict(x=[a], y=[80], text=[b]))\n",
    "    glyph2 = Text(text=\"text\", text_color=\"#9aa6a5\")\n",
    "    #add line for activity data\n",
    "#     line_start_time=time.mktime(a.timetuple())*1000\n",
    "    line_start_time=time.mktime(a.timetuple())*1000\n",
    "    important_time = Span(location=line_start_time, dimension='height', line_color=\"#9aa6a5\", line_dash='dashed', line_width=3)\n",
    "    fig1.add_glyph(source2, glyph2)\n",
    "    fig1.add_layout(important_time)\n",
    "#     line_var_dict[str(a)+b]=(source2,glyph2,important_time)\n",
    "\n",
    "fig1.add_glyph(source2, glyph2)\n",
    "\n",
    "curdoc().theme = 'contrast'\n",
    "\n",
    "\n",
    "show(fig1)"
   ]
  },
  {
   "cell_type": "code",
   "execution_count": 33,
   "id": "db736f23",
   "metadata": {},
   "outputs": [
    {
     "data": {
      "text/plain": [
       "1629659280000.0"
      ]
     },
     "execution_count": 33,
     "metadata": {},
     "output_type": "execute_result"
    }
   ],
   "source": [
    "time.mktime(obs_x2[0].timetuple())*1000"
   ]
  },
  {
   "cell_type": "code",
   "execution_count": 32,
   "id": "753224f3",
   "metadata": {},
   "outputs": [
    {
     "data": {
      "text/plain": [
       "time.struct_time(tm_year=2021, tm_mon=8, tm_mday=22, tm_hour=21, tm_min=8, tm_sec=0, tm_wday=6, tm_yday=234, tm_isdst=-1)"
      ]
     },
     "execution_count": 32,
     "metadata": {},
     "output_type": "execute_result"
    }
   ],
   "source": [
    "obs_x2[0].timetuple()"
   ]
  },
  {
   "cell_type": "code",
   "execution_count": null,
   "id": "be5a29c1",
   "metadata": {},
   "outputs": [],
   "source": []
  }
 ],
 "metadata": {
  "kernelspec": {
   "display_name": "Python 3",
   "language": "python",
   "name": "python3"
  },
  "language_info": {
   "codemirror_mode": {
    "name": "ipython",
    "version": 3
   },
   "file_extension": ".py",
   "mimetype": "text/x-python",
   "name": "python",
   "nbconvert_exporter": "python",
   "pygments_lexer": "ipython3",
   "version": "3.9.5"
  }
 },
 "nbformat": 4,
 "nbformat_minor": 5
}
