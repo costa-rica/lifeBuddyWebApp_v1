{
 "cells": [
  {
   "cell_type": "code",
   "execution_count": 52,
   "id": "7cda572f",
   "metadata": {},
   "outputs": [
    {
     "name": "stderr",
     "output_type": "stream",
     "text": [
      "C:\\tools\\miniconda3\\envs\\lifebuddy\\lib\\site-packages\\flask_sqlalchemy\\__init__.py:872: FSADeprecationWarning: SQLALCHEMY_TRACK_MODIFICATIONS adds significant overhead and will be disabled by default in the future.  Set it to True or False to suppress this warning.\n",
      "  warnings.warn(FSADeprecationWarning(\n"
     ]
    }
   ],
   "source": [
    "import json;import datetime;from datetime import timedelta;import os, zipfile;\n",
    "import pandas as pd;from scipy.optimize import curve_fit;from scipy.stats import chisquare\n",
    "import numpy as np;import matplotlib.pyplot as plt\n",
    "from LifeBuddyWebApp import create_app, db\n",
    "from LifeBuddyWebApp.models import User, Post, Health_description, Health_measure\n",
    "proxyApp=create_app()\n",
    "ctx=proxyApp.app_context()\n",
    "ctx.push()\n",
    "from sqlalchemy import func\n",
    "\n",
    "from bokeh.plotting import figure, output_file, show\n",
    "import pandas as pd\n",
    "from bokeh.resources import CDN\n",
    "from bokeh.models import ColumnDataSource, Grid, LinearAxis, Plot, Text, Span\n",
    "from bokeh.io import curdoc\n",
    "from bokeh.themes import built_in_themes, Theme\n",
    "\n",
    "from bokeh.layouts import row\n",
    "import time\n",
    "import pytz\n",
    "import zoneinfo\n",
    "from pytz import timezone"
   ]
  },
  {
   "cell_type": "code",
   "execution_count": 2,
   "id": "5b9107de",
   "metadata": {},
   "outputs": [],
   "source": [
    "#filter on user data only\n",
    "base_query_health_description=db.session.query(Health_description).filter(Health_description.user_id==1)\n",
    "# if current_user.id==2:\n",
    "df_health_description=pd.read_sql(str(base_query_health_description)[:-1]+str(1),db.session.bind)\n",
    "# else:\n",
    "#     df_health_description=pd.read_sql(str(base_query_health_description)[:-1]+str(current_user.id),db.session.bind)"
   ]
  },
  {
   "cell_type": "code",
   "execution_count": 3,
   "id": "96a0c2b5",
   "metadata": {},
   "outputs": [],
   "source": [
    "#This stays exactly\n",
    "colNames=[i[len('health_description_'):] for i in list(df_health_description.columns)]\n",
    "col_names_dict={i:j for i,j in zip(list(df_health_description.columns),colNames)}\n",
    "df_health_description.rename(columns=col_names_dict, inplace=True)"
   ]
  },
  {
   "cell_type": "code",
   "execution_count": 4,
   "id": "7080f817",
   "metadata": {},
   "outputs": [],
   "source": [
    "def plot_text_format(x):\n",
    "    return ('%.1f' % x).rstrip('0').rstrip('.')"
   ]
  },
  {
   "cell_type": "code",
   "execution_count": 44,
   "id": "f1d6a553",
   "metadata": {},
   "outputs": [],
   "source": [
    "#This stays exactly\n",
    "df1=df_health_description.loc[df_health_description.metric1_carido<100]\n",
    "df1=df1.sort_values(by=['datetime_of_activity'])\n",
    "obs_x1=[ datetime.datetime.strptime(date_string,'%Y-%m-%d %H:%M:%S.%f') for date_string in df1.datetime_of_activity]\n",
    "obs_y1=df1.metric1_carido\n",
    "obs_y1_formatted=[ plot_text_format(i) for i in obs_y1]\n",
    "\n",
    "date_end=datetime.datetime.strptime(df1.datetime_of_activity.to_list()[-1],'%Y-%m-%d %H:%M:%S.%f')\n",
    "date_end=date_end+ timedelta(days=5)\n",
    "date_start=date_end- timedelta(days=7)"
   ]
  },
  {
   "cell_type": "code",
   "execution_count": 45,
   "id": "6ca36743",
   "metadata": {},
   "outputs": [],
   "source": [
    "#get x and y's for activity\n",
    "df2=df_health_description.loc[(df_health_description.var_type=='Activity') ]\n",
    "#1 time (obs_x)\n",
    "obs_x2=[ datetime.datetime.strptime(date_string,'%Y-%m-%d %H:%M:%S.%f') for date_string in df2.datetime_of_activity]\n",
    "#3 activity (obs_y2)\n",
    "obs_y2=df2.var_activity.to_list()"
   ]
  },
  {
   "cell_type": "code",
   "execution_count": 75,
   "id": "17105e5d",
   "metadata": {},
   "outputs": [
    {
     "name": "stderr",
     "output_type": "stream",
     "text": [
      "C:\\tools\\miniconda3\\envs\\lifebuddy\\lib\\site-packages\\bokeh\\models\\plots.py:766: UserWarning: \n",
      "You are attempting to set `plot.legend.location` on a plot that has zero legends added, this will have no effect.\n",
      "\n",
      "Before legend properties can be set, you must add a Legend explicitly, or call a glyph method with a legend parameter set.\n",
      "\n",
      "  warnings.warn(_LEGEND_EMPTY_WARNING % attr)\n"
     ]
    }
   ],
   "source": [
    "fig1=figure(toolbar_location=None,tools='xwheel_zoom,xpan',active_scroll='xwheel_zoom',\n",
    "            x_range=(date_start,date_end),y_range=(-10,90),width=800, height=300)\n",
    "\n",
    "#add cardio_metric1\n",
    "source1 = ColumnDataSource(dict(x=obs_x1, y=obs_y1, text=obs_y1_formatted))\n",
    "glyph1 = Text(text=\"text\",text_font_size={'value': '10px'})\n",
    "fig1.add_glyph(source1, glyph1)\n",
    "\n",
    "for a,b in zip(obs_x2,obs_y2):\n",
    "    #add activity data\n",
    "    source2 = ColumnDataSource(dict(x=[a], y=[80], text=[b]))\n",
    "    glyph2 = Text(text=\"text\", text_color=\"#414444\", text_font_size={'value': '10px'},\n",
    "                 x_offset=-10,angle=-1.58)\n",
    "    \n",
    "    #add line for activity data\n",
    "    line_start_time=time.mktime(a.timetuple())*1000\n",
    "    important_time = Span(location=line_start_time, dimension='height', line_color=\"#414444\", line_dash='dashed', line_width=1)\n",
    "    fig1.add_glyph(source2, glyph2)\n",
    "    fig1.add_layout(important_time)\n",
    "\n",
    "fig1.add_glyph(source2, glyph2)\n",
    "fig1.ygrid.grid_line_color = None\n",
    "fig1.yaxis.major_label_text_color = None\n",
    "fig1.yaxis.major_tick_line_color = None\n",
    "fig1.yaxis.minor_tick_line_color = None\n",
    "\n",
    "curdoc().theme = Theme(filename=r\"D:\\OneDrive\\Documents\\professional\\20210710lifeBuddy\\chart_theme_2.yml\")\n",
    "show(fig1)"
   ]
  },
  {
   "cell_type": "code",
   "execution_count": null,
   "id": "1f8babc3",
   "metadata": {},
   "outputs": [],
   "source": []
  },
  {
   "cell_type": "code",
   "execution_count": null,
   "id": "e01a7207",
   "metadata": {},
   "outputs": [],
   "source": []
  },
  {
   "cell_type": "code",
   "execution_count": null,
   "id": "d3c839dd",
   "metadata": {},
   "outputs": [],
   "source": []
  }
 ],
 "metadata": {
  "kernelspec": {
   "display_name": "Python 3",
   "language": "python",
   "name": "python3"
  },
  "language_info": {
   "codemirror_mode": {
    "name": "ipython",
    "version": 3
   },
   "file_extension": ".py",
   "mimetype": "text/x-python",
   "name": "python",
   "nbconvert_exporter": "python",
   "pygments_lexer": "ipython3",
   "version": "3.9.5"
  }
 },
 "nbformat": 4,
 "nbformat_minor": 5
}
