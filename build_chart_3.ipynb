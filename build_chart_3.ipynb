{
 "cells": [
  {
   "cell_type": "code",
   "execution_count": 1,
   "id": "ca9d3825",
   "metadata": {},
   "outputs": [
    {
     "name": "stderr",
     "output_type": "stream",
     "text": [
      "C:\\tools\\miniconda3\\envs\\lifebuddy\\lib\\site-packages\\flask_sqlalchemy\\__init__.py:872: FSADeprecationWarning: SQLALCHEMY_TRACK_MODIFICATIONS adds significant overhead and will be disabled by default in the future.  Set it to True or False to suppress this warning.\n",
      "  warnings.warn(FSADeprecationWarning(\n"
     ]
    }
   ],
   "source": [
    "import json;import datetime;from datetime import timedelta;import os, zipfile;\n",
    "import pandas as pd;from scipy.optimize import curve_fit;from scipy.stats import chisquare\n",
    "import numpy as np;import matplotlib.pyplot as plt\n",
    "from LifeBuddyWebApp import create_app, db\n",
    "from LifeBuddyWebApp.models import User, Post, Health_description, Health_measure\n",
    "proxyApp=create_app()\n",
    "ctx=proxyApp.app_context()\n",
    "ctx.push()\n",
    "from sqlalchemy import func\n",
    "\n",
    "from bokeh.plotting import figure, output_file, show\n",
    "import pandas as pd\n",
    "from bokeh.resources import CDN\n",
    "from bokeh.models import ColumnDataSource, Grid, LinearAxis, Plot, Text, Span\n",
    "from bokeh.io import curdoc\n",
    "from bokeh.themes import built_in_themes\n",
    "\n",
    "from bokeh.layouts import row\n",
    "import time\n",
    "import pytz\n",
    "import zoneinfo\n",
    "from pytz import timezone"
   ]
  },
  {
   "cell_type": "code",
   "execution_count": 1,
   "id": "2c2e3f92",
   "metadata": {},
   "outputs": [
    {
     "data": {
      "text/html": [
       "<style>.container { width:90% !important; }</style>"
      ],
      "text/plain": [
       "<IPython.core.display.HTML object>"
      ]
     },
     "metadata": {},
     "output_type": "display_data"
    }
   ],
   "source": [
    "#change width of current notebook cells\n",
    "from IPython.core.display import display, HTML\n",
    "display(HTML(\"<style>.container { width:90% !important; }</style>\"))"
   ]
  },
  {
   "cell_type": "code",
   "execution_count": 73,
   "id": "7f5237e4",
   "metadata": {},
   "outputs": [],
   "source": [
    "#get existing database health_measure.description id and var_datetime_utc ***TODO Make this filter on user*****\n",
    "base_query_health_description=db.session.query(Health_description)\n",
    "df_health_description=pd.read_sql(str(base_query_health_description),db.session.bind) \n",
    "#correct column names\n",
    "colNames=[i[len('health_description_'):] for i in list(df_health_description.columns)]\n",
    "col_names_dict={i:j for i,j in zip(list(df_health_description.columns),colNames)}\n",
    "df_health_description.rename(columns=col_names_dict, inplace=True)\n"
   ]
  },
  {
   "cell_type": "code",
   "execution_count": null,
   "id": "55533904",
   "metadata": {},
   "outputs": [],
   "source": []
  },
  {
   "cell_type": "code",
   "execution_count": 74,
   "id": "828d13f6",
   "metadata": {},
   "outputs": [],
   "source": [
    "#make dataframe of all values in chart ---Filter here\n",
    "df1=df_health_description.loc[(df_health_description.metric1_carido<100) ]\n",
    "#sort df1 by date\n",
    "df1=df1.sort_values(by=['datetime_of_activity'])\n",
    "\n",
    "#make lists for each data type\n",
    "#1 time (obs_x)\n",
    "obs_x1=[ datetime.datetime.strptime(date_string,'%Y-%m-%d %H:%M:%S.%f') for date_string in df1.datetime_of_activity]\n",
    "#2 heart rate (obs_y1)\n",
    "obs_y1=df1.metric1_carido\n",
    "obs_y1=[ plot_text_format(i) for i in obs_y1]"
   ]
  },
  {
   "cell_type": "code",
   "execution_count": 75,
   "id": "7ebaead3",
   "metadata": {},
   "outputs": [],
   "source": [
    "df2=df_health_description.loc[(df_health_description.metric1_carido.isnull()) & (df_health_description.var_activity=='Activity') ]\n",
    "#1 time (obs_x)\n",
    "obs_x2=[ datetime.datetime.strptime(date_string,'%Y-%m-%d %H:%M:%S.%f') for date_string in df2.datetime_of_activity]\n",
    "#3 activity (obs_y2)\n",
    "obs_y2=[i if i=='Activity' else '' for i in df2.var_activity ]"
   ]
  },
  {
   "cell_type": "code",
   "execution_count": 83,
   "id": "8cec8b8b",
   "metadata": {},
   "outputs": [],
   "source": [
    "# date1=datetime.datetime.strptime(df1.datetime_of_activity[2],'%Y-%m-%d %H:%M:%S.%f')\n",
    "date2=datetime.datetime.strptime(df1.datetime_of_activity.to_list()[-1],'%Y-%m-%d %H:%M:%S.%f')\n",
    "date1=date2 - timedelta(days=7)\n",
    "date2=date2 + timedelta(days=1)"
   ]
  },
  {
   "cell_type": "code",
   "execution_count": 85,
   "id": "8fb275c8",
   "metadata": {},
   "outputs": [
    {
     "data": {
      "text/plain": [
       "datetime.datetime(2021, 8, 13, 14, 4, 9, 641000)"
      ]
     },
     "execution_count": 85,
     "metadata": {},
     "output_type": "execute_result"
    }
   ],
   "source": [
    "date1"
   ]
  },
  {
   "cell_type": "code",
   "execution_count": 115,
   "id": "9d9cc573",
   "metadata": {},
   "outputs": [],
   "source": [
    "fig1=figure(toolbar_location=None,tools='xwheel_zoom,xpan',active_scroll='xwheel_zoom',\n",
    "            x_range=(date1,date2),y_range=(-10,90),width=800, height=300)\n",
    "\n",
    "#add cardio_metric1\n",
    "source1 = ColumnDataSource(dict(x=obs_x1, y=obs_y1, text=obs_y1))\n",
    "glyph1 = Text(text=\"text\", text_color=\"#d6fbf7\")\n",
    "fig1.add_glyph(source1, glyph1)\n",
    "\n",
    "#add activity data\n",
    "source2 = ColumnDataSource(dict(x=obs_x2, y=[80], text=obs_y2))\n",
    "glyph2 = Text(text=\"text\", text_color=\"red\")\n",
    "#add line for activity data\n",
    "line_start_time=time.mktime(obs_x2[0].timetuple())*1000\n",
    "important_time = Span(location=line_start_time, dimension='height', line_color='red', line_dash='dashed', line_width=3)\n",
    "\n",
    "line_start_time2=time.mktime((obs_x2[0]+timedelta(days=1)).timetuple())*1000\n",
    "important_time2 = Span(location=line_start_time2, dimension='height', line_color='blue', line_dash='dashed', line_width=3)\n",
    "\n",
    "fig1.add_layout(important_time)\n",
    "fig1.add_layout(important_time2)\n",
    "\n",
    "fig1.add_glyph(source2, glyph2)\n",
    "\n",
    "curdoc().theme = 'contrast'\n",
    "\n",
    "\n",
    "show(fig1)"
   ]
  },
  {
   "cell_type": "code",
   "execution_count": 110,
   "id": "ace78bb8",
   "metadata": {},
   "outputs": [
    {
     "data": {
      "text/plain": [
       "datetime.datetime(2021, 8, 17, 15, 0)"
      ]
     },
     "execution_count": 110,
     "metadata": {},
     "output_type": "execute_result"
    }
   ],
   "source": [
    "line_date2=obs_x2[0]+timedelta(days=1)\n",
    "line_date2"
   ]
  },
  {
   "cell_type": "code",
   "execution_count": 112,
   "id": "92a72eac",
   "metadata": {},
   "outputs": [
    {
     "data": {
      "text/plain": [
       "datetime.datetime(2021, 8, 16, 15, 0)"
      ]
     },
     "execution_count": 112,
     "metadata": {},
     "output_type": "execute_result"
    }
   ],
   "source": [
    "obs_x2[0]"
   ]
  },
  {
   "cell_type": "code",
   "execution_count": 58,
   "id": "bc796f7c",
   "metadata": {},
   "outputs": [],
   "source": [
    "def plot_text_format(x):\n",
    "    return ('%.1f' % x).rstrip('0').rstrip('.')"
   ]
  },
  {
   "cell_type": "code",
   "execution_count": null,
   "id": "34c307c2",
   "metadata": {},
   "outputs": [],
   "source": []
  },
  {
   "cell_type": "code",
   "execution_count": 7,
   "id": "2acaea2e",
   "metadata": {},
   "outputs": [],
   "source": [
    "datetime_var=datetime.datetime.now()\n",
    "date_str=datetime_var.date().strftime(\"%Y-%m-%d\")"
   ]
  },
  {
   "cell_type": "code",
   "execution_count": 50,
   "id": "62935b0c",
   "metadata": {},
   "outputs": [
    {
     "data": {
      "text/plain": [
       "-240.0"
      ]
     },
     "execution_count": 50,
     "metadata": {},
     "output_type": "execute_result"
    }
   ],
   "source": [
    "au_tz = timezone('US/Eastern')\n",
    "datetime_var=datetime.datetime.now(tz=au_tz)\n",
    "\n",
    "\n",
    "\n",
    "datetime_var_utc=datetime.datetime.now(tz=pytz.UTC)\n",
    "difference=datetime_var_utc-datetime_var\n",
    "datetime_var.utcoffset().total_seconds()/60\n",
    "# print(datetime_var_utc)\n",
    "# difference.total_seconds()"
   ]
  },
  {
   "cell_type": "code",
   "execution_count": 51,
   "id": "8f461b17",
   "metadata": {},
   "outputs": [
    {
     "ename": "AttributeError",
     "evalue": "'NoneType' object has no attribute 'total_seconds'",
     "output_type": "error",
     "traceback": [
      "\u001b[1;31m---------------------------------------------------------------------------\u001b[0m",
      "\u001b[1;31mAttributeError\u001b[0m                            Traceback (most recent call last)",
      "\u001b[1;32m<ipython-input-51-fa85753460d9>\u001b[0m in \u001b[0;36m<module>\u001b[1;34m\u001b[0m\n\u001b[0;32m      4\u001b[0m \u001b[1;31m# aware=au_tz.localize(date_time_obj)\u001b[0m\u001b[1;33m\u001b[0m\u001b[1;33m\u001b[0m\u001b[1;33m\u001b[0m\u001b[0m\n\u001b[0;32m      5\u001b[0m \u001b[1;31m# date_time_obj.replace(tzinfo=pytz.UTC)\u001b[0m\u001b[1;33m\u001b[0m\u001b[1;33m\u001b[0m\u001b[1;33m\u001b[0m\u001b[0m\n\u001b[1;32m----> 6\u001b[1;33m \u001b[0mprint\u001b[0m\u001b[1;33m(\u001b[0m\u001b[0mdate_time_obj\u001b[0m\u001b[1;33m.\u001b[0m\u001b[0mutcoffset\u001b[0m\u001b[1;33m(\u001b[0m\u001b[1;33m)\u001b[0m\u001b[1;33m.\u001b[0m\u001b[0mtotal_seconds\u001b[0m\u001b[1;33m(\u001b[0m\u001b[1;33m)\u001b[0m\u001b[1;33m/\u001b[0m\u001b[1;36m160\u001b[0m\u001b[1;33m)\u001b[0m\u001b[1;33m\u001b[0m\u001b[1;33m\u001b[0m\u001b[0m\n\u001b[0m",
      "\u001b[1;31mAttributeError\u001b[0m: 'NoneType' object has no attribute 'total_seconds'"
     ]
    }
   ],
   "source": [
    "date_str=datetime_var.date().strftime(\"%Y-%m-%d\")\n",
    "time_str=datetime_var.time().strftime(\"%H:%M\")\n",
    "date_time_obj = datetime.datetime.strptime(date_str+time_str, '%Y-%m-%d%H:%M').replace(tzinfo=au_tz)\n",
    "# aware=au_tz.localize(date_time_obj)\n",
    "# date_time_obj.replace(tzinfo=pytz.UTC)\n",
    "print(date_time_obj.utcoffset().total_seconds()/160)"
   ]
  },
  {
   "cell_type": "code",
   "execution_count": 56,
   "id": "a19a57ea",
   "metadata": {},
   "outputs": [
    {
     "name": "stdout",
     "output_type": "stream",
     "text": [
      "-296.0\n"
     ]
    }
   ],
   "source": [
    "#get date time string\n",
    "au_tz = timezone('US/Eastern')\n",
    "datetime_var=datetime.datetime.now(tz=au_tz)\n",
    "date_str=datetime_var.date().strftime(\"%Y-%m-%d\")\n",
    "time_str=datetime_var.time().strftime(\"%H:%M\")\n",
    "#covert to naive datetime object\n",
    "navive_datetime_obj = datetime.datetime.strptime(date_str+time_str, '%Y-%m-%d%H:%M').replace(tzinfo=au_tz)\n",
    "print(navive_datetime_obj.utcoffset().total_seconds()/60)\n",
    "#convert naive date time object to aware datetime object\n",
    "#get time difference of aware datetime object"
   ]
  },
  {
   "cell_type": "code",
   "execution_count": 61,
   "id": "dc1b57b6",
   "metadata": {},
   "outputs": [
    {
     "data": {
      "text/plain": [
       "<DstTzInfo 'US/Eastern' LMT-1 day, 19:04:00 STD>"
      ]
     },
     "execution_count": 61,
     "metadata": {},
     "output_type": "execute_result"
    }
   ],
   "source": [
    "navive_datetime_obj.tzinfo"
   ]
  },
  {
   "cell_type": "code",
   "execution_count": 1,
   "id": "c67b8116",
   "metadata": {},
   "outputs": [
    {
     "ename": "NameError",
     "evalue": "name 'datetime' is not defined",
     "output_type": "error",
     "traceback": [
      "\u001b[1;31m---------------------------------------------------------------------------\u001b[0m",
      "\u001b[1;31mNameError\u001b[0m                                 Traceback (most recent call last)",
      "\u001b[1;32m<ipython-input-1-eb314dfc4b65>\u001b[0m in \u001b[0;36m<module>\u001b[1;34m\u001b[0m\n\u001b[1;32m----> 1\u001b[1;33m \u001b[0mdatetime_var\u001b[0m\u001b[1;33m=\u001b[0m\u001b[0mdatetime\u001b[0m\u001b[1;33m.\u001b[0m\u001b[0mdatetime\u001b[0m\u001b[1;33m.\u001b[0m\u001b[0mnow\u001b[0m\u001b[1;33m(\u001b[0m\u001b[1;33m)\u001b[0m\u001b[1;33m\u001b[0m\u001b[1;33m\u001b[0m\u001b[0m\n\u001b[0m\u001b[0;32m      2\u001b[0m \u001b[0mdate_str\u001b[0m\u001b[1;33m=\u001b[0m\u001b[0mdatetime_var\u001b[0m\u001b[1;33m.\u001b[0m\u001b[0mdate\u001b[0m\u001b[1;33m(\u001b[0m\u001b[1;33m)\u001b[0m\u001b[1;33m.\u001b[0m\u001b[0mstrftime\u001b[0m\u001b[1;33m(\u001b[0m\u001b[1;34m\"%Y-%m-%d\"\u001b[0m\u001b[1;33m)\u001b[0m\u001b[1;33m\u001b[0m\u001b[1;33m\u001b[0m\u001b[0m\n\u001b[0;32m      3\u001b[0m \u001b[0mtime_str\u001b[0m\u001b[1;33m=\u001b[0m\u001b[0mdatetime_var\u001b[0m\u001b[1;33m.\u001b[0m\u001b[0mtime\u001b[0m\u001b[1;33m(\u001b[0m\u001b[1;33m)\u001b[0m\u001b[1;33m.\u001b[0m\u001b[0mstrftime\u001b[0m\u001b[1;33m(\u001b[0m\u001b[1;34m\"%H:%M\"\u001b[0m\u001b[1;33m)\u001b[0m\u001b[1;33m\u001b[0m\u001b[1;33m\u001b[0m\u001b[0m\n",
      "\u001b[1;31mNameError\u001b[0m: name 'datetime' is not defined"
     ]
    }
   ],
   "source": [
    "datetime_var=datetime.datetime.now()\n",
    "date_str=datetime_var.date().strftime(\"%Y-%m-%d\")\n",
    "time_str=datetime_var.time().strftime(\"%H:%M\")"
   ]
  },
  {
   "cell_type": "code",
   "execution_count": 65,
   "id": "758c64dc",
   "metadata": {},
   "outputs": [
    {
     "name": "stdout",
     "output_type": "stream",
     "text": [
      "2021-08-23 13:37\n"
     ]
    }
   ],
   "source": [
    "print(date_str, time_str)"
   ]
  },
  {
   "cell_type": "code",
   "execution_count": 67,
   "id": "036fe8a9",
   "metadata": {},
   "outputs": [],
   "source": [
    "unaware= datetime.datetime.strptime(date_str+time_str, '%Y-%m-%d%H:%M')\n",
    "unaware.tzinfo"
   ]
  },
  {
   "cell_type": "code",
   "execution_count": 84,
   "id": "53390592",
   "metadata": {},
   "outputs": [
    {
     "data": {
      "text/plain": [
       "<DstTzInfo 'US/Eastern' EDT-1 day, 20:00:00 DST>"
      ]
     },
     "execution_count": 84,
     "metadata": {},
     "output_type": "execute_result"
    }
   ],
   "source": [
    "aware= datetime.datetime.strptime(date_str+time_str, '%Y-%m-%d%H:%M').astimezone(pytz.timezone('US/Eastern'))\n",
    "aware.tzinfo\n",
    "# aware.utcoffset()\n",
    "# (aware.utcoffset().total_seconds()/60)/60"
   ]
  },
  {
   "cell_type": "code",
   "execution_count": 76,
   "id": "c3d8e4f0",
   "metadata": {},
   "outputs": [
    {
     "data": {
      "text/plain": [
       "datetime.datetime(2021, 8, 23, 13, 37, tzinfo=<DstTzInfo 'Europe/Paris' LMT+0:09:00 STD>)"
      ]
     },
     "execution_count": 76,
     "metadata": {},
     "output_type": "execute_result"
    }
   ],
   "source": [
    "paris_tz=timezone('Europe/Paris')\n",
    "paris_aware= datetime.datetime.strptime(date_str+time_str, '%Y-%m-%d%H:%M').replace(tzinfo=paris_tz)\n",
    "paris_aware"
   ]
  },
  {
   "cell_type": "code",
   "execution_count": 79,
   "id": "1a861ba8",
   "metadata": {},
   "outputs": [
    {
     "data": {
      "text/plain": [
       "9.0"
      ]
     },
     "execution_count": 79,
     "metadata": {},
     "output_type": "execute_result"
    }
   ],
   "source": [
    "paris_aware.utcoffset().total_seconds()/60"
   ]
  },
  {
   "cell_type": "code",
   "execution_count": null,
   "id": "f80394cc",
   "metadata": {},
   "outputs": [],
   "source": []
  },
  {
   "cell_type": "code",
   "execution_count": null,
   "id": "eb6c0fdd",
   "metadata": {},
   "outputs": [],
   "source": []
  },
  {
   "cell_type": "code",
   "execution_count": 78,
   "id": "2cf3bc12",
   "metadata": {},
   "outputs": [
    {
     "ename": "AttributeError",
     "evalue": "'set' object has no attribute 'utcoffset'",
     "output_type": "error",
     "traceback": [
      "\u001b[1;31m---------------------------------------------------------------------------\u001b[0m",
      "\u001b[1;31mAttributeError\u001b[0m                            Traceback (most recent call last)",
      "\u001b[1;32m<ipython-input-78-f55fabc8bc2f>\u001b[0m in \u001b[0;36m<module>\u001b[1;34m\u001b[0m\n\u001b[0;32m      1\u001b[0m \u001b[0mtimezone_list\u001b[0m\u001b[1;33m=\u001b[0m\u001b[0mzoneinfo\u001b[0m\u001b[1;33m.\u001b[0m\u001b[0mavailable_timezones\u001b[0m\u001b[1;33m(\u001b[0m\u001b[1;33m)\u001b[0m\u001b[1;33m\u001b[0m\u001b[1;33m\u001b[0m\u001b[0m\n\u001b[1;32m----> 2\u001b[1;33m \u001b[1;33m(\u001b[0m\u001b[0mtimezone_list\u001b[0m\u001b[1;33m.\u001b[0m\u001b[0mutcoffset\u001b[0m\u001b[1;33m(\u001b[0m\u001b[1;33m)\u001b[0m\u001b[1;33m.\u001b[0m\u001b[0mtotal_seconds\u001b[0m\u001b[1;33m(\u001b[0m\u001b[1;33m)\u001b[0m\u001b[1;33m/\u001b[0m\u001b[1;36m60\u001b[0m\u001b[1;33m)\u001b[0m\u001b[1;33m/\u001b[0m\u001b[1;36m60\u001b[0m\u001b[1;33m\u001b[0m\u001b[1;33m\u001b[0m\u001b[0m\n\u001b[0m",
      "\u001b[1;31mAttributeError\u001b[0m: 'set' object has no attribute 'utcoffset'"
     ]
    }
   ],
   "source": [
    "timezone_list=zoneinfo.available_timezones()\n",
    "(timezone_list.utcoffset().total_seconds()/60)/60"
   ]
  },
  {
   "cell_type": "code",
   "execution_count": 4,
   "id": "d8f16492",
   "metadata": {},
   "outputs": [
    {
     "data": {
      "text/plain": [
       "datetime.datetime(2021, 8, 22, 20, 39)"
      ]
     },
     "execution_count": 4,
     "metadata": {},
     "output_type": "execute_result"
    }
   ],
   "source": [
    "# activity_date='2021-08-22';activity_time='20:39'\n",
    "date_time_obj = datetime.datetime.strptime(activity_date+activity_time, '%Y-%m-%d%H:%M')\n",
    "date_time_obj"
   ]
  },
  {
   "cell_type": "code",
   "execution_count": 12,
   "id": "04333076",
   "metadata": {},
   "outputs": [
    {
     "data": {
      "text/plain": [
       "0.0"
      ]
     },
     "execution_count": 12,
     "metadata": {},
     "output_type": "execute_result"
    }
   ],
   "source": [
    "#get timezeon difference in minutes from utc\n",
    "au_tz = timezone('Europe/Paris')\n",
    "utc_time=datetime.datetime.now(tz=pytz.UTC)\n",
    "cur_zone_time=datetime.datetime.now(tz=au_tz)\n",
    "duration=(utc_time-cur_zone_time)\n",
    "duration.total_seconds()"
   ]
  },
  {
   "cell_type": "code",
   "execution_count": 166,
   "id": "fc1085dd",
   "metadata": {},
   "outputs": [
    {
     "data": {
      "text/plain": [
       "datetime.datetime(2021, 8, 22, 18, 57, 12, 782422, tzinfo=<UTC>)"
      ]
     },
     "execution_count": 166,
     "metadata": {},
     "output_type": "execute_result"
    }
   ],
   "source": [
    "utc_time"
   ]
  },
  {
   "cell_type": "code",
   "execution_count": 174,
   "id": "314fe0b2",
   "metadata": {},
   "outputs": [
    {
     "data": {
      "text/plain": [
       "120.0"
      ]
     },
     "execution_count": 174,
     "metadata": {},
     "output_type": "execute_result"
    }
   ],
   "source": [
    "cur_zone_time.utcoffset().total_seconds()/60"
   ]
  },
  {
   "cell_type": "code",
   "execution_count": null,
   "id": "5b6c5caf",
   "metadata": {},
   "outputs": [],
   "source": []
  },
  {
   "cell_type": "code",
   "execution_count": null,
   "id": "2befdc3d",
   "metadata": {},
   "outputs": [],
   "source": []
  },
  {
   "cell_type": "code",
   "execution_count": null,
   "id": "81e8c47c",
   "metadata": {},
   "outputs": [],
   "source": []
  },
  {
   "cell_type": "code",
   "execution_count": null,
   "id": "978c0724",
   "metadata": {},
   "outputs": [],
   "source": []
  },
  {
   "cell_type": "code",
   "execution_count": null,
   "id": "dbeecb78",
   "metadata": {},
   "outputs": [],
   "source": []
  },
  {
   "cell_type": "code",
   "execution_count": 128,
   "id": "013cd280",
   "metadata": {},
   "outputs": [],
   "source": [
    "base_query_health_description=db.session.query(Health_description).filter(Health_description.user_id==1)\n",
    "df_health_description=pd.read_sql(str(base_query_health_description)[:-1]+str(1),db.session.bind)"
   ]
  },
  {
   "cell_type": "code",
   "execution_count": 141,
   "id": "9a5d83c0",
   "metadata": {},
   "outputs": [],
   "source": [
    "base_query_health_description=db.session.query(Health_description).filter(Health_description.var_activity==\"YOGA\")\n",
    "# print(str(base_query_health_description)[:-1]+str(\"YOGA\"))\n",
    "filter_var=\"\"\"\n",
    "\"YOGA\"\n",
    "\"\"\"\n",
    "df_health_description1=pd.read_sql(str(base_query_health_description)[:-1]+filter_var,db.session.bind)"
   ]
  },
  {
   "cell_type": "code",
   "execution_count": 143,
   "id": "99cabee0",
   "metadata": {},
   "outputs": [
    {
     "data": {
      "text/html": [
       "<div>\n",
       "<style scoped>\n",
       "    .dataframe tbody tr th:only-of-type {\n",
       "        vertical-align: middle;\n",
       "    }\n",
       "\n",
       "    .dataframe tbody tr th {\n",
       "        vertical-align: top;\n",
       "    }\n",
       "\n",
       "    .dataframe thead th {\n",
       "        text-align: right;\n",
       "    }\n",
       "</style>\n",
       "<table border=\"1\" class=\"dataframe\">\n",
       "  <thead>\n",
       "    <tr style=\"text-align: right;\">\n",
       "      <th></th>\n",
       "      <th>health_description_id</th>\n",
       "      <th>health_description_datetime_of_activity</th>\n",
       "      <th>health_description_var_activity</th>\n",
       "      <th>health_description_var_type</th>\n",
       "      <th>health_description_var_periodicity</th>\n",
       "      <th>health_description_var_timezone_utc_delta_in_mins</th>\n",
       "      <th>health_description_time_stamp_utc</th>\n",
       "      <th>health_description_user_id</th>\n",
       "      <th>health_description_source_filename</th>\n",
       "      <th>health_description_metric1_carido</th>\n",
       "      <th>health_description_metric2_session_duration</th>\n",
       "      <th>health_description_metric3</th>\n",
       "      <th>health_description_metric4</th>\n",
       "      <th>health_description_metric5</th>\n",
       "    </tr>\n",
       "  </thead>\n",
       "  <tbody>\n",
       "    <tr>\n",
       "      <th>0</th>\n",
       "      <td>1</td>\n",
       "      <td>2021-06-09 12:08:34.635000</td>\n",
       "      <td>YOGA</td>\n",
       "      <td>heart rate</td>\n",
       "      <td>seconds</td>\n",
       "      <td>-240.0</td>\n",
       "      <td>2021-08-22 15:13:51.668660</td>\n",
       "      <td>1</td>\n",
       "      <td>training-session-2021-06-09-6138678344-024ee81...</td>\n",
       "      <td>21.733782</td>\n",
       "      <td>359.0</td>\n",
       "      <td>None</td>\n",
       "      <td>None</td>\n",
       "      <td>None</td>\n",
       "    </tr>\n",
       "    <tr>\n",
       "      <th>1</th>\n",
       "      <td>13</td>\n",
       "      <td>2021-03-26 11:03:26.601000</td>\n",
       "      <td>YOGA</td>\n",
       "      <td>heart rate</td>\n",
       "      <td>seconds</td>\n",
       "      <td>-240.0</td>\n",
       "      <td>2021-08-22 15:13:52.000689</td>\n",
       "      <td>1</td>\n",
       "      <td>training-session-2021-03-26-5835743489-0b1602e...</td>\n",
       "      <td>35.388216</td>\n",
       "      <td>666.0</td>\n",
       "      <td>None</td>\n",
       "      <td>None</td>\n",
       "      <td>None</td>\n",
       "    </tr>\n",
       "    <tr>\n",
       "      <th>2</th>\n",
       "      <td>17</td>\n",
       "      <td>2021-08-09 14:18:16.796000</td>\n",
       "      <td>YOGA</td>\n",
       "      <td>heart rate</td>\n",
       "      <td>seconds</td>\n",
       "      <td>120.0</td>\n",
       "      <td>2021-08-22 15:13:52.132196</td>\n",
       "      <td>1</td>\n",
       "      <td>training-session-2021-08-09-6362409969-0fb4326...</td>\n",
       "      <td>53.317569</td>\n",
       "      <td>879.0</td>\n",
       "      <td>None</td>\n",
       "      <td>None</td>\n",
       "      <td>None</td>\n",
       "    </tr>\n",
       "    <tr>\n",
       "      <th>3</th>\n",
       "      <td>18</td>\n",
       "      <td>2021-05-18 11:32:12.553000</td>\n",
       "      <td>YOGA</td>\n",
       "      <td>heart rate</td>\n",
       "      <td>seconds</td>\n",
       "      <td>-240.0</td>\n",
       "      <td>2021-08-22 15:13:52.169951</td>\n",
       "      <td>1</td>\n",
       "      <td>training-session-2021-05-18-6052767144-102889e...</td>\n",
       "      <td>11.919939</td>\n",
       "      <td>728.0</td>\n",
       "      <td>None</td>\n",
       "      <td>None</td>\n",
       "      <td>None</td>\n",
       "    </tr>\n",
       "    <tr>\n",
       "      <th>4</th>\n",
       "      <td>19</td>\n",
       "      <td>2021-04-25 12:47:06.940000</td>\n",
       "      <td>YOGA</td>\n",
       "      <td>heart rate</td>\n",
       "      <td>seconds</td>\n",
       "      <td>-240.0</td>\n",
       "      <td>2021-08-22 15:13:52.185581</td>\n",
       "      <td>1</td>\n",
       "      <td>training-session-2021-04-25-5967960349-103a12b...</td>\n",
       "      <td>20.440003</td>\n",
       "      <td>622.0</td>\n",
       "      <td>None</td>\n",
       "      <td>None</td>\n",
       "      <td>None</td>\n",
       "    </tr>\n",
       "  </tbody>\n",
       "</table>\n",
       "</div>"
      ],
      "text/plain": [
       "   health_description_id health_description_datetime_of_activity  \\\n",
       "0                      1              2021-06-09 12:08:34.635000   \n",
       "1                     13              2021-03-26 11:03:26.601000   \n",
       "2                     17              2021-08-09 14:18:16.796000   \n",
       "3                     18              2021-05-18 11:32:12.553000   \n",
       "4                     19              2021-04-25 12:47:06.940000   \n",
       "\n",
       "  health_description_var_activity health_description_var_type  \\\n",
       "0                            YOGA                  heart rate   \n",
       "1                            YOGA                  heart rate   \n",
       "2                            YOGA                  heart rate   \n",
       "3                            YOGA                  heart rate   \n",
       "4                            YOGA                  heart rate   \n",
       "\n",
       "  health_description_var_periodicity  \\\n",
       "0                            seconds   \n",
       "1                            seconds   \n",
       "2                            seconds   \n",
       "3                            seconds   \n",
       "4                            seconds   \n",
       "\n",
       "   health_description_var_timezone_utc_delta_in_mins  \\\n",
       "0                                             -240.0   \n",
       "1                                             -240.0   \n",
       "2                                              120.0   \n",
       "3                                             -240.0   \n",
       "4                                             -240.0   \n",
       "\n",
       "  health_description_time_stamp_utc  health_description_user_id  \\\n",
       "0        2021-08-22 15:13:51.668660                           1   \n",
       "1        2021-08-22 15:13:52.000689                           1   \n",
       "2        2021-08-22 15:13:52.132196                           1   \n",
       "3        2021-08-22 15:13:52.169951                           1   \n",
       "4        2021-08-22 15:13:52.185581                           1   \n",
       "\n",
       "                  health_description_source_filename  \\\n",
       "0  training-session-2021-06-09-6138678344-024ee81...   \n",
       "1  training-session-2021-03-26-5835743489-0b1602e...   \n",
       "2  training-session-2021-08-09-6362409969-0fb4326...   \n",
       "3  training-session-2021-05-18-6052767144-102889e...   \n",
       "4  training-session-2021-04-25-5967960349-103a12b...   \n",
       "\n",
       "   health_description_metric1_carido  \\\n",
       "0                          21.733782   \n",
       "1                          35.388216   \n",
       "2                          53.317569   \n",
       "3                          11.919939   \n",
       "4                          20.440003   \n",
       "\n",
       "   health_description_metric2_session_duration health_description_metric3  \\\n",
       "0                                        359.0                       None   \n",
       "1                                        666.0                       None   \n",
       "2                                        879.0                       None   \n",
       "3                                        728.0                       None   \n",
       "4                                        622.0                       None   \n",
       "\n",
       "  health_description_metric4 health_description_metric5  \n",
       "0                       None                       None  \n",
       "1                       None                       None  \n",
       "2                       None                       None  \n",
       "3                       None                       None  \n",
       "4                       None                       None  "
      ]
     },
     "execution_count": 143,
     "metadata": {},
     "output_type": "execute_result"
    }
   ],
   "source": [
    "df_health_description1.head()"
   ]
  },
  {
   "cell_type": "code",
   "execution_count": null,
   "id": "2cd8da42",
   "metadata": {},
   "outputs": [],
   "source": []
  },
  {
   "cell_type": "code",
   "execution_count": null,
   "id": "0b6d3620",
   "metadata": {},
   "outputs": [],
   "source": []
  },
  {
   "cell_type": "code",
   "execution_count": null,
   "id": "0676254a",
   "metadata": {},
   "outputs": [],
   "source": []
  },
  {
   "cell_type": "code",
   "execution_count": null,
   "id": "de004070",
   "metadata": {},
   "outputs": [],
   "source": []
  },
  {
   "cell_type": "code",
   "execution_count": null,
   "id": "4336adfa",
   "metadata": {},
   "outputs": [],
   "source": []
  },
  {
   "cell_type": "code",
   "execution_count": null,
   "id": "aa2e1bcd",
   "metadata": {},
   "outputs": [],
   "source": []
  }
 ],
 "metadata": {
  "kernelspec": {
   "display_name": "Python 3",
   "language": "python",
   "name": "python3"
  },
  "language_info": {
   "codemirror_mode": {
    "name": "ipython",
    "version": 3
   },
   "file_extension": ".py",
   "mimetype": "text/x-python",
   "name": "python",
   "nbconvert_exporter": "python",
   "pygments_lexer": "ipython3",
   "version": "3.9.5"
  }
 },
 "nbformat": 4,
 "nbformat_minor": 5
}
