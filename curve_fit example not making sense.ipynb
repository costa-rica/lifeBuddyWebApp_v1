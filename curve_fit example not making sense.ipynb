{
 "cells": [
  {
   "cell_type": "code",
   "execution_count": 1,
   "id": "e497c7d6",
   "metadata": {},
   "outputs": [],
   "source": [
    "import pandas as pd\n",
    "import numpy as np\n",
    "from scipy.optimize import curve_fit\n",
    "import matplotlib.pyplot as plt"
   ]
  },
  {
   "cell_type": "code",
   "execution_count": 3,
   "id": "e05e4af2",
   "metadata": {},
   "outputs": [],
   "source": [
    "excel_file=r\"D:\\OneDrive\\Documents\\professional\\20210710lifeBuddy\\misc\\excel_solver_optimization.xlsx\"\n",
    "df=pd.read_excel(excel_file,sheet_name='data')"
   ]
  },
  {
   "cell_type": "code",
   "execution_count": 7,
   "id": "0b7ad122",
   "metadata": {},
   "outputs": [],
   "source": [
    "observed_x=df.time.to_list()\n",
    "observed_y=df.heartrate.to_list()"
   ]
  },
  {
   "cell_type": "code",
   "execution_count": 4,
   "id": "3b814356",
   "metadata": {},
   "outputs": [],
   "source": [
    "#Model -- Is this matching what I have in excel Michaelis-M eq sheet, D5?\n",
    "def func_m(time_var, max_var, shape_var):\n",
    "    return (max_var *time_var)/(shape_var + time_var)"
   ]
  },
  {
   "cell_type": "code",
   "execution_count": 12,
   "id": "1d10248b",
   "metadata": {},
   "outputs": [
    {
     "data": {
      "text/plain": [
       "array([ 10.283599  , -18.90347909])"
      ]
     },
     "execution_count": 12,
     "metadata": {},
     "output_type": "execute_result"
    }
   ],
   "source": [
    "#perform curve\n",
    "popt, pcov = curve_fit(func_m, observed_x, observed_y)\n",
    "popt"
   ]
  },
  {
   "cell_type": "code",
   "execution_count": 22,
   "id": "3bed7813",
   "metadata": {},
   "outputs": [],
   "source": [
    "#This is found in excel workbook in Michaelis-M eq sheet, column L\n",
    "optimized_parameters_excel=[147.7072, 3.57971]"
   ]
  },
  {
   "cell_type": "code",
   "execution_count": 23,
   "id": "47f6eb9e",
   "metadata": {},
   "outputs": [],
   "source": [
    "predicted_y=[func_m(i, *popt) for i in observed_x]\n",
    "predicted_y_excel=[func_m(i, *optimized_parameters_excel) for i in observed_x]"
   ]
  },
  {
   "cell_type": "code",
   "execution_count": 26,
   "id": "486e6569",
   "metadata": {},
   "outputs": [
    {
     "data": {
      "image/png": "[encoded data removed]",
      "text/plain": [
       "<Figure size 432x288 with 1 Axes>"
      ]
     },
     "metadata": {
      "needs_background": "light"
     },
     "output_type": "display_data"
    }
   ],
   "source": [
    "plt.plot(observed_x, observed_y,'r', label='Observed')\n",
    "plt.plot(observed_x, predicted_y,'b', label='scipy predicted')\n",
    "plt.plot(observed_x, predicted_y_excel,'g', label='excel predicted')\n",
    "plt.legend(loc='best')\n",
    "plt.show()"
   ]
  },
  {
   "cell_type": "code",
   "execution_count": null,
   "id": "b0d1a61b",
   "metadata": {},
   "outputs": [],
   "source": []
  }
 ],
 "metadata": {
  "kernelspec": {
   "display_name": "Python 3",
   "language": "python",
   "name": "python3"
  },
  "language_info": {
   "codemirror_mode": {
    "name": "ipython",
    "version": 3
   },
   "file_extension": ".py",
   "mimetype": "text/x-python",
   "name": "python",
   "nbconvert_exporter": "python",
   "pygments_lexer": "ipython3",
   "version": "3.9.5"
  }
 },
 "nbformat": 4,
 "nbformat_minor": 5
}
