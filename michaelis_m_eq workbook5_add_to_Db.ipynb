{
 "cells": [
  {
   "cell_type": "code",
   "execution_count": 1,
   "id": "82d84996",
   "metadata": {},
   "outputs": [
    {
     "name": "stderr",
     "output_type": "stream",
     "text": [
      "C:\\tools\\miniconda3\\envs\\lifebuddy\\lib\\site-packages\\flask_sqlalchemy\\__init__.py:872: FSADeprecationWarning: SQLALCHEMY_TRACK_MODIFICATIONS adds significant overhead and will be disabled by default in the future.  Set it to True or False to suppress this warning.\n",
      "  warnings.warn(FSADeprecationWarning(\n"
     ]
    }
   ],
   "source": [
    "import json\n",
    "import datetime\n",
    "from datetime import timedelta\n",
    "import os, zipfile\n",
    "import pandas as pd\n",
    "from scipy.optimize import curve_fit\n",
    "from scipy.stats import chisquare\n",
    "import numpy as np\n",
    "import matplotlib.pyplot as plt\n",
    "\n",
    "from LifeBuddyWebApp import create_app, db\n",
    "from LifeBuddyWebApp.models import User, Post, Health_description, Health_measure\n",
    "proxyApp=create_app()\n",
    "ctx=proxyApp.app_context()\n",
    "ctx.push()\n",
    "from sqlalchemy import func"
   ]
  },
  {
   "cell_type": "code",
   "execution_count": null,
   "id": "941caffc",
   "metadata": {},
   "outputs": [],
   "source": [
    "#change width of current notebook cells\n",
    "from IPython.core.display import display, HTML\n",
    "display(HTML(\"<style>.container { width:90% !important; }</style>\"))"
   ]
  },
  {
   "cell_type": "code",
   "execution_count": 2,
   "id": "dd8822ec",
   "metadata": {},
   "outputs": [],
   "source": [
    "data_zip_med=r\"C:\\Users\\captian2020\\Downloads\\polar-user-data-export_6103854c-9559-4056-8b5d-89feb507be70.zip\"\n",
    "polar_zip=zipfile.ZipFile(data_zip_med)\n",
    "\n",
    "#read all files in zip to dictionary of file names and json (each value is a training_session)\n",
    "polar_data_dict={}\n",
    "for i in polar_zip.filelist:\n",
    "    polar_data_dict[i.filename]=json.loads(polar_zip.read(i.filename))"
   ]
  },
  {
   "cell_type": "code",
   "execution_count": 48,
   "id": "5b013225",
   "metadata": {},
   "outputs": [
    {
     "name": "stdout",
     "output_type": "stream",
     "text": [
      "cest none\n"
     ]
    }
   ],
   "source": [
    "#get max id from Health_description table\n",
    "max_id=db.session.query(func.max(Health_description.id)).first()[0]\n",
    "\n",
    "if max_id==None:\n",
    "    print('cest none')\n",
    "    "
   ]
  },
  {
   "cell_type": "code",
   "execution_count": 14,
   "id": "d07d1579",
   "metadata": {},
   "outputs": [],
   "source": [
    "df=pd.DataFrame()"
   ]
  },
  {
   "cell_type": "code",
   "execution_count": 15,
   "id": "e63b18de",
   "metadata": {},
   "outputs": [
    {
     "data": {
      "text/html": [
       "<div>\n",
       "<style scoped>\n",
       "    .dataframe tbody tr th:only-of-type {\n",
       "        vertical-align: middle;\n",
       "    }\n",
       "\n",
       "    .dataframe tbody tr th {\n",
       "        vertical-align: top;\n",
       "    }\n",
       "\n",
       "    .dataframe thead th {\n",
       "        text-align: right;\n",
       "    }\n",
       "</style>\n",
       "<table border=\"1\" class=\"dataframe\">\n",
       "  <thead>\n",
       "    <tr style=\"text-align: right;\">\n",
       "      <th></th>\n",
       "    </tr>\n",
       "  </thead>\n",
       "  <tbody>\n",
       "  </tbody>\n",
       "</table>\n",
       "</div>"
      ],
      "text/plain": [
       "Empty DataFrame\n",
       "Columns: []\n",
       "Index: []"
      ]
     },
     "execution_count": 15,
     "metadata": {},
     "output_type": "execute_result"
    }
   ],
   "source": [
    "df"
   ]
  },
  {
   "cell_type": "code",
   "execution_count": 16,
   "id": "7df269cf",
   "metadata": {},
   "outputs": [],
   "source": [
    "df['new_coloumn2']=[1,2]"
   ]
  },
  {
   "cell_type": "code",
   "execution_count": 17,
   "id": "3f536afe",
   "metadata": {},
   "outputs": [
    {
     "data": {
      "text/html": [
       "<div>\n",
       "<style scoped>\n",
       "    .dataframe tbody tr th:only-of-type {\n",
       "        vertical-align: middle;\n",
       "    }\n",
       "\n",
       "    .dataframe tbody tr th {\n",
       "        vertical-align: top;\n",
       "    }\n",
       "\n",
       "    .dataframe thead th {\n",
       "        text-align: right;\n",
       "    }\n",
       "</style>\n",
       "<table border=\"1\" class=\"dataframe\">\n",
       "  <thead>\n",
       "    <tr style=\"text-align: right;\">\n",
       "      <th></th>\n",
       "      <th>new_coloumn2</th>\n",
       "    </tr>\n",
       "  </thead>\n",
       "  <tbody>\n",
       "    <tr>\n",
       "      <th>0</th>\n",
       "      <td>1</td>\n",
       "    </tr>\n",
       "    <tr>\n",
       "      <th>1</th>\n",
       "      <td>2</td>\n",
       "    </tr>\n",
       "  </tbody>\n",
       "</table>\n",
       "</div>"
      ],
      "text/plain": [
       "   new_coloumn2\n",
       "0             1\n",
       "1             2"
      ]
     },
     "execution_count": 17,
     "metadata": {},
     "output_type": "execute_result"
    }
   ],
   "source": [
    "df"
   ]
  },
  {
   "cell_type": "code",
   "execution_count": 49,
   "id": "c6d3f303",
   "metadata": {},
   "outputs": [],
   "source": [
    "#read all training sessions into df's inside of a dict\n",
    "polar_df_dict1={}\n",
    "polar_df_dict2={}\n",
    "for i,j in polar_data_dict.items():\n",
    "    if 'training-session-' in i:\n",
    "        #Make Health_description df\n",
    "        if max_id==None:\n",
    "            max_id=1\n",
    "        else:\n",
    "            max_id +=1\n",
    "        df1=pd.DataFrame()\n",
    "        df1['id']=[max_id]\n",
    "        df1['var_activity']=[j['name']]\n",
    "        df1['var_type']=['heart rate']\n",
    "        df1['var_periodicity']=['seconds']\n",
    "        df1['var_unit']=['heart rate per second']\n",
    "        df1['var_timezone_utc_delta_in_mins']=[j['timeZoneOffset']]\n",
    "        df1['time_stamp_utc']=[datetime.datetime.utcnow()]\n",
    "        df1['user_id']=[1]#replace with current user\n",
    "        df1['source_filename']=[i]\n",
    "        polar_df_dict1[i]=df1\n",
    "        \n",
    "        var_datetime_utc=j['timeZoneOffset']\n",
    "        var_datetime_utc_list=[datetime.datetime.strptime(\n",
    "            k['dateTime']  ,'%Y-%m-%dT%H:%M:%S.%f') + timedelta(\n",
    "                minutes=var_datetime_utc) for k in j['exercises'][0]['samples']['heartRate']]\n",
    "        var_values_list=[k['value'] for k in j['exercises'][0]['samples']['heartRate']]\n",
    "        df2=pd.DataFrame(list(zip(var_datetime_utc_list,var_values_list)), columns=[\n",
    "            'var_datetime_utc','var_value'])\n",
    "        df2['description_id']=max_id\n",
    "        polar_df_dict2[i]=df2"
   ]
  },
  {
   "cell_type": "code",
   "execution_count": 51,
   "id": "cd7ce293",
   "metadata": {},
   "outputs": [
    {
     "data": {
      "text/html": [
       "<div>\n",
       "<style scoped>\n",
       "    .dataframe tbody tr th:only-of-type {\n",
       "        vertical-align: middle;\n",
       "    }\n",
       "\n",
       "    .dataframe tbody tr th {\n",
       "        vertical-align: top;\n",
       "    }\n",
       "\n",
       "    .dataframe thead th {\n",
       "        text-align: right;\n",
       "    }\n",
       "</style>\n",
       "<table border=\"1\" class=\"dataframe\">\n",
       "  <thead>\n",
       "    <tr style=\"text-align: right;\">\n",
       "      <th></th>\n",
       "      <th>var_datetime_utc</th>\n",
       "      <th>var_value</th>\n",
       "      <th>description_id</th>\n",
       "    </tr>\n",
       "  </thead>\n",
       "  <tbody>\n",
       "    <tr>\n",
       "      <th>0</th>\n",
       "      <td>2021-06-07 07:54:36.148</td>\n",
       "      <td>171</td>\n",
       "      <td>2</td>\n",
       "    </tr>\n",
       "    <tr>\n",
       "      <th>1</th>\n",
       "      <td>2021-06-07 07:54:37.148</td>\n",
       "      <td>171</td>\n",
       "      <td>2</td>\n",
       "    </tr>\n",
       "    <tr>\n",
       "      <th>2</th>\n",
       "      <td>2021-06-07 07:54:38.148</td>\n",
       "      <td>171</td>\n",
       "      <td>2</td>\n",
       "    </tr>\n",
       "    <tr>\n",
       "      <th>3</th>\n",
       "      <td>2021-06-07 07:54:39.148</td>\n",
       "      <td>171</td>\n",
       "      <td>2</td>\n",
       "    </tr>\n",
       "    <tr>\n",
       "      <th>4</th>\n",
       "      <td>2021-06-07 07:54:40.148</td>\n",
       "      <td>171</td>\n",
       "      <td>2</td>\n",
       "    </tr>\n",
       "    <tr>\n",
       "      <th>...</th>\n",
       "      <td>...</td>\n",
       "      <td>...</td>\n",
       "      <td>...</td>\n",
       "    </tr>\n",
       "    <tr>\n",
       "      <th>245</th>\n",
       "      <td>2021-06-07 07:58:41.148</td>\n",
       "      <td>113</td>\n",
       "      <td>2</td>\n",
       "    </tr>\n",
       "    <tr>\n",
       "      <th>246</th>\n",
       "      <td>2021-06-07 07:58:42.148</td>\n",
       "      <td>113</td>\n",
       "      <td>2</td>\n",
       "    </tr>\n",
       "    <tr>\n",
       "      <th>247</th>\n",
       "      <td>2021-06-07 07:58:43.148</td>\n",
       "      <td>113</td>\n",
       "      <td>2</td>\n",
       "    </tr>\n",
       "    <tr>\n",
       "      <th>248</th>\n",
       "      <td>2021-06-07 07:58:44.148</td>\n",
       "      <td>113</td>\n",
       "      <td>2</td>\n",
       "    </tr>\n",
       "    <tr>\n",
       "      <th>249</th>\n",
       "      <td>2021-06-07 07:58:45.148</td>\n",
       "      <td>112</td>\n",
       "      <td>2</td>\n",
       "    </tr>\n",
       "  </tbody>\n",
       "</table>\n",
       "<p>250 rows × 3 columns</p>\n",
       "</div>"
      ],
      "text/plain": [
       "           var_datetime_utc  var_value  description_id\n",
       "0   2021-06-07 07:54:36.148        171               2\n",
       "1   2021-06-07 07:54:37.148        171               2\n",
       "2   2021-06-07 07:54:38.148        171               2\n",
       "3   2021-06-07 07:54:39.148        171               2\n",
       "4   2021-06-07 07:54:40.148        171               2\n",
       "..                      ...        ...             ...\n",
       "245 2021-06-07 07:58:41.148        113               2\n",
       "246 2021-06-07 07:58:42.148        113               2\n",
       "247 2021-06-07 07:58:43.148        113               2\n",
       "248 2021-06-07 07:58:44.148        113               2\n",
       "249 2021-06-07 07:58:45.148        112               2\n",
       "\n",
       "[250 rows x 3 columns]"
      ]
     },
     "execution_count": 51,
     "metadata": {},
     "output_type": "execute_result"
    }
   ],
   "source": [
    "polar_df_dict2[list(polar_df_dict2.keys())[1]]"
   ]
  },
  {
   "cell_type": "code",
   "execution_count": null,
   "id": "5055eed0",
   "metadata": {},
   "outputs": [],
   "source": []
  },
  {
   "cell_type": "code",
   "execution_count": null,
   "id": "50c34062",
   "metadata": {},
   "outputs": [],
   "source": []
  },
  {
   "cell_type": "code",
   "execution_count": null,
   "id": "bec0e150",
   "metadata": {},
   "outputs": [],
   "source": []
  },
  {
   "cell_type": "code",
   "execution_count": null,
   "id": "076f9059",
   "metadata": {},
   "outputs": [],
   "source": []
  }
 ],
 "metadata": {
  "kernelspec": {
   "display_name": "Python 3",
   "language": "python",
   "name": "python3"
  },
  "language_info": {
   "codemirror_mode": {
    "name": "ipython",
    "version": 3
   },
   "file_extension": ".py",
   "mimetype": "text/x-python",
   "name": "python",
   "nbconvert_exporter": "python",
   "pygments_lexer": "ipython3",
   "version": "3.9.5"
  }
 },
 "nbformat": 4,
 "nbformat_minor": 5
}
