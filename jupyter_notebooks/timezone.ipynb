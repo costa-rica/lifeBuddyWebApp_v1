{
 "cells": [
  {
   "cell_type": "code",
   "execution_count": 1,
   "id": "82134b5d",
   "metadata": {},
   "outputs": [],
   "source": [
    "import time\n",
    "import pytz\n",
    "import zoneinfo\n",
    "from pytz import timezone\n",
    "import datetime;from datetime import timedelta"
   ]
  },
  {
   "cell_type": "code",
   "execution_count": 15,
   "id": "5b4843a5",
   "metadata": {},
   "outputs": [
    {
     "name": "stdout",
     "output_type": "stream",
     "text": [
      "None None\n"
     ]
    }
   ],
   "source": [
    "#current time - tz agnostic\n",
    "datetime_var=datetime.datetime.now()\n",
    "print(datetime_var.tzinfo, datetime_var.utcoffset())"
   ]
  },
  {
   "cell_type": "code",
   "execution_count": 16,
   "id": "b36bf440",
   "metadata": {},
   "outputs": [
    {
     "data": {
      "text/plain": [
       "datetime.datetime(2021, 8, 24, 8, 0, 46, 245977)"
      ]
     },
     "execution_count": 16,
     "metadata": {},
     "output_type": "execute_result"
    }
   ],
   "source": [
    "datetime_var"
   ]
  },
  {
   "cell_type": "code",
   "execution_count": 17,
   "id": "c669bd87",
   "metadata": {},
   "outputs": [
    {
     "data": {
      "text/plain": [
       "datetime.datetime(2021, 8, 24, 8, 0, 46, 245977, tzinfo=<DstTzInfo 'Europe/Paris' CEST+2:00:00 DST>)"
      ]
     },
     "execution_count": 17,
     "metadata": {},
     "output_type": "execute_result"
    }
   ],
   "source": [
    "paris_tz = timezone('Europe/Paris')\n",
    "datetime_var_paris=paris_tz.localize(datetime_var)\n",
    "datetime_var_paris"
   ]
  },
  {
   "cell_type": "code",
   "execution_count": 8,
   "id": "561ecf79",
   "metadata": {},
   "outputs": [
    {
     "data": {
      "text/plain": [
       "120.0"
      ]
     },
     "execution_count": 8,
     "metadata": {},
     "output_type": "execute_result"
    }
   ],
   "source": [
    "datetime_var_eastern.utcoffset().total_seconds()/60"
   ]
  },
  {
   "cell_type": "code",
   "execution_count": 12,
   "id": "a92432fc",
   "metadata": {},
   "outputs": [
    {
     "data": {
      "text/plain": [
       "datetime.datetime(2021, 8, 24, 7, 42, 16, 378443, tzinfo=<DstTzInfo 'US/Eastern' EDT-1 day, 20:00:00 DST>)"
      ]
     },
     "execution_count": 12,
     "metadata": {},
     "output_type": "execute_result"
    }
   ],
   "source": [
    "eastern_tz = timezone('US/Eastern')\n",
    "datetime_var_eastern=eastern_tz.localize(datetime_var)\n",
    "datetime_var_eastern"
   ]
  },
  {
   "cell_type": "code",
   "execution_count": 13,
   "id": "977a2b12",
   "metadata": {},
   "outputs": [
    {
     "data": {
      "text/plain": [
       "-240.0"
      ]
     },
     "execution_count": 13,
     "metadata": {},
     "output_type": "execute_result"
    }
   ],
   "source": [
    "# eastern_tz = timezone('US/Eastern')\n",
    "datetime_var_eastern.utcoffset().total_seconds()/60"
   ]
  },
  {
   "cell_type": "code",
   "execution_count": null,
   "id": "3d60560c",
   "metadata": {},
   "outputs": [],
   "source": []
  },
  {
   "cell_type": "code",
   "execution_count": null,
   "id": "bad164a2",
   "metadata": {},
   "outputs": [],
   "source": [
    "#date - tz agnotic\n",
    "date_str=datetime_var.date().strftime(\"%Y-%m-%d\")\n",
    "#time -tz agnostic\n",
    "time_str=datetime_var.time().strftime(\"%H:%M\")\n",
    "\n"
   ]
  },
  {
   "cell_type": "code",
   "execution_count": null,
   "id": "a7ff7856",
   "metadata": {},
   "outputs": [],
   "source": [
    "date_time_obj = datetime.datetime.strptime(date_str+time_str, '%Y-%m-%d%H:%M').replace(tzinfo=au_tz)"
   ]
  },
  {
   "cell_type": "code",
   "execution_count": null,
   "id": "30b931ae",
   "metadata": {},
   "outputs": [],
   "source": []
  },
  {
   "cell_type": "code",
   "execution_count": null,
   "id": "56074e8f",
   "metadata": {},
   "outputs": [],
   "source": []
  },
  {
   "cell_type": "code",
   "execution_count": null,
   "id": "b87eaf7e",
   "metadata": {},
   "outputs": [],
   "source": []
  }
 ],
 "metadata": {
  "kernelspec": {
   "display_name": "Python 3",
   "language": "python",
   "name": "python3"
  },
  "language_info": {
   "codemirror_mode": {
    "name": "ipython",
    "version": 3
   },
   "file_extension": ".py",
   "mimetype": "text/x-python",
   "name": "python",
   "nbconvert_exporter": "python",
   "pygments_lexer": "ipython3",
   "version": "3.9.5"
  }
 },
 "nbformat": 4,
 "nbformat_minor": 5
}
