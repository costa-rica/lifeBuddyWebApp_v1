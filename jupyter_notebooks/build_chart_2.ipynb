{
 "cells": [
  {
   "cell_type": "code",
   "execution_count": 66,
   "id": "7d8435bd",
   "metadata": {},
   "outputs": [
    {
     "name": "stderr",
     "output_type": "stream",
     "text": [
      "C:\\tools\\miniconda3\\envs\\lifebuddy\\lib\\site-packages\\flask_sqlalchemy\\__init__.py:872: FSADeprecationWarning: SQLALCHEMY_TRACK_MODIFICATIONS adds significant overhead and will be disabled by default in the future.  Set it to True or False to suppress this warning.\n",
      "  warnings.warn(FSADeprecationWarning(\n"
     ]
    }
   ],
   "source": [
    "import json;import datetime;from datetime import timedelta;import os, zipfile;\n",
    "import pandas as pd;from scipy.optimize import curve_fit;from scipy.stats import chisquare\n",
    "import numpy as np;import matplotlib.pyplot as plt\n",
    "from LifeBuddyWebApp import create_app, db\n",
    "from LifeBuddyWebApp.models import User, Post, Health_description, Health_measure\n",
    "proxyApp=create_app()\n",
    "ctx=proxyApp.app_context()\n",
    "ctx.push()\n",
    "from sqlalchemy import func\n",
    "\n",
    "from bokeh.plotting import figure, output_file, show\n",
    "import pandas as pd\n",
    "from bokeh.resources import CDN\n",
    "from bokeh.models import ColumnDataSource, Grid, LinearAxis, Plot, Text\n",
    "from bokeh.io import curdoc\n",
    "from bokeh.themes import built_in_themes"
   ]
  },
  {
   "cell_type": "code",
   "execution_count": 65,
   "id": "fd9d4ac7",
   "metadata": {},
   "outputs": [
    {
     "data": {
      "text/html": [
       "<style>.container { width:90% !important; }</style>"
      ],
      "text/plain": [
       "<IPython.core.display.HTML object>"
      ]
     },
     "metadata": {},
     "output_type": "display_data"
    }
   ],
   "source": [
    "#change width of current notebook cells\n",
    "from IPython.core.display import display, HTML\n",
    "display(HTML(\"<style>.container { width:90% !important; }</style>\"))"
   ]
  },
  {
   "cell_type": "code",
   "execution_count": 5,
   "id": "0102125d",
   "metadata": {},
   "outputs": [],
   "source": [
    "#get existing database health_measure.description id and var_datetime_utc ***TODO Make this filter on user*****\n",
    "base_query_health_description=db.session.query(Health_description)\n",
    "df_health_description=pd.read_sql(str(base_query_health_description),db.session.bind) \n",
    "#correct column names\n",
    "colNames=[i[len('health_description_'):] for i in list(df_health_description.columns)]\n",
    "col_names_dict={i:j for i,j in zip(list(df_health_description.columns),colNames)}\n",
    "df_health_description.rename(columns=col_names_dict, inplace=True)\n",
    "\n",
    "df1=df_health_description.loc[df_health_description.metric1_carido<100]\n",
    "obs_x=df1.datetime_of_activity\n",
    "obs_y=df1.metric1_carido\n",
    "\n",
    "x_obs=[ datetime.datetime.strptime(date_string,'%Y-%m-%d %H:%M:%S.%f') for date_string in df1.datetime_of_activity]\n",
    "y_obs=df1.metric1_carido"
   ]
  },
  {
   "cell_type": "code",
   "execution_count": 64,
   "id": "5377180e",
   "metadata": {},
   "outputs": [
    {
     "name": "stdout",
     "output_type": "stream",
     "text": [
      "2021-08-13 14:04:09.641000  end:: 2021-08-20 14:04:09.641000\n"
     ]
    }
   ],
   "source": [
    "# df1=df1.sort_values(by=['datetime_of_activity'])\n",
    "end_date=datetime.datetime.strptime(df1.datetime_of_activity.to_list()[-1],'%Y-%m-%d %H:%M:%S.%f')\n",
    "start_date=end_date - timedelta(days=7)\n",
    "print(start_date,' end::',end_date)"
   ]
  },
  {
   "cell_type": "code",
   "execution_count": 13,
   "id": "39d4def6",
   "metadata": {},
   "outputs": [
    {
     "name": "stderr",
     "output_type": "stream",
     "text": [
      "BokehDeprecationWarning: 'legend' keyword is deprecated, use explicit 'legend_label', 'legend_field', or 'legend_group' keywords instead\n"
     ]
    }
   ],
   "source": [
    "curdoc().theme = 'dark_minimal'\n",
    "p2=figure(title='simple example',x_axis_label='X axis',y_axis_label='Y axis', x_axis_type='datetime',width=800, height=300)\n",
    "p2.circle(obs_x,obs_y, legend='Test', size=10)\n",
    "show(p2)"
   ]
  },
  {
   "cell_type": "code",
   "execution_count": null,
   "id": "4e39f583",
   "metadata": {},
   "outputs": [],
   "source": []
  },
  {
   "cell_type": "code",
   "execution_count": null,
   "id": "b0cb1768",
   "metadata": {},
   "outputs": [],
   "source": [
    "# x_obs=df2.datetime_of_activity\n",
    "x_obs=[ datetime.datetime.strptime(date_string,'%Y-%m-%d %H:%M:%S.%f') for date_string in df1.datetime_of_activity]\n",
    "y_obs=df1.metric1_carido\n",
    "p2=figure(x_axis_label='Time',y_axis_label='Y axis', x_axis_type='datetime',width=800, height=300)\n",
    "p2.circle(x_obs,y_obs, legend='Test', size=1)\n",
    "p2.text()\n",
    "show(p2)"
   ]
  },
  {
   "cell_type": "code",
   "execution_count": null,
   "id": "4b0d1999",
   "metadata": {},
   "outputs": [],
   "source": [
    "type(df1.datetime_of_activity[0])\n",
    "df1.datetime_of_activity[0]"
   ]
  },
  {
   "cell_type": "code",
   "execution_count": 40,
   "id": "fc36fdd1",
   "metadata": {},
   "outputs": [
    {
     "data": {
      "text/plain": [
       "datetime.datetime(2021, 6, 9, 12, 8, 34, 635000)"
      ]
     },
     "execution_count": 40,
     "metadata": {},
     "output_type": "execute_result"
    }
   ],
   "source": [
    "datetime.datetime.strptime(df1.datetime_of_activity[0],'%Y-%m-%d %H:%M:%S.%f')"
   ]
  },
  {
   "cell_type": "code",
   "execution_count": null,
   "id": "39991253",
   "metadata": {},
   "outputs": [],
   "source": [
    "\n",
    "cdn_js=CDN.js_files\n",
    "cdn_css=CDN.css_files"
   ]
  },
  {
   "cell_type": "code",
   "execution_count": null,
   "id": "61afe6cc",
   "metadata": {},
   "outputs": [],
   "source": [
    "cdn_js"
   ]
  },
  {
   "cell_type": "code",
   "execution_count": 49,
   "id": "a1ad11af",
   "metadata": {},
   "outputs": [],
   "source": [
    "def plot_text_format(x):\n",
    "    return ('%.1f' % x).rstrip('0').rstrip('.')"
   ]
  },
  {
   "cell_type": "code",
   "execution_count": 50,
   "id": "040553a8",
   "metadata": {},
   "outputs": [],
   "source": [
    "y_obs_formatted=[ plot_text_format(i) for i in y_obs]"
   ]
  },
  {
   "cell_type": "code",
   "execution_count": 11,
   "id": "b4acc413",
   "metadata": {},
   "outputs": [],
   "source": [
    "curdoc().theme = 'contrast'\n",
    "source = ColumnDataSource(dict(x=x_obs, y=y_obs, text=y_obs_formatted))\n",
    "plot=Plot(plot_width=800, plot_height=300, toolbar_location=None)\n",
    "glyph = Text(x=\"x\", y=\"y\", text=\"text\")\n",
    "plot.add_glyph(source, glyph)\n",
    "\n",
    "# curdoc().add_root(plot)\n",
    "\n",
    "\n",
    "show(plot)"
   ]
  },
  {
   "cell_type": "code",
   "execution_count": 47,
   "id": "135127f5",
   "metadata": {},
   "outputs": [],
   "source": [
    "curdoc().theme = 'night_sky'\n",
    "source = ColumnDataSource(dict(x=x_obs, y=y_obs, text=y_obs_formatted))\n",
    "p2=figure(x_axis_label='Time',x_axis_type='datetime',y_axis_label='your life data',width=800, height=300, toolbar_location=None,\n",
    "          tools='xwheel_zoom,xpan',active_scroll='xwheel_zoom',x_range=(date1,date2))\n",
    "p2.yaxis.major_label_text_color='black'\n",
    "# p2.xaxis.x_range_name()\n",
    "# p2.extra_x_ranges = {\"ValueationRange\":bokeh.models.Range1d(start=date1, end=date2)}\n",
    "# p2.add_layout(bokeh.models.LinearAxis(x_range_name=\"ValueationRange\",\n",
    "#                                         axis_label='Valueation'), 'above')\n",
    "glyph = Text(text=\"text\", text_color=\"#d6fbf7\")\n",
    "\n",
    "p2.add_glyph(source, glyph)\n",
    "\n",
    "show(p2)"
   ]
  },
  {
   "cell_type": "code",
   "execution_count": 43,
   "id": "9f38a618",
   "metadata": {},
   "outputs": [],
   "source": [
    "date1=datetime.datetime.strptime(df1.datetime_of_activity[2],'%Y-%m-%d %H:%M:%S.%f')\n",
    "date2=datetime.datetime.strptime(df1.datetime_of_activity[0],'%Y-%m-%d %H:%M:%S.%f')"
   ]
  },
  {
   "cell_type": "code",
   "execution_count": 68,
   "id": "7007955d",
   "metadata": {},
   "outputs": [
    {
     "data": {
      "text/plain": [
       "'2021-06-09 12:08:34.635000'"
      ]
     },
     "execution_count": 68,
     "metadata": {},
     "output_type": "execute_result"
    }
   ],
   "source": [
    "df1.datetime_of_activity[0]"
   ]
  },
  {
   "cell_type": "code",
   "execution_count": 67,
   "id": "a10f9a84",
   "metadata": {},
   "outputs": [
    {
     "data": {
      "text/plain": [
       "datetime.datetime(2021, 6, 9, 12, 8, 34, 635000)"
      ]
     },
     "execution_count": 67,
     "metadata": {},
     "output_type": "execute_result"
    }
   ],
   "source": [
    "datetime.datetime.strptime(df1.datetime_of_activity[0],'%Y-%m-%d %H:%M:%S.%f')"
   ]
  },
  {
   "cell_type": "code",
   "execution_count": null,
   "id": "5a92dede",
   "metadata": {},
   "outputs": [],
   "source": [
    "activity"
   ]
  },
  {
   "cell_type": "code",
   "execution_count": null,
   "id": "c4ed3655",
   "metadata": {},
   "outputs": [],
   "source": []
  }
 ],
 "metadata": {
  "kernelspec": {
   "display_name": "Python 3",
   "language": "python",
   "name": "python3"
  },
  "language_info": {
   "codemirror_mode": {
    "name": "ipython",
    "version": 3
   },
   "file_extension": ".py",
   "mimetype": "text/x-python",
   "name": "python",
   "nbconvert_exporter": "python",
   "pygments_lexer": "ipython3",
   "version": "3.9.5"
  }
 },
 "nbformat": 4,
 "nbformat_minor": 5
}
