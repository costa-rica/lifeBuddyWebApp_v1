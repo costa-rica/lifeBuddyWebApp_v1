{
 "cells": [
  {
   "cell_type": "code",
   "execution_count": null,
   "id": "9db9597d",
   "metadata": {},
   "outputs": [],
   "source": [
    "#change width of current notebook cells\n",
    "from IPython.core.display import display, HTML\n",
    "display(HTML(\"<style>.container { width:90% !important; }</style>\"))"
   ]
  },
  {
   "cell_type": "code",
   "execution_count": 1,
   "id": "e9fb6ea4",
   "metadata": {},
   "outputs": [
    {
     "name": "stderr",
     "output_type": "stream",
     "text": [
      "C:\\tools\\miniconda3\\envs\\lifebuddy\\lib\\site-packages\\flask_sqlalchemy\\__init__.py:872: FSADeprecationWarning: SQLALCHEMY_TRACK_MODIFICATIONS adds significant overhead and will be disabled by default in the future.  Set it to True or False to suppress this warning.\n",
      "  warnings.warn(FSADeprecationWarning(\n"
     ]
    }
   ],
   "source": [
    "import json;import datetime;from datetime import timedelta;import os, zipfile;\n",
    "import pandas as pd;from scipy.optimize import curve_fit;from scipy.stats import chisquare\n",
    "import numpy as np;import matplotlib.pyplot as plt\n",
    "from LifeBuddyWebApp import create_app, db\n",
    "from LifeBuddyWebApp.models import User, Post, Health_description, Health_measure\n",
    "proxyApp=create_app()\n",
    "ctx=proxyApp.app_context()\n",
    "ctx.push()\n",
    "from sqlalchemy import func"
   ]
  },
  {
   "cell_type": "code",
   "execution_count": 2,
   "id": "ac90f2e1",
   "metadata": {},
   "outputs": [],
   "source": [
    "data_zip_med=r\"C:\\Users\\captian2020\\Downloads\\polar-user-data-export_ce1e4395-ade2-4af6-9417-ee9a013faafb.zip\"\n",
    "polar_zip=zipfile.ZipFile(data_zip_med)\n",
    "\n",
    "#read all files in zip to dictionary of file names and json (each value is a training_session)\n",
    "polar_data_dict={}\n",
    "for i in polar_zip.filelist:\n",
    "    polar_data_dict[i.filename]=json.loads(polar_zip.read(i.filename))"
   ]
  },
  {
   "cell_type": "code",
   "execution_count": null,
   "id": "294fec92",
   "metadata": {},
   "outputs": [],
   "source": [
    "training_session=r\"training-session-2021-03-21-5816145734-02a0a7b4-2b47-4ad5-9e41-94ff904ec5c0.json\"\n",
    "keys=polar_data_dict[training_session]['exercises'][0]['samples'].keys()\n",
    "# for i,j in polar_data_dict[training_session]['exercises'][0]['samples'].items():\n",
    "#     print(i, len(j))\n",
    "polar_data_dict[training_session]['startTime']"
   ]
  },
  {
   "cell_type": "code",
   "execution_count": null,
   "id": "eca055c9",
   "metadata": {},
   "outputs": [],
   "source": [
    "len(polar_data_dict)"
   ]
  },
  {
   "cell_type": "markdown",
   "id": "90f134a7",
   "metadata": {},
   "source": [
    "Put polar data into dataframes"
   ]
  },
  {
   "cell_type": "code",
   "execution_count": 3,
   "id": "6a8bb7c6",
   "metadata": {},
   "outputs": [],
   "source": [
    "max_id=None\n",
    "df_description=pd.DataFrame()\n",
    "df_measure=pd.DataFrame()\n",
    "for i,j in polar_data_dict.items():\n",
    "    if 'training-session-' in i:\n",
    "        file1 = open(\"training_session_file_tracker.txt\",\"a\")\n",
    "        file1.write(i+\"\\n\")\n",
    "        file1.close()\n",
    "        #get last id from database\n",
    "        max_id=1 if max_id==None else max_id +1\n",
    "        df1=pd.DataFrame()\n",
    "        \n",
    "        df1['var_activity']=[j['exercises'][0]['sport']]#if one row, first should be in brackets or soemthing liek that\n",
    "        df1['var_type']='heart rate'#must come from input data polar h1 only does heart rate\n",
    "        df1['var_periodicity']='seconds' #must come from input data polar h1 only does seconds\n",
    "        df1['var_timezone_utc_delta_in_mins']=j['exercises'][0]['timezoneOffset']\n",
    "        df1['time_stamp_utc']=datetime.datetime.utcnow()\n",
    "        df1['user_id']=1#comes from app current_user.id\n",
    "        df1['source_filename']=i\n",
    "        df1['description_id']=max_id\n",
    "        df1['datetime_of_activity']=datetime.datetime.strptime(j['startTime'],'%Y-%m-%dT%H:%M:%S.%f')\n",
    "\n",
    "        var_datetime_utc_list=[]\n",
    "        for data_item_series in j['exercises'][0]['samples']:\n",
    "            \n",
    "            \n",
    "            if data_item_series!='recordedRoute' and len(var_datetime_utc_list)==0:\n",
    "                var_datetime_utc_list=[datetime.datetime.strptime(\n",
    "                    x['dateTime'],'%Y-%m-%dT%H:%M:%S.%f')+ timedelta(\n",
    "                    minutes=j['exercises'][0]['timezoneOffset']) for x in j[\n",
    "                    'exercises'][0]['samples'][data_item_series]]\n",
    "\n",
    "                df2=pd.DataFrame(var_datetime_utc_list,columns=['var_datetime_utc'])\n",
    "                df2['description_id']=max_id\n",
    "                reading_count=len(var_datetime_utc_list)\n",
    "            if data_item_series== 'heartRate':\n",
    "                df2['heart_rate']=[x['value'] for x in j['exercises'][0]['samples'][data_item_series]]\n",
    "            if data_item_series== 'speed':\n",
    "                df2['speed']= [x['value'] for x in j['exercises'][0]['samples'][data_item_series]]\n",
    "            if data_item_series== 'distance':\n",
    "                df2['distance']= [x['value'] for x in j['exercises'][0]['samples'][data_item_series]]\n",
    "            if data_item_series== 'recordedRoute':\n",
    "                longitude_list= [x['longitude'] for x in j['exercises'][0]['samples'][data_item_series]]\n",
    "                while reading_count>len(longitude_list):\n",
    "                    longitude_list.append(longitude_list[-1])\n",
    "                df2['longitude']=longitude_list\n",
    "                latitude_list= [x['latitude'] for x in j['exercises'][0]['samples'][data_item_series]]\n",
    "                while reading_count>len(latitude_list):\n",
    "                    latitude_list.append(latitude_list[-1])\n",
    "\n",
    "                df2['latitude']=latitude_list\n",
    "                altitude_list= [x['altitude'] for x in j['exercises'][0]['samples'][data_item_series]]\n",
    "                while reading_count>len(altitude_list):\n",
    "                    altitude_list.append(altitude_list[-1])\n",
    "                df2['altitude']=altitude_list\n",
    "        df1['metric2_session_duration']=reading_count\n",
    "        df_description=df_description.append(df1, ignore_index = True)\n",
    "        df_measure=df_measure.append(df2, ignore_index = True)\n",
    "df_description.set_index('description_id', inplace=True)"
   ]
  },
  {
   "cell_type": "code",
   "execution_count": null,
   "id": "4e82b07d",
   "metadata": {},
   "outputs": [],
   "source": [
    "df_description[df_description.datetime_of_activity==max(df_description.datetime_of_activity)]\n",
    "# max(df_description.datetime_of_activity)"
   ]
  },
  {
   "cell_type": "code",
   "execution_count": 4,
   "id": "f7a63485",
   "metadata": {},
   "outputs": [],
   "source": [
    "#The model set to max heartrate = 170\n",
    "def michaelis_m_eq_fix170(time_var, shape_var):\n",
    "    return (170 *time_var)/(shape_var + time_var)"
   ]
  },
  {
   "cell_type": "code",
   "execution_count": 10,
   "id": "fd5a0267",
   "metadata": {},
   "outputs": [],
   "source": [
    "#next part to loading data into datframes, but not exactly like in app\n",
    "metric1_list=[]\n",
    "a=df_measure['description_id'].unique()\n",
    "for x in a:\n",
    "    df_byId=df_measure[df_measure.description_id==x]\n",
    "    x_obs=df_byId.var_datetime_utc.to_list()\n",
    "    x_obs=[(i-x_obs[0]).total_seconds() for i in x_obs]\n",
    "    y_obs=df_byId.heart_rate.to_list()\n",
    "    popt_fix170 = curve_fit(michaelis_m_eq_fix170, x_obs, y_obs,bounds=(0,np.inf))[0][0]\n",
    "    metric1_list.append(popt_fix170)\n",
    "\n",
    "df_description['metric1_carido']=metric1_list"
   ]
  },
  {
   "cell_type": "code",
   "execution_count": null,
   "id": "b648a263",
   "metadata": {},
   "outputs": [],
   "source": [
    "#check to see if the app \"add only new training sessions\" is functioning correctly"
   ]
  },
  {
   "cell_type": "code",
   "execution_count": 5,
   "id": "310633ad",
   "metadata": {},
   "outputs": [],
   "source": [
    "####Check that same polar time stamps are not uploaded.\n",
    "#get existing database health_measure.description id and var_datetime_utc ***TODO Make this filter on user*****\n",
    "base_query_health_measure=db.session.query(Health_measure.description_id,Health_measure.var_datetime_utc)\n",
    "health_measure_var_datetime=pd.read_sql(str(base_query_health_measure),db.session.bind) \n",
    "health_measure_var_datetime.rename(columns={'health_measure_description_id':'description_id',\n",
    "                                           'health_measure_var_datetime_utc':'var_datetime_utc'}, inplace=True)"
   ]
  },
  {
   "cell_type": "code",
   "execution_count": 11,
   "id": "44f75cb7",
   "metadata": {},
   "outputs": [
    {
     "name": "stdout",
     "output_type": "stream",
     "text": [
      "health measures is longer\n"
     ]
    }
   ],
   "source": [
    "if len(health_measure_var_datetime)>0:\n",
    "    ##convert both var_datetime_utc columns to string\n",
    "    df_measure_2=df_measure\n",
    "    df_measure_2.var_datetime_utc=df_measure_2.var_datetime_utc.astype(str)    \n",
    "\n",
    "    #check that var_datetime_utc variable/column is same length as in df_measure\n",
    "    if len(health_measure_var_datetime.var_datetime_utc[0])>len(df_measure_2.var_datetime_utc[0]):\n",
    "        cut_length=(len(health_measure_var_datetime.var_datetime_utc[0])-len(df_measure_2.var_datetime_utc[0]))*-1\n",
    "        health_measure_var_datetime.var_datetime_utc=health_measure_var_datetime.var_datetime_utc.str[:cut_length]\n",
    "        print('health measures is longer')\n",
    "    if len(df_measure_2.var_datetime_utc[0])>len(health_measure_var_datetime.var_datetime_utc[0]):\n",
    "        cut_length=(len(df_measure_2.var_datetime_utc[0])-len(health_measure_var_datetime.var_datetime_utc[0]))*-1\n",
    "        df_measure_2.var_datetime_utc=df_measure_2.var_datetime_utc.str[:cut_length]\n",
    "        print('df measure 2 is longer')\n",
    "\n",
    "    df_matching_times=pd.merge(df_measure_2, health_measure_var_datetime,on=\"var_datetime_utc\")\n",
    "    dup_descript_id_list=list(df_matching_times.description_id_x.unique())\n",
    "    \n",
    "    #overwrite upload dataframes with duplicate training sessions removed.\n",
    "    df_measure=df_measure[~df_measure.description_id.isin(dup_descript_id_list)]\n",
    "    df_description=df_description[~df_description.index.isin(dup_descript_id_list)]"
   ]
  },
  {
   "cell_type": "code",
   "execution_count": 15,
   "id": "c993881d",
   "metadata": {},
   "outputs": [],
   "source": []
  },
  {
   "cell_type": "code",
   "execution_count": null,
   "id": "d67def26",
   "metadata": {},
   "outputs": [],
   "source": []
  },
  {
   "cell_type": "code",
   "execution_count": null,
   "id": "c43918a1",
   "metadata": {},
   "outputs": [],
   "source": []
  },
  {
   "cell_type": "code",
   "execution_count": null,
   "id": "8417d07d",
   "metadata": {},
   "outputs": [],
   "source": [
    "df_description=pd.read_sql_table('health_description', db.engine)\n",
    "df_description.head()"
   ]
  },
  {
   "cell_type": "code",
   "execution_count": null,
   "id": "6b99a678",
   "metadata": {},
   "outputs": [],
   "source": [
    "df_measure=pd.read_sql_table('health_measure', db.engine)"
   ]
  },
  {
   "cell_type": "code",
   "execution_count": null,
   "id": "f39ff19c",
   "metadata": {},
   "outputs": [],
   "source": [
    "excelObj=pd.ExcelWriter(\"database_download2.xlsx\")\n",
    "wb1=excelObj.book\n",
    "df_description.to_excel(excelObj,sheet_name='df_description', index=False)\n",
    "df_measure.to_excel(excelObj,sheet_name='df_measure', index=False)\n",
    "excelObj.close()"
   ]
  },
  {
   "cell_type": "code",
   "execution_count": null,
   "id": "bafa5089",
   "metadata": {},
   "outputs": [],
   "source": [
    "#scratch work for loading data to dataframe dictinoaries"
   ]
  },
  {
   "cell_type": "code",
   "execution_count": null,
   "id": "515c5efe",
   "metadata": {},
   "outputs": [],
   "source": [
    "max_id=None\n",
    "test_dict={}\n",
    "df_description=pd.DataFrame()\n",
    "df_measure=pd.DataFrame()\n",
    "for i,j in polar_data_dict.items():\n",
    "    if 'training-session-' in i:\n",
    "        #get last id from database\n",
    "        max_id=1 if max_id==None else max_id +1\n",
    "        print(max_id)\n",
    "        temp_df_dict={}\n",
    "        df1=pd.DataFrame()\n",
    "        df1['description_id']=[max_id]\n",
    "\n",
    "    df_description=df_description.append(df1, ignore_index = True)\n",
    "df_description.set_index('description_id', inplace=True)"
   ]
  },
  {
   "cell_type": "code",
   "execution_count": null,
   "id": "842cd623",
   "metadata": {},
   "outputs": [],
   "source": [
    "df1=pd.DataFrame()\n",
    "df1['description_id']=[max_id]"
   ]
  },
  {
   "cell_type": "code",
   "execution_count": null,
   "id": "8d7fb919",
   "metadata": {},
   "outputs": [],
   "source": [
    "df1=pd.DataFrame()\n",
    "df1['var_activity']=[polar_data_dict[list(polar_data_dict.keys())[0]]['exercises'][0]['sport']]"
   ]
  },
  {
   "cell_type": "code",
   "execution_count": null,
   "id": "c71300cf",
   "metadata": {},
   "outputs": [],
   "source": [
    "df1\n",
    "# polar_data_dict[list(polar_data_dict.keys())[0]]['exercises'][0]['sport']"
   ]
  },
  {
   "cell_type": "code",
   "execution_count": null,
   "id": "9d4f7845",
   "metadata": {},
   "outputs": [],
   "source": []
  },
  {
   "cell_type": "code",
   "execution_count": null,
   "id": "d0ae5836",
   "metadata": {},
   "outputs": [],
   "source": [
    "df_byId=df_measure[df_measure.description_id==a[1]]\n",
    "x_obs=df_byId.var_datetime_utc.to_list()\n",
    "x_obs=[(i-var_datetime_utc_list[0]).total_seconds() for i in var_datetime_utc_list]\n",
    "y_obs=df_byId.heart_rate.to_list()\n",
    "popt_fix170 = curve_fit(michaelis_m_eq_fix170, x_obs, y_obs,bounds=(0,np.inf))[0][0]"
   ]
  },
  {
   "cell_type": "code",
   "execution_count": null,
   "id": "b5a6ac8f",
   "metadata": {},
   "outputs": [],
   "source": [
    "#put data into tables\n",
    "df_description.to_sql('health_description',db.engine, if_exists='append',index=False)\n",
    "df_measure.to_sql('health_measure',db.engine, if_exists='append',index=False)\n",
    "\n"
   ]
  },
  {
   "cell_type": "markdown",
   "id": "5e14e863",
   "metadata": {},
   "source": [
    "calculate parameter for each session"
   ]
  },
  {
   "cell_type": "code",
   "execution_count": null,
   "id": "68cca113",
   "metadata": {},
   "outputs": [],
   "source": [
    "#get x and y series from each session\n",
    "a=df_measure['description_id'].unique()\n",
    "print(a)"
   ]
  },
  {
   "cell_type": "code",
   "execution_count": null,
   "id": "df12abeb",
   "metadata": {},
   "outputs": [],
   "source": [
    "#append to database"
   ]
  },
  {
   "cell_type": "code",
   "execution_count": null,
   "id": "a96425ad",
   "metadata": {},
   "outputs": [],
   "source": [
    "# base_query_health_measure=db.session.query(Health_description.id,Health_description.metric1_cardio)\n",
    "db.session.query(Health_measure).all()"
   ]
  },
  {
   "cell_type": "code",
   "execution_count": null,
   "id": "ae46fc49",
   "metadata": {},
   "outputs": [],
   "source": []
  },
  {
   "cell_type": "code",
   "execution_count": null,
   "id": "1ed9cbee",
   "metadata": {},
   "outputs": [],
   "source": []
  },
  {
   "cell_type": "code",
   "execution_count": null,
   "id": "4a454b87",
   "metadata": {},
   "outputs": [],
   "source": [
    "df_measure.at[0,'var_datetime_utc']"
   ]
  },
  {
   "cell_type": "code",
   "execution_count": null,
   "id": "a4c1f6ce",
   "metadata": {},
   "outputs": [],
   "source": [
    "#delete all rows in a table\n",
    "Health_description.query.delete()\n",
    "Health_measure.query.delete()\n",
    "db.session.commit()"
   ]
  },
  {
   "cell_type": "code",
   "execution_count": null,
   "id": "82305796",
   "metadata": {},
   "outputs": [],
   "source": []
  },
  {
   "cell_type": "code",
   "execution_count": null,
   "id": "4d5344be",
   "metadata": {},
   "outputs": [],
   "source": [
    "session=0"
   ]
  },
  {
   "cell_type": "code",
   "execution_count": null,
   "id": "ed7f5219",
   "metadata": {},
   "outputs": [],
   "source": [
    "# polar_data_dict['training-session-2021-03-25-5833693154-003b4bf2-e18f-46ad-87df-9254d8434062.json']['exercises'][0]['samples'].keys()\n",
    "polar_data_dict[list(polar_data_dict.keys())[session]]['exercises'][0]['samples']['recordedRoute'][0]\n",
    "# polar_data_dict.keys()"
   ]
  },
  {
   "cell_type": "code",
   "execution_count": null,
   "id": "455b93f3",
   "metadata": {},
   "outputs": [],
   "source": [
    "polar_data_dict[list(polar_data_dict.keys())[session]]['exercises'][0]['samples']['heartRate'][0]"
   ]
  },
  {
   "cell_type": "code",
   "execution_count": null,
   "id": "1e9b591a",
   "metadata": {},
   "outputs": [],
   "source": [
    "polar_data_dict[list(polar_data_dict.keys())[session]]['exercises'][0]['samples']['speed'][-1]"
   ]
  },
  {
   "cell_type": "code",
   "execution_count": null,
   "id": "25dd015c",
   "metadata": {},
   "outputs": [],
   "source": []
  },
  {
   "cell_type": "code",
   "execution_count": null,
   "id": "e765b2f8",
   "metadata": {},
   "outputs": [],
   "source": [
    "data_item_series=polar_data_dict['training-session-2021-03-25-5833693154-003b4bf2-e18f-46ad-87df-9254d8434062.json']['exercises'][0]['samples']['heartRate']\n",
    "var_datetime_utc_list=[x['dateTime'] for x in data_item_series]"
   ]
  },
  {
   "cell_type": "code",
   "execution_count": null,
   "id": "16411779",
   "metadata": {},
   "outputs": [],
   "source": [
    "#The model set to max heartrate = 170\n",
    "def michaelis_m_eq_fix170(time_var, shape_var):\n",
    "    return (170 *time_var)/(shape_var + time_var)"
   ]
  },
  {
   "cell_type": "code",
   "execution_count": null,
   "id": "c23af934",
   "metadata": {},
   "outputs": [],
   "source": [
    "def calc_rsq(obs_y, pred_y):\n",
    "    residuals = obs_y - pred_y\n",
    "    ss_res=np.sum(residuals**2)\n",
    "    ss_tot=np.sum((obs_y-np.mean(obs_y))**2)\n",
    "    r_squared=1-(ss_res/ss_tot)\n",
    "    return r_squared"
   ]
  },
  {
   "cell_type": "code",
   "execution_count": null,
   "id": "08f5e4d1",
   "metadata": {},
   "outputs": [],
   "source": []
  },
  {
   "cell_type": "code",
   "execution_count": null,
   "id": "c1688bad",
   "metadata": {},
   "outputs": [],
   "source": [
    "polar_obs_var_dict={};polar_obs_var_dict_trim={}\n",
    "polar_pred_var_dict={};polar_pred_var_dict_trim={}\n",
    "polar_parameters_dict={};polar_parameters_dict_trim={}\n",
    "polar_rsq_dict={};polar_rsq_dict_trim={}\n",
    "\n",
    "for a,b in polar_df_dict2.items():\n",
    "\n",
    "    #Get Observed x and y\n",
    "    var_datetime_utc_list=polar_df_dict2[a].var_datetime_utc.to_list()\n",
    "    obs_x=np.array([(i-var_datetime_utc_list[0]).total_seconds() for i in var_datetime_utc_list])\n",
    "    obs_y=np.array(polar_df_dict2[a].var_value.to_list())\n",
    "    obs_x_manuf=np.array(range(0,len(obs_y)))\n",
    "    if len(obs_y)>140:\n",
    "        obs_y=obs_y[:140]; obs_x=obs_x[:140]\n",
    "    polar_obs_var_dict[a]=(obs_x, obs_y)\n",
    "    \n",
    "    #make trimmed observations based on minimum value of first 30 seconds of session\n",
    "    min_value_30=polar_obs_var_dict[list(polar_obs_var_dict.keys())[0]][1][:30].min()\n",
    "    min_position=np.where(polar_obs_var_dict[list(polar_obs_var_dict.keys())[0]][1][:30]==min_value_30)[0][-1]\n",
    "    obs_y_trim=obs_y[min_position:]\n",
    "    obs_x_trim=np.array(range(0,len(obs_y_trim)))\n",
    "    if len(obs_y_trim)>140:\n",
    "        obs_y_trim=obs_y_trim[:140]; obs_x_trim=obs_x_trim[:140]\n",
    "    polar_obs_var_dict_trim[a]=(obs_x_trim, obs_y_trim)\n",
    "    \n",
    "    \n",
    "    #calculate parameter for each model\n",
    "    popt_fix170, pcov_fix170 = curve_fit(michaelis_m_eq_fix170, obs_x, obs_y,bounds=(0,np.inf))\n",
    "    popt_fix170_trim, pcov_fix170_trim = curve_fit(michaelis_m_eq_fix170, obs_x_trim, obs_y_trim,bounds=(0,np.inf))\n",
    "    polar_parameters_dict[a]=(popt_fix170[0])\n",
    "    polar_parameters_dict_trim[a]=(popt_fix170_trim[0])\n",
    "\n",
    "    \n",
    "    #calculated predicted Y's for each model\n",
    "    pred_y_fix170=[michaelis_m_eq_fix170(i, popt_fix170[0]) for i in obs_x]\n",
    "    pred_y_fix170_trim=[michaelis_m_eq_fix170(i, popt_fix170_trim[0]) for i in obs_x_trim]\n",
    "    polar_pred_var_dict[a]=( pred_y_fix170)\n",
    "    polar_pred_var_dict_trim[a]=( pred_y_fix170_trim)\n",
    "    \n",
    "    #claculate the r square for each model\n",
    "    rsq_fix170=calc_rsq(obs_y, pred_y_fix170)\n",
    "    rsq_fix170_trim=calc_rsq(obs_y_trim, pred_y_fix170_trim)\n",
    "    polar_rsq_dict[a]=(rsq_fix170)\n",
    "    polar_rsq_dict_trim[a]=(rsq_fix170_trim)"
   ]
  },
  {
   "cell_type": "code",
   "execution_count": null,
   "id": "b99d41c3",
   "metadata": {},
   "outputs": [],
   "source": [
    "polar_df_dict1[list(polar_df_dict1.keys())[0]]"
   ]
  },
  {
   "cell_type": "code",
   "execution_count": null,
   "id": "52a5d0d4",
   "metadata": {},
   "outputs": [],
   "source": [
    "#Dictionary of name, exercise, max obs_y, count\n",
    "polar_data_dict_abbrev={}\n",
    "for i,j in polar_df_dict1.items():\n",
    "    max_value=polar_df_dict2[i].var_value.max()\n",
    "    length_of_training=len(polar_df_dict2[i])\n",
    "    polar_data_dict_abbrev[i]=(i,j.at[0,'var_activity'],max_value, length_of_training)"
   ]
  },
  {
   "cell_type": "code",
   "execution_count": null,
   "id": "0d14ee50",
   "metadata": {},
   "outputs": [],
   "source": [
    "df_description = pd.DataFrame.from_dict(polar_data_dict_abbrev, orient='index', columns=['name', 'exercise', 'maxObs_y', 'count'])\n",
    "df_parameters = pd.DataFrame.from_dict(polar_parameters_dict, orient='index', columns=['popt_fix170'])\n",
    "df_parameters_trim = pd.DataFrame.from_dict(polar_parameters_dict_trim, orient='index', columns=['popt_fix170_trim'])\n",
    "df_rsq=pd.DataFrame.from_dict(polar_rsq_dict, orient='index', columns=['rsq_fix170'])\n",
    "df_rsq_trim=pd.DataFrame.from_dict(polar_rsq_dict_trim, orient='index', columns=['rsq_fix170_trim'])"
   ]
  },
  {
   "cell_type": "code",
   "execution_count": null,
   "id": "a0119466",
   "metadata": {},
   "outputs": [],
   "source": [
    "#Make excel spreadsheet with polar_data_dict_abbrev | df_parameters |df_parameters_trim| df_rsq | df_rsq_trim\n",
    "frames=[df_description, df_parameters, df_parameters_trim,df_rsq, df_rsq_trim]\n",
    "result_primary=pd.concat(frames, axis=1)\n",
    "result_primary.to_excel('big_table7_fix170_with_trim_max140.xlsx', index=False)"
   ]
  },
  {
   "cell_type": "code",
   "execution_count": null,
   "id": "f58fe2a4",
   "metadata": {},
   "outputs": [],
   "source": []
  },
  {
   "cell_type": "markdown",
   "id": "5f54f01f",
   "metadata": {},
   "source": [
    "Check if sql table alraedy has time"
   ]
  },
  {
   "cell_type": "code",
   "execution_count": null,
   "id": "a40bef85",
   "metadata": {},
   "outputs": [],
   "source": [
    "#get existing database health_measure.description id and var_datetime_utc\n",
    "base_query_health_measure=db.session.query(Health_measure.description_id,Health_measure.var_datetime_utc)\n",
    "health_measure_var_datetime=pd.read_sql(str(base_query_health_measure),db.session.bind) \n",
    "health_measure_var_datetime.rename(columns={'health_measure_description_id':'description_id',\n",
    "                                           'health_measure_var_datetime_utc':'var_datetime_utc'}, inplace=True)"
   ]
  },
  {
   "cell_type": "code",
   "execution_count": null,
   "id": "6857cd37",
   "metadata": {},
   "outputs": [],
   "source": []
  },
  {
   "cell_type": "code",
   "execution_count": null,
   "id": "3a321c9a",
   "metadata": {},
   "outputs": [],
   "source": [
    "##convert both var_datetime_utc columns to string\n",
    "df_measure_2=df_measure\n",
    "df_measure_2.var_datetime_utc=df_measure_2.var_datetime_utc.astype(str)"
   ]
  },
  {
   "cell_type": "code",
   "execution_count": null,
   "id": "74558bc3",
   "metadata": {},
   "outputs": [],
   "source": []
  },
  {
   "cell_type": "code",
   "execution_count": null,
   "id": "20698058",
   "metadata": {},
   "outputs": [],
   "source": [
    "#check that var_datetime_utc is same length as in df_measure\n",
    "##put df_check_times first row into var and check length\n",
    "if len(health_measure_var_datetime.var_datetime_utc[0])>len(df_measure_2.var_datetime_utc[0]):\n",
    "    cut_length=(len(health_measure_var_datetime.var_datetime_utc[0])-len(df_measure_2.var_datetime_utc[0]))*-1\n",
    "    health_measure_var_datetime.var_datetime_utc=health_measure_var_datetime.var_datetime_utc.str[:cut_length]\n",
    "if len(df_measure_2.var_datetime_utc[0])>len(health_measure_var_datetime.var_datetime_utc[0]):\n",
    "    cut_length=(len(df_measure_2.var_datetime_utc[0])-len(health_measure_var_datetime.var_datetime_utc[0]))*-1\n",
    "    df_measure_2.var_datetime_utc=df_measure_2.var_datetime_utc.str[:cut_length]"
   ]
  },
  {
   "cell_type": "code",
   "execution_count": null,
   "id": "b5ccc196",
   "metadata": {},
   "outputs": [],
   "source": [
    "df_matching_times=pd.merge(df_measure_2, health_measure_var_datetime,on=\"var_datetime_utc\")\n",
    "df_matching_times.head()"
   ]
  },
  {
   "cell_type": "code",
   "execution_count": null,
   "id": "2e50cab2",
   "metadata": {},
   "outputs": [],
   "source": [
    "#if not same lenth: cut right most characters of df_check_times var_datatime_utc to match df_measures\n",
    "#with new dataframes merge to a completely new dataframe\n",
    "#get unique list of description_id's and remove from new data [df_measure and df_description]\n",
    "dup_descript_id_list=list(df_matching_times.description_id_x.unique())"
   ]
  },
  {
   "cell_type": "code",
   "execution_count": null,
   "id": "75cd22c0",
   "metadata": {},
   "outputs": [],
   "source": [
    "df_measure[~df_measure.description_id.isin(dup_descript_id_list)]\n",
    "df_description[~df_description.index.isin(dup_descript_id_list)]"
   ]
  },
  {
   "cell_type": "code",
   "execution_count": null,
   "id": "daf91006",
   "metadata": {},
   "outputs": [],
   "source": []
  },
  {
   "cell_type": "code",
   "execution_count": null,
   "id": "be96138d",
   "metadata": {},
   "outputs": [],
   "source": [
    "query2=db.session.query(Health_measure.description_id,Health_measure.var_datetime_utc)"
   ]
  },
  {
   "cell_type": "code",
   "execution_count": null,
   "id": "1f716360",
   "metadata": {},
   "outputs": [],
   "source": [
    "query2"
   ]
  },
  {
   "cell_type": "code",
   "execution_count": null,
   "id": "57931436",
   "metadata": {},
   "outputs": [],
   "source": [
    "pd.read_sql(str(query2),db.session.bind) "
   ]
  },
  {
   "cell_type": "code",
   "execution_count": null,
   "id": "9ff36aba",
   "metadata": {},
   "outputs": [],
   "source": [
    "query_str=\"\"\"\n",
    "SELECT health_measure.description_id AS health_measure_description_id, health_measure.var_datetime_utc AS health_measure_var_datetime_utc \n",
    "FROM health_measure \n",
    "WHERE health_measure.description_id = 1\n",
    "\"\"\""
   ]
  },
  {
   "cell_type": "code",
   "execution_count": null,
   "id": "a68750de",
   "metadata": {},
   "outputs": [],
   "source": [
    "df_check_times=pd.read_sql(query_str,db.session.bind)"
   ]
  },
  {
   "cell_type": "code",
   "execution_count": null,
   "id": "f363acb5",
   "metadata": {},
   "outputs": [],
   "source": [
    "df_check_times.rename(columns={'health_measure_var_datetime_utc':'var_datetime_utc'}, inplace=True)"
   ]
  },
  {
   "cell_type": "code",
   "execution_count": null,
   "id": "a4717540",
   "metadata": {},
   "outputs": [],
   "source": [
    "df_check_times.var_datetime_utc.astype(str).head()\n",
    "# df_check_times.var_datetime_utc[0]"
   ]
  },
  {
   "cell_type": "code",
   "execution_count": null,
   "id": "8c1c7881",
   "metadata": {},
   "outputs": [],
   "source": [
    "len(df_check_times.var_datetime_utc.str[:-3][0])"
   ]
  },
  {
   "cell_type": "code",
   "execution_count": null,
   "id": "169e6bf4",
   "metadata": {},
   "outputs": [],
   "source": [
    "df_check_times.var_datetime_utc=df_check_times.var_datetime_utc.str[:-3]\n",
    "# str(df_measure.var_datetime_utc[0])"
   ]
  },
  {
   "cell_type": "code",
   "execution_count": null,
   "id": "61b72591",
   "metadata": {},
   "outputs": [],
   "source": [
    "df_matching_times=pd.merge(df_measure.var_datetime_utc.astype(str), df_check_times.var_datetime_utc.astype(str),on=\"var_datetime_utc\")"
   ]
  },
  {
   "cell_type": "code",
   "execution_count": null,
   "id": "99d9269f",
   "metadata": {},
   "outputs": [],
   "source": [
    "df_matching_times"
   ]
  },
  {
   "cell_type": "code",
   "execution_count": null,
   "id": "049b034c",
   "metadata": {},
   "outputs": [],
   "source": [
    "df_measure.head()"
   ]
  },
  {
   "cell_type": "code",
   "execution_count": null,
   "id": "bf49cb73",
   "metadata": {},
   "outputs": [],
   "source": [
    "df_check_times.head()"
   ]
  },
  {
   "cell_type": "code",
   "execution_count": null,
   "id": "a7958908",
   "metadata": {},
   "outputs": [],
   "source": []
  },
  {
   "cell_type": "markdown",
   "id": "20bd85e3",
   "metadata": {},
   "source": [
    "### scratch work start"
   ]
  },
  {
   "cell_type": "code",
   "execution_count": null,
   "id": "b5a3fd2d",
   "metadata": {},
   "outputs": [],
   "source": [
    "def plot_build(obs_x, obs_y, pred_y, rsq, param):\n",
    "    plt.plot(obs_x, obs_y,':', label='Observed')\n",
    "    plt.plot(obs_x,pred_y,'b-', label='predicted170')\n",
    "    plt.legend(loc=4)\n",
    "    plt.ylim([60, 185])\n",
    "    n1='\\n'\n",
    "    plt.title(f\"Shape Param:{param:3g}\",x=0.4, y=0.9)"
   ]
  },
  {
   "cell_type": "code",
   "execution_count": null,
   "id": "a7480e44",
   "metadata": {},
   "outputs": [],
   "source": [
    "session='training-session-2021-07-20-6287647724-d1b0e090-ef0a-4611-8adb-e85e5dc97ac2.json'\n",
    "# obs_x, obs_y=polar_obs_var_dict[session]\n",
    "obs_x, obs_y=polar_obs_var_dict_trim[session]\n",
    "# param=polar_parameters_dict[session]\n",
    "param_trim=polar_parameters_dict_trim[session]\n",
    "pred_y_trim=polar_pred_var_dict_trim[session]\n",
    "rsq_trim=polar_rsq_dict_trim[session]\n",
    "\n",
    "plot_build(obs_x, obs_y, pred_y_trim, rsq_trim, param_trim)"
   ]
  },
  {
   "cell_type": "code",
   "execution_count": null,
   "id": "b773fc59",
   "metadata": {},
   "outputs": [],
   "source": [
    "plot_build(obs_x, obs_y, obs_y2, rsq_trim, param_trim)"
   ]
  },
  {
   "cell_type": "code",
   "execution_count": null,
   "id": "970cbe4f",
   "metadata": {},
   "outputs": [],
   "source": [
    "plot_build(obs_x, pred_y_trim, pred_y_trim2, rsq_trim, param_trim)"
   ]
  },
  {
   "cell_type": "code",
   "execution_count": null,
   "id": "db607a92",
   "metadata": {},
   "outputs": [],
   "source": [
    "session='training-session-2021-07-25-6306180999-d111a1e8-6339-454f-bfa5-fc12773b3fb6.json'\n",
    "# obs_x, obs_y=polar_obs_var_dict[session]\n",
    "obs_x, obs_y2=polar_obs_var_dict_trim[session]\n",
    "# param=polar_parameters_dict[session]\n",
    "param_trim=polar_parameters_dict_trim[session]\n",
    "pred_y_trim2=polar_pred_var_dict_trim[session]\n",
    "rsq_trim=polar_rsq_dict_trim[session]\n",
    "\n",
    "plot_build(obs_x, obs_y2, pred_y_trim2, rsq_trim, param_trim)"
   ]
  },
  {
   "cell_type": "code",
   "execution_count": null,
   "id": "48209c54",
   "metadata": {},
   "outputs": [],
   "source": [
    "session='training-session-2021-07-25-6306180999-d111a1e8-6339-454f-bfa5-fc12773b3fb6.json'\n",
    "obs_x, obs_y=polar_obs_var_dict[session]\n",
    "# obs_x, obs_y=polar_obs_var_dict_trim[session]\n",
    "param=polar_parameters_dict[session]\n",
    "param=polar_parameters_dict[session]\n",
    "pred_y=polar_pred_var_dict[session]\n",
    "rsq=polar_rsq_dict[session]\n",
    "\n",
    "plot_build(obs_x, obs_y, pred_y, rsq, param)"
   ]
  },
  {
   "cell_type": "markdown",
   "id": "0805cc7b",
   "metadata": {},
   "source": [
    "### scratch work end"
   ]
  },
  {
   "cell_type": "code",
   "execution_count": null,
   "id": "db9db557",
   "metadata": {},
   "outputs": [],
   "source": []
  },
  {
   "cell_type": "markdown",
   "id": "b3032215",
   "metadata": {},
   "source": [
    " # Start work for display/paper"
   ]
  },
  {
   "cell_type": "markdown",
   "id": "3e69894a",
   "metadata": {},
   "source": [
    "### Approved plots"
   ]
  },
  {
   "cell_type": "code",
   "execution_count": null,
   "id": "129568e2",
   "metadata": {},
   "outputs": [],
   "source": [
    "#chart for self: observed and predicted\n",
    "def plot_build_self(x, y_0, y_p, param_0):\n",
    "    plt.plot(x, y_0,'k--', label='Observed')\n",
    "    plt.plot(x,y_p,'k:', label='Predicted')\n",
    "    plt.legend(loc=4)\n",
    "    plt.ylim([60, 185])\n",
    "    n1='\\n'\n",
    "    plt.title(f\"Session_0 Param:{param_0:3g} (count:{len(x)})\",x=0.05, y=0.9,fontdict={'horizontalalignment': 'left'})"
   ]
  },
  {
   "cell_type": "code",
   "execution_count": null,
   "id": "2331416a",
   "metadata": {},
   "outputs": [],
   "source": [
    "session='training-session-2021-07-25-6306180999-d111a1e8-6339-454f-bfa5-fc12773b3fb6.json'\n",
    "x,y_0=polar_obs_var_dict[session]\n",
    "y_p=polar_pred_var_dict[session]\n",
    "param_0=polar_parameters_dict[session]\n",
    "plot_build_self(x, y_0, y_p, param_0)"
   ]
  },
  {
   "cell_type": "code",
   "execution_count": null,
   "id": "1b81b93c",
   "metadata": {},
   "outputs": [],
   "source": []
  },
  {
   "cell_type": "code",
   "execution_count": null,
   "id": "53851ca2",
   "metadata": {},
   "outputs": [],
   "source": [
    "#chart for green: observed\n",
    "def plot_build_green_obs(x, obs_y_0, obs_y_h, param_0, param_h):\n",
    "    plt.plot(x,obs_y_h,'g--', label='Healthier')\n",
    "    plt.plot(x, obs_y_0,'k--', label='Less Health')\n",
    "    plt.legend(loc=4)\n",
    "    plt.ylim([60, 185])\n",
    "    n1='\\n'\n",
    "    plt.title(f\"Healthier Param:{param_h:3g} (count:{len(obs_x)}){n1}Less Health Param:{param_0:3g}\",x=0.05, y=0.85,fontdict={'horizontalalignment': 'left'})"
   ]
  },
  {
   "cell_type": "code",
   "execution_count": null,
   "id": "99652267",
   "metadata": {},
   "outputs": [],
   "source": [
    "session_h='training-session-2021-07-25-6306180999-d111a1e8-6339-454f-bfa5-fc12773b3fb6.json'\n",
    "session_0='training-session-2021-06-25-6199038409-f9a41a7f-2200-4c89-8c33-fe964b45168c.json'\n",
    "\n",
    "x,obs_y_0=polar_obs_var_dict[session_0]\n",
    "x,obs_y_h=polar_obs_var_dict[session_h]\n",
    "# y_p=polar_pred_var_dict[session]\n",
    "param_0=polar_parameters_dict[session_0]\n",
    "param_h=polar_parameters_dict[session_h]\n",
    "plot_build_green_obs(x, obs_y_0, obs_y_h, param_0, param_h)"
   ]
  },
  {
   "cell_type": "code",
   "execution_count": null,
   "id": "bb4bb670",
   "metadata": {},
   "outputs": [],
   "source": [
    "session_h='training-session-2021-07-25-6306180999-d111a1e8-6339-454f-bfa5-fc12773b3fb6.json'\n",
    "session_0='training-session-2021-06-25-6199038409-f9a41a7f-2200-4c89-8c33-fe964b45168c.json'\n",
    "\n",
    "x,obs_y_0=polar_obs_var_dict[session_0]\n",
    "x,obs_y_h=polar_obs_var_dict[session_h]\n",
    "\n",
    "plt.plot(x,obs_y_h,'g--', label='25Jul2021')\n",
    "plt.plot(x, obs_y_0,'k--', label='25Jun2021')\n",
    "plt.legend(loc=4)\n",
    "plt.ylim([60, 185])"
   ]
  },
  {
   "cell_type": "code",
   "execution_count": null,
   "id": "2d12d8e8",
   "metadata": {},
   "outputs": [],
   "source": [
    "session_h='training-session-2021-07-25-6306180999-d111a1e8-6339-454f-bfa5-fc12773b3fb6.json'\n",
    "session_0='training-session-2021-06-25-6199038409-f9a41a7f-2200-4c89-8c33-fe964b45168c.json'\n",
    "\n",
    "# x,obs_y_0=polar_obs_var_dict[session_0]\n",
    "# x,obs_y_h=polar_obs_var_dict[session_h]\n",
    "y_h=polar_pred_var_dict[session]\n",
    "y_0=polar_pred_var_dict[session_0]\n",
    "\n",
    "param_0=polar_parameters_dict[session_0]\n",
    "param_h=polar_parameters_dict[session_h]\n",
    "n1='\\n'\n",
    "plt.plot(x,y_h,'g--', label='25Jul2021')\n",
    "plt.plot(x, y_0,'k--', label='25Jun2021')\n",
    "plt.legend(loc=4)\n",
    "plt.ylim([60, 185])\n",
    "plt.title(f\"Healthier Param:{param_h:3g} (count:{len(obs_x)}){n1}Less Health Param:{param_0:3g}\",x=0.05, y=0.85,fontdict={'horizontalalignment': 'left'})"
   ]
  },
  {
   "cell_type": "code",
   "execution_count": null,
   "id": "ba2e411b",
   "metadata": {},
   "outputs": [],
   "source": []
  },
  {
   "cell_type": "code",
   "execution_count": null,
   "id": "706b4319",
   "metadata": {},
   "outputs": [],
   "source": []
  },
  {
   "cell_type": "code",
   "execution_count": null,
   "id": "45b3c140",
   "metadata": {},
   "outputs": [],
   "source": [
    "#chart for green: predicted\n",
    "def plot_build_green_pred(x, y_0, y_h, param_0, param_h):\n",
    "    plt.plot(x,y_h,'g:', label='Healthier')\n",
    "    plt.plot(x, y_0,'k:', label='Less Health')\n",
    "    plt.legend(loc=4)\n",
    "    plt.ylim([60, 185])\n",
    "#     plt.title(f\"count:{len(obs_x)} /n param:{param_h:3g} /n param:{param_0:3g}\",x=0.4, y=0.9)\n",
    "    n1='\\n'\n",
    "    plt.title(f\"Healthier Param:{param_h:3g} (count:{len(obs_x)}){n1}Less Health Param:{param_0:3g}\",x=0.05, y=0.85,fontdict={'horizontalalignment': 'left'})"
   ]
  },
  {
   "cell_type": "code",
   "execution_count": null,
   "id": "73268a3d",
   "metadata": {},
   "outputs": [],
   "source": [
    "session_h='training-session-2021-07-25-6306180999-d111a1e8-6339-454f-bfa5-fc12773b3fb6.json'\n",
    "session_0='training-session-2021-06-25-6199038409-f9a41a7f-2200-4c89-8c33-fe964b45168c.json'\n",
    "\n",
    "# x,obs_y_0=polar_obs_var_dict[session_0]\n",
    "# x,obs_y_h=polar_obs_var_dict[session_h]\n",
    "y_0=polar_pred_var_dict[session_0]\n",
    "y_h=polar_pred_var_dict[session_h]\n",
    "param_0=polar_parameters_dict[session_0]\n",
    "param_h=polar_parameters_dict[session_h]\n",
    "plot_build_green_pred(x, y_0, y_h, param_0, param_h)"
   ]
  },
  {
   "cell_type": "code",
   "execution_count": null,
   "id": "f255f65a",
   "metadata": {},
   "outputs": [],
   "source": []
  },
  {
   "cell_type": "code",
   "execution_count": null,
   "id": "d714964c",
   "metadata": {},
   "outputs": [],
   "source": [
    "session_0='training-session-2021-06-25-6199038409-f9a41a7f-2200-4c89-8c33-fe964b45168c.json'\n",
    "session_h='training-session-2021-07-31-6328565814-4dbab335-5784-4fc7-9bb3-ebe3d9d23e39.json'\n",
    "\n",
    "x,obs_y_0=polar_obs_var_dict[session_0]\n",
    "x,obs_y_h=polar_obs_var_dict[session_h]\n",
    "# y_p=polar_pred_var_dict[session]\n",
    "param_0=polar_parameters_dict[session_0]\n",
    "param_h=polar_parameters_dict[session_h]\n",
    "plot_build_green_obs(x, obs_y_0, obs_y_h, param_0, param_h)"
   ]
  },
  {
   "cell_type": "code",
   "execution_count": null,
   "id": "ed7bbaaa",
   "metadata": {},
   "outputs": [],
   "source": [
    "session_h='training-session-2021-07-31-6328565814-4dbab335-5784-4fc7-9bb3-ebe3d9d23e39.json'\n",
    "session_0='training-session-2021-06-25-6199038409-f9a41a7f-2200-4c89-8c33-fe964b45168c.json'\n",
    "\n",
    "# x,obs_y_0=polar_obs_var_dict[session_0]\n",
    "# x,obs_y_h=polar_obs_var_dict[session_h]\n",
    "y_0=polar_pred_var_dict[session_0]\n",
    "y_h=polar_pred_var_dict[session_h]\n",
    "param_0=polar_parameters_dict[session_0]\n",
    "param_h=polar_parameters_dict[session_h]\n",
    "plot_build_green_pred(x, y_0, y_h, param_0, param_h)"
   ]
  },
  {
   "cell_type": "code",
   "execution_count": null,
   "id": "1507df42",
   "metadata": {},
   "outputs": [],
   "source": []
  },
  {
   "cell_type": "code",
   "execution_count": null,
   "id": "6d28483c",
   "metadata": {},
   "outputs": [],
   "source": [
    "session_h='training-session-2021-07-31-6328565814-4dbab335-5784-4fc7-9bb3-ebe3d9d23e39.json'\n",
    "session_0='training-session-2021-07-25-6306180999-d111a1e8-6339-454f-bfa5-fc12773b3fb6.json'\n",
    "\n",
    "# x,obs_y_0=polar_obs_var_dict[session_0]\n",
    "# x,obs_y_h=polar_obs_var_dict[session_h]\n",
    "y_0=polar_pred_var_dict[session_0]\n",
    "y_h=polar_pred_var_dict[session_h]\n",
    "param_0=polar_parameters_dict[session_0]\n",
    "param_h=polar_parameters_dict[session_h]\n",
    "plot_build_green_pred(x, y_0, y_h, param_0, param_h)"
   ]
  },
  {
   "cell_type": "code",
   "execution_count": null,
   "id": "12b55a9a",
   "metadata": {},
   "outputs": [],
   "source": [
    "session_h='training-session-2021-07-31-6328565814-4dbab335-5784-4fc7-9bb3-ebe3d9d23e39.json'\n",
    "session_0='training-session-2021-05-16-6045582769-3f773490-3662-43aa-8969-c1e68091a47d.json'\n",
    "\n",
    "x,obs_y_0=polar_obs_var_dict[session_0]\n",
    "x,obs_y_h=polar_obs_var_dict[session_h]\n",
    "# y_p=polar_pred_var_dict[session]\n",
    "param_0=polar_parameters_dict[session_0]\n",
    "param_h=polar_parameters_dict[session_h]\n",
    "plot_build_green_obs(x, obs_y_0, obs_y_h, param_0, param_h)"
   ]
  },
  {
   "cell_type": "code",
   "execution_count": null,
   "id": "733ddb3c",
   "metadata": {},
   "outputs": [],
   "source": [
    "session_h='training-session-2021-07-31-6328565814-4dbab335-5784-4fc7-9bb3-ebe3d9d23e39.json'\n",
    "session_0='training-session-2021-05-16-6045582769-3f773490-3662-43aa-8969-c1e68091a47d.json'\n",
    "y_0=polar_pred_var_dict[session_0]\n",
    "y_h=polar_pred_var_dict[session_h]\n",
    "param_0=polar_parameters_dict[session_0]\n",
    "param_h=polar_parameters_dict[session_h]\n",
    "plot_build_green_pred(x, y_0, y_h, param_0, param_h)"
   ]
  },
  {
   "cell_type": "code",
   "execution_count": null,
   "id": "ca6530d9",
   "metadata": {},
   "outputs": [],
   "source": []
  }
 ],
 "metadata": {
  "kernelspec": {
   "display_name": "Python 3",
   "language": "python",
   "name": "python3"
  },
  "language_info": {
   "codemirror_mode": {
    "name": "ipython",
    "version": 3
   },
   "file_extension": ".py",
   "mimetype": "text/x-python",
   "name": "python",
   "nbconvert_exporter": "python",
   "pygments_lexer": "ipython3",
   "version": "3.9.5"
  }
 },
 "nbformat": 4,
 "nbformat_minor": 5
}
