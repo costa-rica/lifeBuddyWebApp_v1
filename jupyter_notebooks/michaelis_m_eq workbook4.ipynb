{
 "cells": [
  {
   "cell_type": "code",
   "execution_count": null,
   "id": "f83cda33",
   "metadata": {},
   "outputs": [],
   "source": [
    "#change width of current notebook cells\n",
    "from IPython.core.display import display, HTML\n",
    "display(HTML(\"<style>.container { width:90% !important; }</style>\"))"
   ]
  },
  {
   "cell_type": "code",
   "execution_count": 15,
   "id": "b1f8f592",
   "metadata": {},
   "outputs": [],
   "source": [
    "import json\n",
    "import datetime\n",
    "from datetime import timedelta\n",
    "import os, zipfile\n",
    "import pandas as pd\n",
    "from scipy.optimize import curve_fit\n",
    "from scipy.stats import chisquare\n",
    "import numpy as np\n",
    "import matplotlib.pyplot as plt"
   ]
  },
  {
   "cell_type": "markdown",
   "id": "6869e2d6",
   "metadata": {},
   "source": [
    "This notebook will be organized in steps from:\n",
    "1)collecting the polar data, \n",
    "2)make obs_x, obs_y, obs_x_trim, obs_y_trim - trim data is based on the start of data based on lowest heart rate from first 30 seconds. \n",
    "3)fit orign and trim data.\n",
    "4) calculate parameters.\n",
    "5) calculate r sqrs \n",
    "6) build comparisons"
   ]
  },
  {
   "cell_type": "code",
   "execution_count": 2,
   "id": "87a8b568",
   "metadata": {},
   "outputs": [],
   "source": [
    "data_zip_med=r\"C:\\Users\\captian2020\\Downloads\\polar-user-data-export_6103854c-9559-4056-8b5d-89feb507be70.zip\"\n",
    "polar_zip=zipfile.ZipFile(data_zip_med)\n",
    "\n",
    "#read all files in zip to dictionary of file names and json (each value is a training_session)\n",
    "polar_data_dict={}\n",
    "for i in polar_zip.filelist:\n",
    "    polar_data_dict[i.filename]=json.loads(polar_zip.read(i.filename))\n",
    "\n",
    "#read all training sessions into df's inside of a dict\n",
    "polar_df_dict={}\n",
    "for i,j in polar_data_dict.items():\n",
    "    if 'training-session-' in i:\n",
    "        var_datetime_utc=j['timeZoneOffset']\n",
    "        var_datetime_utc_list=[datetime.datetime.strptime(\n",
    "            k['dateTime']  ,'%Y-%m-%dT%H:%M:%S.%f') + timedelta(\n",
    "                minutes=var_datetime_utc) for k in j['exercises'][0]['samples']['heartRate']]\n",
    "        var_values_list=[k['value'] for k in j['exercises'][0]['samples']['heartRate']]\n",
    "        df=pd.DataFrame(list(zip(var_datetime_utc_list,var_values_list)), columns=[\n",
    "            'var_datetime_utc','var_value'])\n",
    "        df['var_activity']=j['name']\n",
    "        df['var_periodicity']='seconds'\n",
    "        df['var_type']='heart rate'\n",
    "        df['var_unit']='heart rate per second'\n",
    "        df['user_id']=1\n",
    "        df['source_filename']=i\n",
    "        df['time_stamp_utc']=datetime.datetime.utcnow()\n",
    "        df['var_timezone_utc_delta_in_mins']=var_datetime_utc\n",
    "        polar_df_dict[i]=df\n",
    "\n",
    "#Dictionary of name, exercise, max obs_y, count\n",
    "polar_data_dict_abbrev={}\n",
    "for i,j in polar_df_dict.items():\n",
    "    polar_data_dict_abbrev[i]=(i,j.at[0,'var_activity'],j.var_value.max(), len(j))"
   ]
  },
  {
   "cell_type": "code",
   "execution_count": 3,
   "id": "51a13896",
   "metadata": {},
   "outputs": [],
   "source": [
    "#The model set to max heartrate = 170\n",
    "def michaelis_m_eq_fix170(time_var, shape_var):\n",
    "    return (170 *time_var)/(shape_var + time_var)"
   ]
  },
  {
   "cell_type": "code",
   "execution_count": 4,
   "id": "c0769a6e",
   "metadata": {},
   "outputs": [],
   "source": [
    "def calc_rsq(obs_y, pred_y):\n",
    "    residuals = obs_y - pred_y\n",
    "    ss_res=np.sum(residuals**2)\n",
    "    ss_tot=np.sum((obs_y-np.mean(obs_y))**2)\n",
    "    r_squared=1-(ss_res/ss_tot)\n",
    "    return r_squared"
   ]
  },
  {
   "cell_type": "code",
   "execution_count": null,
   "id": "8129c49b",
   "metadata": {},
   "outputs": [],
   "source": []
  },
  {
   "cell_type": "markdown",
   "id": "b0e16392",
   "metadata": {},
   "source": [
    "### Collect, trim, model data"
   ]
  },
  {
   "cell_type": "code",
   "execution_count": null,
   "id": "30b41d93",
   "metadata": {},
   "outputs": [],
   "source": []
  },
  {
   "cell_type": "code",
   "execution_count": 5,
   "id": "9d0333bf",
   "metadata": {},
   "outputs": [
    {
     "name": "stderr",
     "output_type": "stream",
     "text": [
      "<ipython-input-4-8c6f25e6ed20>:5: RuntimeWarning: divide by zero encountered in double_scalars\n",
      "  r_squared=1-(ss_res/ss_tot)\n"
     ]
    }
   ],
   "source": [
    "polar_obs_var_dict={};polar_obs_var_dict_trim={}\n",
    "polar_pred_var_dict={};polar_pred_var_dict_trim={}\n",
    "polar_parameters_dict={};polar_parameters_dict_trim={}\n",
    "polar_rsq_dict={};polar_rsq_dict_trim={}\n",
    "\n",
    "for a,b in polar_df_dict.items():\n",
    "    \n",
    "    #Get Observed x and y\n",
    "    var_datetime_utc_list=polar_df_dict[a].var_datetime_utc.to_list()\n",
    "    obs_x=np.array([(i-var_datetime_utc_list[0]).total_seconds() for i in var_datetime_utc_list])\n",
    "    obs_y=np.array(polar_df_dict[a].var_value.to_list())\n",
    "    obs_x_manuf=np.array(range(0,len(obs_y)))\n",
    "    polar_obs_var_dict[a]=(obs_x, obs_y)\n",
    "    \n",
    "    #make trimmed observations based on minimum value of first 30 seconds of session\n",
    "    min_value_30=polar_obs_var_dict[list(polar_obs_var_dict.keys())[0]][1][:30].min()\n",
    "    min_position=np.where(polar_obs_var_dict[list(polar_obs_var_dict.keys())[0]][1][:30]==min_value_30)[0][-1]\n",
    "    obs_y_trim=obs_y[min_position:]\n",
    "    obs_x_trim=np.array(range(0,len(obs_y_trim)))\n",
    "    polar_obs_var_dict_trim[a]=(obs_x_trim, obs_y_trim)\n",
    "    \n",
    "    \n",
    "    #calculate parameter for each model\n",
    "    popt_fix170, pcov_fix170 = curve_fit(michaelis_m_eq_fix170, obs_x, obs_y,bounds=(0,np.inf))\n",
    "    popt_fix170_trim, pcov_fix170_trim = curve_fit(michaelis_m_eq_fix170, obs_x_trim, obs_y_trim,bounds=(0,np.inf))\n",
    "    polar_parameters_dict[a]=(popt_fix170[0])\n",
    "    polar_parameters_dict_trim[a]=(popt_fix170_trim[0])\n",
    "\n",
    "    \n",
    "    #calculated predicted Y's for each model\n",
    "    pred_y_fix170=[michaelis_m_eq_fix170(i, popt_fix170[0]) for i in obs_x]\n",
    "    pred_y_fix170_trim=[michaelis_m_eq_fix170(i, popt_fix170_trim[0]) for i in obs_x_trim]\n",
    "    polar_pred_var_dict[a]=( pred_y_fix170)\n",
    "    polar_pred_var_dict_trim[a]=( pred_y_fix170_trim)\n",
    "    \n",
    "    #claculate the r square for each model\n",
    "    rsq_fix170=calc_rsq(obs_y, pred_y_fix170)\n",
    "    rsq_fix170_trim=calc_rsq(obs_y_trim, pred_y_fix170_trim)\n",
    "    polar_rsq_dict[a]=(rsq_fix170)\n",
    "    polar_rsq_dict_trim[a]=(rsq_fix170_trim)\n",
    "    \n",
    "    "
   ]
  },
  {
   "cell_type": "markdown",
   "id": "fb2b2fff",
   "metadata": {},
   "source": [
    "Check r squared calculation"
   ]
  },
  {
   "cell_type": "code",
   "execution_count": 8,
   "id": "b57ec599",
   "metadata": {},
   "outputs": [],
   "source": [
    "training_session=\"training-session-2021-07-23-6299244154-3de1d61e-a912-49db-a0c5-760aaf80fa3b.json\"\n",
    "obs_x,obs_y=polar_obs_var_dict[training_session]\n",
    "pre_y=polar_pred_var_dict[training_session]\n",
    "\n",
    "obs_x_trim,obs_y_trim=polar_obs_var_dict_trim[training_session]\n",
    "pre_y_trim=polar_pred_var_dict_trim[training_session]"
   ]
  },
  {
   "cell_type": "code",
   "execution_count": 14,
   "id": "3e907824",
   "metadata": {},
   "outputs": [],
   "source": [
    "df_values=pd.DataFrame(list(zip(obs_x,obs_y,pre_y)), columns=['obs_x','obs_y','pred_y'])\n",
    "df_values.to_excel('df_values.xlsx')"
   ]
  },
  {
   "cell_type": "code",
   "execution_count": 18,
   "id": "5176b4a4",
   "metadata": {},
   "outputs": [
    {
     "data": {
      "text/plain": [
       "Power_divergenceResult(statistic=inf, pvalue=0.0)"
      ]
     },
     "execution_count": 18,
     "metadata": {},
     "output_type": "execute_result"
    }
   ],
   "source": [
    "chi_square_training= chisquare(obs_y_trim,pre_y_trim)\n",
    "chi_square_training"
   ]
  },
  {
   "cell_type": "code",
   "execution_count": 21,
   "id": "e6c1d8b4",
   "metadata": {},
   "outputs": [
    {
     "data": {
      "text/plain": [
       "array([ 71,  71,  70, ..., 170, 170, 170])"
      ]
     },
     "execution_count": 21,
     "metadata": {},
     "output_type": "execute_result"
    }
   ],
   "source": [
    "obs_y"
   ]
  },
  {
   "cell_type": "code",
   "execution_count": 23,
   "id": "f17bfa28",
   "metadata": {},
   "outputs": [
    {
     "data": {
      "text/plain": [
       "array([ 92,  92,  91,  92,  92,  96,  99, 100, 101, 101])"
      ]
     },
     "execution_count": 23,
     "metadata": {},
     "output_type": "execute_result"
    }
   ],
   "source": [
    "obs_y_trim[:10]"
   ]
  },
  {
   "cell_type": "code",
   "execution_count": null,
   "id": "0bab4bfe",
   "metadata": {},
   "outputs": [],
   "source": []
  },
  {
   "cell_type": "code",
   "execution_count": null,
   "id": "18c737d5",
   "metadata": {},
   "outputs": [],
   "source": [
    "for i,j in polar_obs_var_dict_trim.items():\n",
    "    length_of_j=len(j[0])\n",
    "    if length_of_j<min_j:\n",
    "        min_j=length_of_j\n",
    "    "
   ]
  },
  {
   "cell_type": "code",
   "execution_count": null,
   "id": "458feaf0",
   "metadata": {},
   "outputs": [],
   "source": [
    "min_j"
   ]
  },
  {
   "cell_type": "markdown",
   "id": "381d2be3",
   "metadata": {},
   "source": [
    "### Make Excel Spreadsheet"
   ]
  },
  {
   "cell_type": "code",
   "execution_count": null,
   "id": "9e539a59",
   "metadata": {},
   "outputs": [],
   "source": [
    "df_description = pd.DataFrame.from_dict(polar_data_dict_abbrev, orient='index', columns=['name', 'exercise', 'maxObs_y', 'count'])\n",
    "df_parameters = pd.DataFrame.from_dict(polar_parameters_dict, orient='index', columns=['popt_fix170'])\n",
    "df_parameters_trim = pd.DataFrame.from_dict(polar_parameters_dict_trim, orient='index', columns=['popt_fix170_trim'])\n",
    "df_rsq=pd.DataFrame.from_dict(polar_rsq_dict, orient='index', columns=['rsq_fix170'])\n",
    "df_rsq_trim=pd.DataFrame.from_dict(polar_rsq_dict_trim, orient='index', columns=['rsq_fix170_trim'])"
   ]
  },
  {
   "cell_type": "code",
   "execution_count": null,
   "id": "e7f887e6",
   "metadata": {},
   "outputs": [],
   "source": [
    "#Make excel spreadsheet with polar_data_dict_abbrev | df_parameters |df_parameters_trim| df_rsq | df_rsq_trim\n",
    "frames=[df_description, df_parameters, df_parameters_trim,df_rsq, df_rsq_trim]\n",
    "result_primary=pd.concat(frames, axis=1)\n",
    "result_primary.to_excel('big_table6_fix170_with_trim.xlsx', index=False)"
   ]
  },
  {
   "cell_type": "markdown",
   "id": "6559452c",
   "metadata": {},
   "source": [
    "### Chart and review output"
   ]
  },
  {
   "cell_type": "code",
   "execution_count": null,
   "id": "957c4962",
   "metadata": {},
   "outputs": [],
   "source": [
    "def plot_build(obs_x, obs_y, pred_y, rsq, param):\n",
    "    \n",
    "    plt.plot(obs_x, obs_y,':', label='Observed')\n",
    "    plt.plot(obs_x,pred_y,'b-', label='predicted170')\n",
    "    plt.legend(loc=4)\n",
    "    plt.ylim([60, 185])\n",
    "    plt.title(\"count:{len(obs_x)} /n rsq:{rsq:.3g} /n param:{param:3g}\",x=0.4, y=0.9)"
   ]
  },
  {
   "cell_type": "code",
   "execution_count": null,
   "id": "8b07c664",
   "metadata": {},
   "outputs": [],
   "source": [
    "training_session=\"training-session-2021-07-23-6299244154-3de1d61e-a912-49db-a0c5-760aaf80fa3b.json\"\n",
    "obs_x, obs_y=polar_obs_var_dict[]\n",
    "polar_obs_var_dict_trim"
   ]
  },
  {
   "cell_type": "code",
   "execution_count": null,
   "id": "fc00abb0",
   "metadata": {},
   "outputs": [],
   "source": []
  }
 ],
 "metadata": {
  "kernelspec": {
   "display_name": "Python 3",
   "language": "python",
   "name": "python3"
  },
  "language_info": {
   "codemirror_mode": {
    "name": "ipython",
    "version": 3
   },
   "file_extension": ".py",
   "mimetype": "text/x-python",
   "name": "python",
   "nbconvert_exporter": "python",
   "pygments_lexer": "ipython3",
   "version": "3.9.5"
  }
 },
 "nbformat": 4,
 "nbformat_minor": 5
}
