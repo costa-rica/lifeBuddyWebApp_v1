{
 "cells": [
  {
   "cell_type": "code",
   "execution_count": 98,
   "id": "3f6f2aab",
   "metadata": {},
   "outputs": [
    {
     "data": {
      "text/html": [
       "<style>.container { width:90% !important; }</style>"
      ],
      "text/plain": [
       "<IPython.core.display.HTML object>"
      ]
     },
     "metadata": {},
     "output_type": "display_data"
    }
   ],
   "source": [
    "#change width of current notebook cells\n",
    "from IPython.core.display import display, HTML\n",
    "display(HTML(\"<style>.container { width:90% !important; }</style>\"))\n",
    "\n",
    "import json\n",
    "import datetime\n",
    "from datetime import timedelta\n",
    "import os, zipfile\n",
    "import pandas as pd\n",
    "from scipy.optimize import curve_fit\n",
    "import numpy as np\n",
    "import matplotlib.pyplot as plt"
   ]
  },
  {
   "cell_type": "markdown",
   "id": "75b57533",
   "metadata": {},
   "source": [
    "Cell below gets data from zip files and puts into dictionaries with dataframes"
   ]
  },
  {
   "cell_type": "code",
   "execution_count": 75,
   "id": "578782df",
   "metadata": {},
   "outputs": [],
   "source": [
    "data_zip_med=r\"C:\\Users\\captian2020\\Downloads\\polar-user-data-export_6103854c-9559-4056-8b5d-89feb507be70.zip\"\n",
    "polar_zip=zipfile.ZipFile(data_zip_med)\n",
    "\n",
    "#read all files in zip to dictionary of file names and json (each value is a training_session)\n",
    "polar_data_dict={}\n",
    "for i in polar_zip.filelist:\n",
    "    polar_data_dict[i.filename]=json.loads(polar_zip.read(i.filename))\n",
    "\n",
    "#read all training sessions into df's inside of a dict\n",
    "polar_df_dict={}\n",
    "for i,j in polar_data_dict.items():\n",
    "    if 'training-session-' in i:\n",
    "        var_datetime_utc=j['timeZoneOffset']\n",
    "        var_datetime_utc_list=[datetime.datetime.strptime(\n",
    "            k['dateTime']  ,'%Y-%m-%dT%H:%M:%S.%f') + timedelta(\n",
    "                minutes=var_datetime_utc) for k in j['exercises'][0]['samples']['heartRate']]\n",
    "        var_values_list=[k['value'] for k in j['exercises'][0]['samples']['heartRate']]\n",
    "        df=pd.DataFrame(list(zip(var_datetime_utc_list,var_values_list)), columns=[\n",
    "            'var_datetime_utc','var_value'])\n",
    "        df['var_activity']=j['name']\n",
    "        df['var_periodicity']='seconds'\n",
    "        df['var_type']='heart rate'\n",
    "        df['var_unit']='heart rate per second'\n",
    "        df['user_id']=1\n",
    "        df['source_filename']=i\n",
    "        df['time_stamp_utc']=datetime.datetime.utcnow()\n",
    "        df['var_timezone_utc_delta_in_mins']=var_datetime_utc\n",
    "        polar_df_dict[i]=df\n",
    "\n",
    "#Dictionary of name, exercise, max obs_y, count\n",
    "polar_data_dict_abbrev={}\n",
    "for i,j in polar_df_dict.items():\n",
    "    polar_data_dict_abbrev[i]=(i,j.at[0,'var_activity'],j.var_value.max(), len(j))"
   ]
  },
  {
   "cell_type": "markdown",
   "id": "a0672f4c",
   "metadata": {},
   "source": [
    "Models used trying to only have one parameter but fit when i fix the max isn't so good"
   ]
  },
  {
   "cell_type": "code",
   "execution_count": 3,
   "id": "53ac3ca8",
   "metadata": {},
   "outputs": [],
   "source": [
    "#The model set to max heartrate = 185\n",
    "def michaelis_m_eq_fixMax(time_var, shape_var):\n",
    "    return (185 *time_var)/(shape_var + time_var)\n",
    "def michaelis_m_eq(time_var, shape_var,max_var):\n",
    "    return (max_var *time_var)/(shape_var + time_var)\n",
    "#The model set to max heartrate = 170\n",
    "def michaelis_m_eq_fix170(time_var, shape_var):\n",
    "    return (170 *time_var)/(shape_var + time_var)\n",
    "#The model set to max heartrate = 160\n",
    "def michaelis_m_eq_fix160(time_var, shape_var):\n",
    "    return (160 *time_var)/(shape_var + time_var)\n",
    "#The model set to max heartrate = 140\n",
    "def michaelis_m_eq_fix140(time_var, shape_var):\n",
    "    return (140 *time_var)/(shape_var + time_var)"
   ]
  },
  {
   "cell_type": "markdown",
   "id": "b4452e6a",
   "metadata": {},
   "source": [
    "function to calcualte the R square of predicted outputs"
   ]
  },
  {
   "cell_type": "code",
   "execution_count": 15,
   "id": "021d419a",
   "metadata": {},
   "outputs": [],
   "source": [
    "def calc_rsq(obs_y, pred_y):\n",
    "    residuals = obs_y - pred_y\n",
    "    ss_res=np.sum(residuals**2)\n",
    "    ss_tot=np.sum((obs_y-np.mean(obs_y))**2)\n",
    "    r_squared=1-(ss_res/ss_tot)\n",
    "    return r_squared"
   ]
  },
  {
   "cell_type": "markdown",
   "id": "200213fa",
   "metadata": {},
   "source": [
    "Make a process for calculating the shape parameter\n",
    "\n",
    "1-put x and y from session into array variables\n",
    "2-run curve fit"
   ]
  },
  {
   "cell_type": "code",
   "execution_count": 4,
   "id": "d6d6a6e0",
   "metadata": {},
   "outputs": [],
   "source": [
    "#Set observed X and Y\n",
    "# var_datetime_utc_list=polar_df_dict[list(polar_df_dict.keys())[0]].var_datetime_utc.to_list()\n",
    "# obs_x=np.array([(i-var_datetime_utc_list[0]).total_seconds() for i in var_datetime_utc_list])\n",
    "# obs_y=np.array(polar_df_dict[list(polar_df_dict.keys())[0]].var_value.to_list())"
   ]
  },
  {
   "cell_type": "code",
   "execution_count": 94,
   "id": "fc9262c0",
   "metadata": {},
   "outputs": [],
   "source": [
    "polar_obs_var_dict={}\n",
    "polar_pred_var_dict={}\n",
    "polar_parameters_dict={}\n",
    "polar_rsq_dict={};first_30_HR_readings_dict={};last_30_HR_readings_dict={}\n",
    "for a,b in polar_df_dict.items():\n",
    "    #Get Observed x and y\n",
    "    var_datetime_utc_list=polar_df_dict[a].var_datetime_utc.to_list()\n",
    "    obs_x=np.array([(i-var_datetime_utc_list[0]).total_seconds() for i in var_datetime_utc_list])\n",
    "    obs_y=np.array(polar_df_dict[a].var_value.to_list())\n",
    "    #calculate parameter for each model\n",
    "    popt, pcov = curve_fit(michaelis_m_eq, obs_x, obs_y,bounds=(0,np.inf))\n",
    "    popt_fixMax, pcov_fixMax = curve_fit(michaelis_m_eq_fixMax, obs_x, obs_y,bounds=(0,np.inf))\n",
    "    popt_fix170, pcov_fix170 = curve_fit(michaelis_m_eq_fix170, obs_x, obs_y,bounds=(0,np.inf))\n",
    "    popt_fix160, pcov_fix160 = curve_fit(michaelis_m_eq_fix160, obs_x, obs_y,bounds=(0,np.inf))\n",
    "    popt_fix140, pcov_fix140 = curve_fit(michaelis_m_eq_fix140, obs_x, obs_y,bounds=(0,np.inf))\n",
    "    #calculated predicted Y's for each model\n",
    "    pred_y=[michaelis_m_eq(i, popt[0], popt[1]) for i in obs_x]\n",
    "    pred_y_fixMax=[michaelis_m_eq_fixMax(i, popt_fixMax[0]) for i in obs_x]\n",
    "    pred_y_fix170=[michaelis_m_eq_fix170(i, popt_fix170[0]) for i in obs_x]\n",
    "    pred_y_fix160=[michaelis_m_eq_fix160(i, popt_fix160[0]) for i in obs_x]\n",
    "    pred_y_fix140=[michaelis_m_eq_fix140(i, popt_fix140[0]) for i in obs_x]\n",
    "    #claculate the r square for each model\n",
    "    rsq_popt=calc_rsq(obs_y, pred_y)\n",
    "    rsq_fixMax=calc_rsq(obs_y, pred_y_fixMax)\n",
    "    rsq_fix170=calc_rsq(obs_y, pred_y_fix170)\n",
    "    rsq_fix160=calc_rsq(obs_y, pred_y_fix160)\n",
    "    rsq_fix140=calc_rsq(obs_y, pred_y_fix140)\n",
    "        \n",
    "    #make dictionary's for readings\n",
    "    polar_obs_var_dict[a]=(obs_x, obs_y)\n",
    "    polar_pred_var_dict[a]=(pred_y,pred_y_fixMax, pred_y_fix170, pred_y_fix160, pred_y_fix140)\n",
    "    polar_parameters_dict[a]=(popt, popt_fixMax[0], popt_fix170[0], popt_fix160[0], popt_fix140[0])\n",
    "    polar_rsq_dict[a]=(rsq_popt, rsq_fixMax, rsq_fix170, rsq_fix160, rsq_fix140)\n",
    "    first_30_HR_readings_dict[a]=obs_y[:30]#get first 30 HR's for each run\n",
    "    last_30_HR_readings_dict[a]=obs_y[-30:]#get last 30 HR's for each run"
   ]
  },
  {
   "cell_type": "code",
   "execution_count": 97,
   "id": "33c10a46",
   "metadata": {},
   "outputs": [],
   "source": [
    "df_description = pd.DataFrame.from_dict(polar_data_dict_abbrev, orient='index', columns=['name', 'exercise', 'maxObs_y', 'count'])\n",
    "df_parameters = pd.DataFrame.from_dict(polar_parameters_dict, orient='index', columns=['popt', 'popt_fixMax', 'popt_fix170', 'popt_fix160', 'popt_fix140'])\n",
    "df_rsq=pd.DataFrame.from_dict(polar_rsq_dict, orient='index', columns=['rsq_popt', 'rsq_fixMax', 'rsq_fix170', 'rsq_fix160', 'rsq_fix140'])\n",
    "# df_first_readings=pd.DataFrame.from_dict(first_30_HR_readings_dict, orient='index',columns=['first_30_HR_readings_dict'])\n",
    "# df_last_readings=pd.DataFrame.from_dict(last_30_HR_readings_dict, orient='index',columns=['last_30_HR_readings_dict'])\n",
    "#Make excel spreadsheet with polar_data_dict_abbrev | df_parameters | df_rsq\n",
    "# frames=[df_description, df_parameters,df_rsq,df_first_readings,df_last_readings]\n",
    "frames=[df_description, df_parameters,df_rsq]\n",
    "result=pd.concat(frames, axis=1)"
   ]
  },
  {
   "cell_type": "code",
   "execution_count": 78,
   "id": "d74c7027",
   "metadata": {},
   "outputs": [],
   "source": [
    "result.to_excel('big_table4.xlsx', index=False)"
   ]
  },
  {
   "cell_type": "code",
   "execution_count": 60,
   "id": "1fddd157",
   "metadata": {},
   "outputs": [],
   "source": []
  },
  {
   "cell_type": "markdown",
   "id": "a1d3948e",
   "metadata": {},
   "source": [
    "Look at plot for exercise"
   ]
  },
  {
   "cell_type": "code",
   "execution_count": 87,
   "id": "552a39c5",
   "metadata": {},
   "outputs": [
    {
     "data": {
      "image/png": "[encoded data removed]",
      "text/plain": [
       "<Figure size 432x288 with 1 Axes>"
      ]
     },
     "metadata": {
      "needs_background": "light"
     },
     "output_type": "display_data"
    }
   ],
   "source": [
    "training_session='training-session-2021-06-16-6165494184-d5e56939-967d-4453-9bbd-047e093ffb58.json'\n",
    "obs_x_y=polar_obs_var_dict[training_session]\n",
    "predicted_y=polar_pred_var_dict[training_session]\n",
    "\n",
    "plt.plot(obs_x_y[0], obs_x_y[1],':', label='Observed')\n",
    "plt.plot(obs_x_y[0],predicted_y[2],'b-', label='predicted170')\n",
    "plt.plot(obs_x_y[0],predicted_y[0],'r-', label='predicted')\n",
    "plt.legend(loc='best')\n",
    "plt.show()"
   ]
  },
  {
   "cell_type": "code",
   "execution_count": 88,
   "id": "742e4e50",
   "metadata": {},
   "outputs": [
    {
     "data": {
      "image/png": "[encoded data removed]",
      "text/plain": [
       "<Figure size 432x288 with 1 Axes>"
      ]
     },
     "metadata": {
      "needs_background": "light"
     },
     "output_type": "display_data"
    }
   ],
   "source": [
    "training_session='training-session-2021-06-09-6138612989-d290224e-957b-4503-8cef-a889c62e4718.json'\n",
    "obs_x_y=polar_obs_var_dict[training_session]\n",
    "predicted_y=polar_pred_var_dict[training_session]\n",
    "\n",
    "plt.plot(obs_x_y[0], obs_x_y[1],':', label='Observed')\n",
    "plt.plot(obs_x_y[0],predicted_y[2],'b-', label='predicted170')\n",
    "plt.plot(obs_x_y[0],predicted_y[0],'r-', label='predicted')\n",
    "plt.legend(loc='best')\n",
    "plt.show()"
   ]
  },
  {
   "cell_type": "code",
   "execution_count": 92,
   "id": "bbc0d25a",
   "metadata": {},
   "outputs": [
    {
     "data": {
      "text/plain": [
       "array([69, 63, 62, 62, 62, 61, 61, 60, 60, 60, 61, 61, 62, 62, 61, 60, 60,\n",
       "       60, 60, 62, 65, 67, 69, 71, 73, 75, 77, 79, 81, 83])"
      ]
     },
     "execution_count": 92,
     "metadata": {},
     "output_type": "execute_result"
    }
   ],
   "source": [
    "obs_x_y[1][:30]"
   ]
  },
  {
   "cell_type": "code",
   "execution_count": null,
   "id": "921636e5",
   "metadata": {},
   "outputs": [],
   "source": []
  }
 ],
 "metadata": {
  "kernelspec": {
   "display_name": "Python 3",
   "language": "python",
   "name": "python3"
  },
  "language_info": {
   "codemirror_mode": {
    "name": "ipython",
    "version": 3
   },
   "file_extension": ".py",
   "mimetype": "text/x-python",
   "name": "python",
   "nbconvert_exporter": "python",
   "pygments_lexer": "ipython3",
   "version": "3.9.5"
  }
 },
 "nbformat": 4,
 "nbformat_minor": 5
}
