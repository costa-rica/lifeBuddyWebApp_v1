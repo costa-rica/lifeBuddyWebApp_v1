{
 "cells": [
  {
   "cell_type": "code",
   "execution_count": 1,
   "id": "fe2aa5da",
   "metadata": {},
   "outputs": [
    {
     "name": "stderr",
     "output_type": "stream",
     "text": [
      "C:\\tools\\miniconda3\\envs\\lifebuddy\\lib\\site-packages\\flask_sqlalchemy\\__init__.py:872: FSADeprecationWarning: SQLALCHEMY_TRACK_MODIFICATIONS adds significant overhead and will be disabled by default in the future.  Set it to True or False to suppress this warning.\n",
      "  warnings.warn(FSADeprecationWarning(\n"
     ]
    }
   ],
   "source": [
    "import json\n",
    "import datetime\n",
    "from datetime import timedelta\n",
    "import os, zipfile\n",
    "import pandas as pd\n",
    "from scipy.optimize import curve_fit\n",
    "from scipy.stats import chisquare\n",
    "import numpy as np\n",
    "import matplotlib.pyplot as plt\n",
    "from LifeBuddyWebApp import create_app, db\n",
    "from LifeBuddyWebApp.models import User, Post, Health_description, Health_measure\n",
    "proxyApp=create_app()\n",
    "ctx=proxyApp.app_context()\n",
    "ctx.push()\n",
    "from sqlalchemy import func"
   ]
  },
  {
   "cell_type": "code",
   "execution_count": null,
   "id": "f581a11c",
   "metadata": {},
   "outputs": [],
   "source": [
    "#change width of current notebook cells\n",
    "from IPython.core.display import display, HTML\n",
    "display(HTML(\"<style>.container { width:90% !important; }</style>\"))"
   ]
  },
  {
   "cell_type": "code",
   "execution_count": 2,
   "id": "5bb07750",
   "metadata": {},
   "outputs": [],
   "source": [
    "data_zip_med=r\"D:\\OneDrive\\Documents\\professional\\20210710lifeBuddy\\misc_not_for_git\\two_traning_sessions.zip\"\n",
    "polar_zip=zipfile.ZipFile(data_zip_med)\n",
    "\n",
    "#read all files in zip to dictionary of file names and json (each value is a training_session)\n",
    "polar_data_dict={}\n",
    "for i in polar_zip.filelist:\n",
    "    polar_data_dict[i.filename]=json.loads(polar_zip.read(i.filename))"
   ]
  },
  {
   "cell_type": "code",
   "execution_count": null,
   "id": "ce4c7bdd",
   "metadata": {},
   "outputs": [],
   "source": [
    "#get max id from Health_description table\n",
    "max_id=db.session.query(func.max(Health_description.id)).first()[0]\n",
    "\n",
    "if max_id==None:\n",
    "    print('cest none')\n",
    "    "
   ]
  },
  {
   "cell_type": "code",
   "execution_count": null,
   "id": "3fee6dd6",
   "metadata": {},
   "outputs": [],
   "source": [
    "df=pd.DataFrame()"
   ]
  },
  {
   "cell_type": "code",
   "execution_count": null,
   "id": "3d2c234a",
   "metadata": {},
   "outputs": [],
   "source": [
    "df"
   ]
  },
  {
   "cell_type": "code",
   "execution_count": null,
   "id": "9da19c83",
   "metadata": {},
   "outputs": [],
   "source": [
    "df['new_coloumn2']=[1,2]"
   ]
  },
  {
   "cell_type": "code",
   "execution_count": null,
   "id": "c2ab2f79",
   "metadata": {},
   "outputs": [],
   "source": [
    "#delete all rows in a table\n",
    "Health_description.query.delete()\n",
    "Health_measure.query.delete()\n",
    "db.session.commit()"
   ]
  },
  {
   "cell_type": "code",
   "execution_count": 34,
   "id": "fc085861",
   "metadata": {},
   "outputs": [],
   "source": [
    "max_id=None\n",
    "test_dict={}\n",
    "for i,j in polar_data_dict.items():\n",
    "    if 'training-session-' in i:\n",
    "        max_id=1 if max_id==None else max_id +1\n",
    "#         df=pd.DataFrame()\n",
    "        temp_df_dict={}\n",
    "        df_list=[]\n",
    "        for data_item in j['exercises'][0]['samples'].keys():\n",
    "\n",
    "            if data_item != 'recordedRoute':\n",
    "                df1=pd.DataFrame()\n",
    "                df1['id']=[max_id]\n",
    "                df1['var_activity']=data_item\n",
    "                \n",
    "                temp_df_dict[data_item]=df1\n",
    "                df_list.append(data_item)\n",
    "            if len(df_list)==1:\n",
    "                df=df1\n",
    "            else:\n",
    "                frames=[j for i,j in temp_df_dict.items()]\n",
    "                df=pd.concat(frames)\n",
    "        \n",
    "        test_dict[i]=df\n",
    "#                 print('after data_iteM',max_id,i,data_item)\n",
    "# polar_data_dict[list(polar_data_dict.keys())[2]][0].keys()"
   ]
  },
  {
   "cell_type": "code",
   "execution_count": 38,
   "id": "ea20bb77",
   "metadata": {},
   "outputs": [
    {
     "data": {
      "text/plain": [
       "['training-session-2021-03-25-5833693154-003b4bf2-e18f-46ad-87df-9254d8434062.json',\n",
       " 'training-session-2021-06-07-6130436929-01765f57-8962-4cb9-8112-2067cd7aada8.json']"
      ]
     },
     "execution_count": 38,
     "metadata": {},
     "output_type": "execute_result"
    }
   ],
   "source": [
    "list(test_dict.keys())"
   ]
  },
  {
   "cell_type": "code",
   "execution_count": 39,
   "id": "7f65daff",
   "metadata": {},
   "outputs": [
    {
     "data": {
      "text/html": [
       "<div>\n",
       "<style scoped>\n",
       "    .dataframe tbody tr th:only-of-type {\n",
       "        vertical-align: middle;\n",
       "    }\n",
       "\n",
       "    .dataframe tbody tr th {\n",
       "        vertical-align: top;\n",
       "    }\n",
       "\n",
       "    .dataframe thead th {\n",
       "        text-align: right;\n",
       "    }\n",
       "</style>\n",
       "<table border=\"1\" class=\"dataframe\">\n",
       "  <thead>\n",
       "    <tr style=\"text-align: right;\">\n",
       "      <th></th>\n",
       "      <th>id</th>\n",
       "      <th>var_activity</th>\n",
       "    </tr>\n",
       "  </thead>\n",
       "  <tbody>\n",
       "    <tr>\n",
       "      <th>0</th>\n",
       "      <td>2</td>\n",
       "      <td>heartRate</td>\n",
       "    </tr>\n",
       "    <tr>\n",
       "      <th>0</th>\n",
       "      <td>2</td>\n",
       "      <td>speed</td>\n",
       "    </tr>\n",
       "    <tr>\n",
       "      <th>0</th>\n",
       "      <td>2</td>\n",
       "      <td>distance</td>\n",
       "    </tr>\n",
       "  </tbody>\n",
       "</table>\n",
       "</div>"
      ],
      "text/plain": [
       "   id var_activity\n",
       "0   2    heartRate\n",
       "0   2        speed\n",
       "0   2     distance"
      ]
     },
     "execution_count": 39,
     "metadata": {},
     "output_type": "execute_result"
    }
   ],
   "source": [
    "test_dict['training-session-2021-06-07-6130436929-01765f57-8962-4cb9-8112-2067cd7aada8.json']"
   ]
  },
  {
   "cell_type": "code",
   "execution_count": null,
   "id": "96cc31b9",
   "metadata": {},
   "outputs": [],
   "source": [
    "pd.DataFrame.from_dict(test_dict, orient='index').to_excel('test_dict.xlsx')"
   ]
  },
  {
   "cell_type": "code",
   "execution_count": 1,
   "id": "b04ed2d6",
   "metadata": {},
   "outputs": [
    {
     "ename": "NameError",
     "evalue": "name 'polar_data_dict' is not defined",
     "output_type": "error",
     "traceback": [
      "\u001b[1;31m---------------------------------------------------------------------------\u001b[0m",
      "\u001b[1;31mNameError\u001b[0m                                 Traceback (most recent call last)",
      "\u001b[1;32m<ipython-input-1-f5b4bca87aab>\u001b[0m in \u001b[0;36m<module>\u001b[1;34m\u001b[0m\n\u001b[0;32m      2\u001b[0m \u001b[0mpolar_df_dict1\u001b[0m\u001b[1;33m=\u001b[0m\u001b[1;33m{\u001b[0m\u001b[1;33m}\u001b[0m\u001b[1;33m\u001b[0m\u001b[1;33m\u001b[0m\u001b[0m\n\u001b[0;32m      3\u001b[0m \u001b[0mpolar_df_dict2\u001b[0m\u001b[1;33m=\u001b[0m\u001b[1;33m{\u001b[0m\u001b[1;33m}\u001b[0m\u001b[1;33m\u001b[0m\u001b[1;33m\u001b[0m\u001b[0m\n\u001b[1;32m----> 4\u001b[1;33m \u001b[1;32mfor\u001b[0m \u001b[0mi\u001b[0m\u001b[1;33m,\u001b[0m\u001b[0mj\u001b[0m \u001b[1;32min\u001b[0m \u001b[0mpolar_data_dict\u001b[0m\u001b[1;33m.\u001b[0m\u001b[0mitems\u001b[0m\u001b[1;33m(\u001b[0m\u001b[1;33m)\u001b[0m\u001b[1;33m:\u001b[0m\u001b[1;33m\u001b[0m\u001b[1;33m\u001b[0m\u001b[0m\n\u001b[0m\u001b[0;32m      5\u001b[0m     \u001b[1;32mif\u001b[0m \u001b[1;34m'training-session-'\u001b[0m \u001b[1;32min\u001b[0m \u001b[0mi\u001b[0m\u001b[1;33m:\u001b[0m\u001b[1;33m\u001b[0m\u001b[1;33m\u001b[0m\u001b[0m\n\u001b[0;32m      6\u001b[0m         \u001b[1;31m#Make Health_description df\u001b[0m\u001b[1;33m\u001b[0m\u001b[1;33m\u001b[0m\u001b[1;33m\u001b[0m\u001b[0m\n",
      "\u001b[1;31mNameError\u001b[0m: name 'polar_data_dict' is not defined"
     ]
    }
   ],
   "source": [
    "#read all training sessions into df's inside of a dict\n",
    "polar_df_dict1={}\n",
    "polar_df_dict2={}\n",
    "for i,j in polar_data_dict.items():\n",
    "    if 'training-session-' in i:\n",
    "        #Make Health_description df\n",
    "        if max_id==None:\n",
    "            max_id=1\n",
    "        else:\n",
    "            max_id +=1\n",
    "            for data_item in j['exercises'][0]['samples'].keys():\n",
    "                # At ths point we have 1,2 or three data sets for each i\n",
    "                if data_item != 'recordedRoute':\n",
    "\n",
    "                    # test_dict[i]=max_id\n",
    "                    \n",
    "                    df1=pd.DataFrame()\n",
    "                    df1['id']=[max_id]\n",
    "                    df1['var_activity']=[j['name']]\n",
    "                    df1['var_type']=['heart rate']\n",
    "                    df1['var_periodicity']=['seconds']\n",
    "                    df1['var_unit']=['heart rate per second']\n",
    "                    df1['var_timezone_utc_delta_in_mins']=[j['timeZoneOffset']]\n",
    "                    df1['time_stamp_utc']=[datetime.datetime.utcnow()]\n",
    "                    df1['user_id']=[1]#replace with current user\n",
    "                    df1['source_filename']=[i]\n",
    "\n",
    "                    var_datetime_utc=j['timeZoneOffset']\n",
    "                    var_datetime_utc_list=[datetime.datetime.strptime(\n",
    "                        k['dateTime']  ,'%Y-%m-%dT%H:%M:%S.%f') + timedelta(\n",
    "                            minutes=var_datetime_utc) for k in j['exercises'][0]['samples']['heartRate']]\n",
    "                    var_values_list=[k['value'] for k in j['exercises'][0]['samples']['heartRate']]\n",
    "                    df2=pd.DataFrame(list(zip(var_datetime_utc_list,var_values_list)), columns=[\n",
    "                        'var_datetime_utc','var_value'])\n",
    "                    df2['description_id']=max_id\n",
    "                    \n",
    "                \n",
    "                polar_df_dict1[i]=df1\n",
    "                polar_df_dict2[i]=df2"
   ]
  },
  {
   "cell_type": "code",
   "execution_count": null,
   "id": "aa2607f8",
   "metadata": {},
   "outputs": [],
   "source": [
    "polar_df_dict1[list(polar_df_dict1.keys())[0]]"
   ]
  },
  {
   "cell_type": "code",
   "execution_count": null,
   "id": "946805c7",
   "metadata": {},
   "outputs": [],
   "source": [
    "polar_data_dict[list(polar_data_dict.keys())[4]]"
   ]
  },
  {
   "cell_type": "code",
   "execution_count": null,
   "id": "b429165d",
   "metadata": {},
   "outputs": [],
   "source": []
  },
  {
   "cell_type": "code",
   "execution_count": null,
   "id": "0f7019ac",
   "metadata": {},
   "outputs": [],
   "source": []
  },
  {
   "cell_type": "code",
   "execution_count": null,
   "id": "05f28a67",
   "metadata": {},
   "outputs": [],
   "source": []
  }
 ],
 "metadata": {
  "kernelspec": {
   "display_name": "Python 3",
   "language": "python",
   "name": "python3"
  },
  "language_info": {
   "codemirror_mode": {
    "name": "ipython",
    "version": 3
   },
   "file_extension": ".py",
   "mimetype": "text/x-python",
   "name": "python",
   "nbconvert_exporter": "python",
   "pygments_lexer": "ipython3",
   "version": "3.9.5"
  }
 },
 "nbformat": 4,
 "nbformat_minor": 5
}
