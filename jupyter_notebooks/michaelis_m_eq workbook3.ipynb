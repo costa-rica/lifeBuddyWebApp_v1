{
 "cells": [
  {
   "cell_type": "markdown",
   "id": "1a4ecdae",
   "metadata": {},
   "source": [
    "This workbook is continuing work from michaelis_m_eq workbook2 but will try to clean some data to make the 170 parameter a little more consistent or add continuity.\n",
    "\n",
    "#### I surmise that there might be 3 problems:\n",
    "1-beginning of runs sharp decresaes in HR because i'm not acugtally running\n",
    "2-end of runs sharp increases in HR because i sprinted or did somethign silly\n",
    "3-generally too much variation that I don't need for htis model\n",
    "\n",
    "This workbook tries to remedy or put little band-aids over these problems to get more continutity in 170 parameter."
   ]
  },
  {
   "cell_type": "code",
   "execution_count": 1,
   "id": "4efc5dd6",
   "metadata": {},
   "outputs": [
    {
     "data": {
      "text/html": [
       "<style>.container { width:90% !important; }</style>"
      ],
      "text/plain": [
       "<IPython.core.display.HTML object>"
      ]
     },
     "metadata": {},
     "output_type": "display_data"
    }
   ],
   "source": [
    "#change width of current notebook cells\n",
    "from IPython.core.display import display, HTML\n",
    "display(HTML(\"<style>.container { width:90% !important; }</style>\"))"
   ]
  },
  {
   "cell_type": "code",
   "execution_count": 1,
   "id": "dca7f30a",
   "metadata": {},
   "outputs": [
    {
     "data": {
      "text/html": [
       "<style>.container { width:100% !important; }</style>"
      ],
      "text/plain": [
       "<IPython.core.display.HTML object>"
      ]
     },
     "metadata": {},
     "output_type": "display_data"
    }
   ],
   "source": [
    "\n",
    "\n",
    "import json\n",
    "import datetime\n",
    "from datetime import timedelta\n",
    "import os, zipfile\n",
    "import pandas as pd\n",
    "from scipy.optimize import curve_fit\n",
    "import numpy as np\n",
    "import matplotlib.pyplot as plt"
   ]
  },
  {
   "cell_type": "code",
   "execution_count": 2,
   "id": "7096f98b",
   "metadata": {},
   "outputs": [],
   "source": [
    "data_zip_med=r\"C:\\Users\\captian2020\\Downloads\\polar-user-data-export_6103854c-9559-4056-8b5d-89feb507be70.zip\"\n",
    "polar_zip=zipfile.ZipFile(data_zip_med)\n",
    "\n",
    "#read all files in zip to dictionary of file names and json (each value is a training_session)\n",
    "polar_data_dict={}\n",
    "for i in polar_zip.filelist:\n",
    "    polar_data_dict[i.filename]=json.loads(polar_zip.read(i.filename))\n",
    "\n",
    "#read all training sessions into df's inside of a dict\n",
    "polar_df_dict={}\n",
    "for i,j in polar_data_dict.items():\n",
    "    if 'training-session-' in i:\n",
    "        var_datetime_utc=j['timeZoneOffset']\n",
    "        var_datetime_utc_list=[datetime.datetime.strptime(\n",
    "            k['dateTime']  ,'%Y-%m-%dT%H:%M:%S.%f') + timedelta(\n",
    "                minutes=var_datetime_utc) for k in j['exercises'][0]['samples']['heartRate']]\n",
    "        var_values_list=[k['value'] for k in j['exercises'][0]['samples']['heartRate']]\n",
    "        df=pd.DataFrame(list(zip(var_datetime_utc_list,var_values_list)), columns=[\n",
    "            'var_datetime_utc','var_value'])\n",
    "        df['var_activity']=j['name']\n",
    "        df['var_periodicity']='seconds'\n",
    "        df['var_type']='heart rate'\n",
    "        df['var_unit']='heart rate per second'\n",
    "        df['user_id']=1\n",
    "        df['source_filename']=i\n",
    "        df['time_stamp_utc']=datetime.datetime.utcnow()\n",
    "        df['var_timezone_utc_delta_in_mins']=var_datetime_utc\n",
    "        polar_df_dict[i]=df\n",
    "\n",
    "#Dictionary of name, exercise, max obs_y, count\n",
    "polar_data_dict_abbrev={}\n",
    "for i,j in polar_df_dict.items():\n",
    "    polar_data_dict_abbrev[i]=(i,j.at[0,'var_activity'],j.var_value.max(), len(j))"
   ]
  },
  {
   "cell_type": "code",
   "execution_count": 3,
   "id": "975d2f70",
   "metadata": {},
   "outputs": [],
   "source": [
    "#The model set to max heartrate = 185\n",
    "def michaelis_m_eq_fixMax(time_var, shape_var):\n",
    "    return (185 *time_var)/(shape_var + time_var)\n",
    "def michaelis_m_eq(time_var, shape_var,max_var):\n",
    "    return (max_var *time_var)/(shape_var + time_var)\n",
    "#The model set to max heartrate = 170\n",
    "def michaelis_m_eq_fix170(time_var, shape_var):\n",
    "    return (170 *time_var)/(shape_var + time_var)\n",
    "#The model set to max heartrate = 160\n",
    "def michaelis_m_eq_fix160(time_var, shape_var):\n",
    "    return (160 *time_var)/(shape_var + time_var)\n",
    "#The model set to max heartrate = 140\n",
    "def michaelis_m_eq_fix140(time_var, shape_var):\n",
    "    return (140 *time_var)/(shape_var + time_var)"
   ]
  },
  {
   "cell_type": "code",
   "execution_count": 4,
   "id": "07c9d924",
   "metadata": {},
   "outputs": [],
   "source": [
    "def calc_rsq(obs_y, pred_y):\n",
    "    residuals = obs_y - pred_y\n",
    "    ss_res=np.sum(residuals**2)\n",
    "    ss_tot=np.sum((obs_y-np.mean(obs_y))**2)\n",
    "    r_squared=1-(ss_res/ss_tot)\n",
    "    return r_squared"
   ]
  },
  {
   "cell_type": "code",
   "execution_count": null,
   "id": "ddecf070",
   "metadata": {},
   "outputs": [],
   "source": [
    "## Here is where I take a stab at fixing #1 and #2."
   ]
  },
  {
   "cell_type": "code",
   "execution_count": null,
   "id": "06c388ef",
   "metadata": {},
   "outputs": [],
   "source": []
  },
  {
   "cell_type": "code",
   "execution_count": 5,
   "id": "e80cfaee",
   "metadata": {},
   "outputs": [],
   "source": [
    "polar_obs_var_dict={}\n",
    "polar_pred_var_dict={}\n",
    "polar_parameters_dict={}\n",
    "polar_rsq_dict={};first_30_HR_readings_dict={};last_30_HR_readings_dict={}\n",
    "for a,b in polar_df_dict.items():\n",
    "    #Get Observed x and y\n",
    "    var_datetime_utc_list=polar_df_dict[a].var_datetime_utc.to_list()\n",
    "    obs_x=np.array([(i-var_datetime_utc_list[0]).total_seconds() for i in var_datetime_utc_list])\n",
    "    obs_y=np.array(polar_df_dict[a].var_value.to_list())\n",
    "    #calculate parameter for each model\n",
    "    popt, pcov = curve_fit(michaelis_m_eq, obs_x, obs_y,bounds=(0,np.inf))\n",
    "    popt_fixMax, pcov_fixMax = curve_fit(michaelis_m_eq_fixMax, obs_x, obs_y,bounds=(0,np.inf))\n",
    "    popt_fix170, pcov_fix170 = curve_fit(michaelis_m_eq_fix170, obs_x, obs_y,bounds=(0,np.inf))\n",
    "    popt_fix160, pcov_fix160 = curve_fit(michaelis_m_eq_fix160, obs_x, obs_y,bounds=(0,np.inf))\n",
    "    popt_fix140, pcov_fix140 = curve_fit(michaelis_m_eq_fix140, obs_x, obs_y,bounds=(0,np.inf))\n",
    "    #calculated predicted Y's for each model\n",
    "    pred_y=[michaelis_m_eq(i, popt[0], popt[1]) for i in obs_x]\n",
    "    pred_y_fixMax=[michaelis_m_eq_fixMax(i, popt_fixMax[0]) for i in obs_x]\n",
    "    pred_y_fix170=[michaelis_m_eq_fix170(i, popt_fix170[0]) for i in obs_x]\n",
    "    pred_y_fix160=[michaelis_m_eq_fix160(i, popt_fix160[0]) for i in obs_x]\n",
    "    pred_y_fix140=[michaelis_m_eq_fix140(i, popt_fix140[0]) for i in obs_x]\n",
    "    #claculate the r square for each model\n",
    "    rsq_popt=calc_rsq(obs_y, pred_y)\n",
    "    rsq_fixMax=calc_rsq(obs_y, pred_y_fixMax)\n",
    "    rsq_fix170=calc_rsq(obs_y, pred_y_fix170)\n",
    "    rsq_fix160=calc_rsq(obs_y, pred_y_fix160)\n",
    "    rsq_fix140=calc_rsq(obs_y, pred_y_fix140)\n",
    "        \n",
    "    #make dictionary's for readings\n",
    "    polar_obs_var_dict[a]=(obs_x, obs_y)\n",
    "    polar_pred_var_dict[a]=(pred_y,pred_y_fixMax, pred_y_fix170, pred_y_fix160, pred_y_fix140)\n",
    "    polar_parameters_dict[a]=(popt, popt_fixMax[0], popt_fix170[0], popt_fix160[0], popt_fix140[0])\n",
    "    polar_rsq_dict[a]=(rsq_popt, rsq_fixMax, rsq_fix170, rsq_fix160, rsq_fix140)\n",
    "    first_30_HR_readings_dict[a]=obs_y[:30]#get first 30 HR's for each run\n",
    "    last_30_HR_readings_dict[a]=obs_y[-30:]#get last 30 HR's for each run"
   ]
  },
  {
   "cell_type": "code",
   "execution_count": null,
   "id": "b8996d1d",
   "metadata": {},
   "outputs": [],
   "source": []
  },
  {
   "cell_type": "code",
   "execution_count": 13,
   "id": "23363269",
   "metadata": {},
   "outputs": [],
   "source": [
    "df_description = pd.DataFrame.from_dict(polar_data_dict_abbrev, orient='index', columns=['name', 'exercise', 'maxObs_y', 'count'])\n",
    "df_parameters = pd.DataFrame.from_dict(polar_parameters_dict, orient='index', columns=['popt', 'popt_fixMax', 'popt_fix170', 'popt_fix160', 'popt_fix140'])\n",
    "df_rsq=pd.DataFrame.from_dict(polar_rsq_dict, orient='index', columns=['rsq_popt', 'rsq_fixMax', 'rsq_fix170', 'rsq_fix160', 'rsq_fix140'])\n",
    "\n",
    "#Make excel spreadsheet with polar_data_dict_abbrev | df_parameters | df_rsq\n",
    "frames=[df_description, df_parameters,df_rsq]\n",
    "result_primary=pd.concat(frames, axis=1)\n",
    "result_primary.to_excel('big_table5.xlsx', index=False)"
   ]
  },
  {
   "cell_type": "code",
   "execution_count": 11,
   "id": "cf39f602",
   "metadata": {},
   "outputs": [],
   "source": [
    "df_first_readings=pd.DataFrame.from_dict(first_30_HR_readings_dict, orient='index')\n",
    "frames=[df_description, df_first_readings]\n",
    "result=pd.concat(frames, axis=1)\n",
    "result.to_excel('first_30_HR_readings_dict.xlsx', index=False)\n",
    "\n",
    "df_last_readings=pd.DataFrame.from_dict(last_30_HR_readings_dict, orient='index')\n",
    "frames=[df_description, df_last_readings]\n",
    "result=pd.concat(frames, axis=1)\n",
    "result.to_excel('last_30_HR_readings_dict.xlsx', index=False)"
   ]
  },
  {
   "cell_type": "markdown",
   "id": "153f00ca",
   "metadata": {},
   "source": [
    "Consider training-session-2021-06-07-6130417624-09066edd-885a-499d-8f5a-80a28a736dc9.json\n",
    "If we remove the beginnig where the data dips do we get a better fit?"
   ]
  },
  {
   "cell_type": "code",
   "execution_count": 60,
   "id": "f561480c",
   "metadata": {},
   "outputs": [
    {
     "data": {
      "image/png": "[encoded data removed]",
      "text/plain": [
       "<Figure size 432x288 with 1 Axes>"
      ]
     },
     "metadata": {
      "needs_background": "light"
     },
     "output_type": "display_data"
    }
   ],
   "source": [
    "training_session='training-session-2021-05-05-6002663974-0f4e42e9-7513-4263-84cd-1b694b1500eb.json'\n",
    "obs_x_y=polar_obs_var_dict[training_session]\n",
    "predicted_y=polar_pred_var_dict[training_session]\n",
    "\n",
    "plt.plot(obs_x_y[0], obs_x_y[1],':', label='Observed')\n",
    "plt.plot(obs_x_y[0],predicted_y[2],'b-', label='predicted170')\n",
    "rsq_plot=polar_rsq_dict[training_session][2];popt_fix170_plot=polar_parameters_dict[training_session][2]\n",
    "plt.title(f\"Rsq: {rsq_plot} param: {popt_fix170_plot}\")\n",
    "plt.legend(loc='best')\n",
    "plt.ylim([60, 185])\n",
    "plt.show()"
   ]
  },
  {
   "cell_type": "code",
   "execution_count": 57,
   "id": "a4fcd502",
   "metadata": {},
   "outputs": [
    {
     "data": {
      "text/plain": [
       "name           training-session-2021-05-05-6002663974-0f4e42e...\n",
       "exercise                                                 Running\n",
       "maxObs_y                                                     168\n",
       "count                                                        342\n",
       "popt_fix170                                             4.280699\n",
       "rsq_fix170                                              0.020724\n",
       "Name: training-session-2021-05-05-6002663974-0f4e42e9-7513-4263-84cd-1b694b1500eb.json, dtype: object"
      ]
     },
     "execution_count": 57,
     "metadata": {},
     "output_type": "execute_result"
    }
   ],
   "source": [
    "# result_primary.at[0,['popt_fix170', 'rsq_fix170']]\n",
    "# result_primary.loc[1:2, result_primary.columns.isin(['popt_fix170', 'rsq_fix170'])]\n",
    "\n",
    "# result_small_170=result_primary[['name' ,'exercise', 'maxObs_y' ,'count' ,'popt_fix170', 'rsq_fix170']].copy()\n",
    "result_small_170.loc[training_session,:]"
   ]
  },
  {
   "cell_type": "code",
   "execution_count": 54,
   "id": "88c2ea20",
   "metadata": {},
   "outputs": [
    {
     "name": "stdout",
     "output_type": "stream",
     "text": [
      "[7.80409008] 0.23749375115010707\n"
     ]
    }
   ],
   "source": [
    "cutoff=11\n",
    "x_run_test=np.array(range(0,len(polar_obs_var_dict[training_session][0][cutoff:])))\n",
    "y_run_test=polar_obs_var_dict[training_session][1][cutoff:]\n",
    "\n",
    "popt_fix170, pcov_fix170 = curve_fit(michaelis_m_eq_fix170, x_run_test, y_run_test,bounds=(0,np.inf))\n",
    "\n",
    "pred_y_fix170=[michaelis_m_eq_fix170(i, popt_fix170[0]) for i in x_run_test]\n",
    "\n",
    "rsq_fix170=calc_rsq(y_run_test, pred_y_fix170)\n",
    "\n",
    "print(popt_fix170,rsq_fix170)"
   ]
  },
  {
   "cell_type": "code",
   "execution_count": 55,
   "id": "fd68579d",
   "metadata": {},
   "outputs": [
    {
     "data": {
      "image/png": "[encoded data removed]",
      "text/plain": [
       "<Figure size 432x288 with 1 Axes>"
      ]
     },
     "metadata": {
      "needs_background": "light"
     },
     "output_type": "display_data"
    }
   ],
   "source": [
    "obs_x_y=(x_run_test,y_run_test)\n",
    "predicted_y=pred_y_fix170\n",
    "\n",
    "plt.plot(obs_x_y[0], obs_x_y[1],':', label='Observed')\n",
    "plt.plot(obs_x_y[0],predicted_y,'b-', label='predicted170')\n",
    "# plt.plot(obs_x_y[0],predicted_y[0],'r-', label='predicted')\n",
    "plt.legend(loc='best')\n",
    "plt.ylim([60, 185])\n",
    "plt.show()"
   ]
  },
  {
   "cell_type": "code",
   "execution_count": null,
   "id": "1a78c4f0",
   "metadata": {},
   "outputs": [],
   "source": []
  },
  {
   "cell_type": "markdown",
   "id": "0ae523cf",
   "metadata": {},
   "source": [
    "build a def for chart\n",
    "input: obs_x, obs_y, pred_y, rsq, param\n",
    "output: -chart w/ obs_y and pred_y\n",
    "-title with rsq, param, count"
   ]
  },
  {
   "cell_type": "code",
   "execution_count": 153,
   "id": "766686c9",
   "metadata": {},
   "outputs": [],
   "source": [
    "def plot_build(obs_x, obs_y, pred_y, rsq, param):\n",
    "    plt.plot(obs_x, obs_y,':', label='Observed')\n",
    "    plt.plot(obs_x,pred_y,'b-', label='predicted170')\n",
    "    plt.legend(loc=4)\n",
    "    plt.ylim([60, 185])\n",
    "    plt.title(\"count:{len(obs_x)} /n rsq:{rsq:.3g} /n param:{param:3g}\",x=0.4, y=0.9)\n",
    "    "
   ]
  },
  {
   "cell_type": "code",
   "execution_count": null,
   "id": "a2a1b481",
   "metadata": {},
   "outputs": [],
   "source": [
    "training_session='training-session-2021-05-05-6002663974-0f4e42e9-7513-4263-84cd-1b694b1500eb.json'\n",
    "obs_x=polar_obs_var_dict[training_session][0]; obs_y=polar_obs_var_dict[training_session][1]\n",
    "popt_fix170, pcov_fix170 = curve_fit(michaelis_m_eq_fix170, x_run_test, y_run_test,bounds=(0,np.inf))\n",
    "predicted_y=polar_pred_var_dict[training_session]\n"
   ]
  },
  {
   "cell_type": "code",
   "execution_count": null,
   "id": "7639dc52",
   "metadata": {},
   "outputs": [],
   "source": []
  }
 ],
 "metadata": {
  "kernelspec": {
   "display_name": "Python 3",
   "language": "python",
   "name": "python3"
  },
  "language_info": {
   "codemirror_mode": {
    "name": "ipython",
    "version": 3
   },
   "file_extension": ".py",
   "mimetype": "text/x-python",
   "name": "python",
   "nbconvert_exporter": "python",
   "pygments_lexer": "ipython3",
   "version": "3.9.5"
  }
 },
 "nbformat": 4,
 "nbformat_minor": 5
}
