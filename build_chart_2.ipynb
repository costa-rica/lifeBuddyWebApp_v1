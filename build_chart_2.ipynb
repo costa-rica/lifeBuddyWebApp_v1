{
 "cells": [
  {
   "cell_type": "code",
   "execution_count": 1,
   "id": "7d8435bd",
   "metadata": {},
   "outputs": [
    {
     "name": "stderr",
     "output_type": "stream",
     "text": [
      "C:\\tools\\miniconda3\\envs\\lifebuddy\\lib\\site-packages\\flask_sqlalchemy\\__init__.py:872: FSADeprecationWarning: SQLALCHEMY_TRACK_MODIFICATIONS adds significant overhead and will be disabled by default in the future.  Set it to True or False to suppress this warning.\n",
      "  warnings.warn(FSADeprecationWarning(\n"
     ]
    }
   ],
   "source": [
    "import json;import datetime;from datetime import timedelta;import os, zipfile;\n",
    "import pandas as pd;from scipy.optimize import curve_fit;from scipy.stats import chisquare\n",
    "import numpy as np;import matplotlib.pyplot as plt\n",
    "from LifeBuddyWebApp import create_app, db\n",
    "from LifeBuddyWebApp.models import User, Post, Health_description, Health_measure\n",
    "proxyApp=create_app()\n",
    "ctx=proxyApp.app_context()\n",
    "ctx.push()\n",
    "from sqlalchemy import func\n",
    "\n",
    "from bokeh.plotting import figure, output_file, show\n",
    "import pandas as pd\n",
    "from bokeh.resources import CDN\n",
    "from bokeh.models import ColumnDataSource, Grid, LinearAxis, Plot, Text\n",
    "from bokeh.io import curdoc\n",
    "from bokeh.themes import built_in_themes"
   ]
  },
  {
   "cell_type": "code",
   "execution_count": null,
   "id": "fd9d4ac7",
   "metadata": {},
   "outputs": [],
   "source": [
    "#change width of current notebook cells\n",
    "from IPython.core.display import display, HTML\n",
    "display(HTML(\"<style>.container { width:90% !important; }</style>\"))"
   ]
  },
  {
   "cell_type": "code",
   "execution_count": 5,
   "id": "0102125d",
   "metadata": {},
   "outputs": [],
   "source": [
    "#get existing database health_measure.description id and var_datetime_utc ***TODO Make this filter on user*****\n",
    "base_query_health_description=db.session.query(Health_description)\n",
    "df_health_description=pd.read_sql(str(base_query_health_description),db.session.bind) \n",
    "#correct column names\n",
    "colNames=[i[len('health_description_'):] for i in list(df_health_description.columns)]\n",
    "col_names_dict={i:j for i,j in zip(list(df_health_description.columns),colNames)}\n",
    "df_health_description.rename(columns=col_names_dict, inplace=True)\n",
    "\n",
    "df1=df_health_description.loc[df_health_description.metric1_carido<100]\n",
    "obs_x=df1.datetime_of_activity\n",
    "obs_y=df1.metric1_carido\n",
    "\n",
    "x_obs=[ datetime.datetime.strptime(date_string,'%Y-%m-%d %H:%M:%S.%f') for date_string in df1.datetime_of_activity]\n",
    "y_obs=df1.metric1_carido"
   ]
  },
  {
   "cell_type": "code",
   "execution_count": 64,
   "id": "5377180e",
   "metadata": {},
   "outputs": [
    {
     "name": "stdout",
     "output_type": "stream",
     "text": [
      "2021-08-13 14:04:09.641000  end:: 2021-08-20 14:04:09.641000\n"
     ]
    }
   ],
   "source": [
    "# df1=df1.sort_values(by=['datetime_of_activity'])\n",
    "end_date=datetime.datetime.strptime(df1.datetime_of_activity.to_list()[-1],'%Y-%m-%d %H:%M:%S.%f')\n",
    "start_date=end_date - timedelta(days=7)\n",
    "print(start_date,' end::',end_date)"
   ]
  },
  {
   "cell_type": "code",
   "execution_count": 13,
   "id": "39d4def6",
   "metadata": {},
   "outputs": [
    {
     "name": "stderr",
     "output_type": "stream",
     "text": [
      "BokehDeprecationWarning: 'legend' keyword is deprecated, use explicit 'legend_label', 'legend_field', or 'legend_group' keywords instead\n"
     ]
    }
   ],
   "source": [
    "curdoc().theme = 'dark_minimal'\n",
    "p2=figure(title='simple example',x_axis_label='X axis',y_axis_label='Y axis', x_axis_type='datetime',width=800, height=300)\n",
    "p2.circle(obs_x,obs_y, legend='Test', size=10)\n",
    "show(p2)"
   ]
  },
  {
   "cell_type": "code",
   "execution_count": null,
   "id": "4e39f583",
   "metadata": {},
   "outputs": [],
   "source": []
  },
  {
   "cell_type": "code",
   "execution_count": null,
   "id": "b0cb1768",
   "metadata": {},
   "outputs": [],
   "source": [
    "# x_obs=df2.datetime_of_activity\n",
    "x_obs=[ datetime.datetime.strptime(date_string,'%Y-%m-%d %H:%M:%S.%f') for date_string in df1.datetime_of_activity]\n",
    "y_obs=df1.metric1_carido\n",
    "p2=figure(x_axis_label='Time',y_axis_label='Y axis', x_axis_type='datetime',width=800, height=300)\n",
    "p2.circle(x_obs,y_obs, legend='Test', size=1)\n",
    "p2.text()\n",
    "show(p2)"
   ]
  },
  {
   "cell_type": "code",
   "execution_count": null,
   "id": "4b0d1999",
   "metadata": {},
   "outputs": [],
   "source": [
    "type(df1.datetime_of_activity[0])\n",
    "df1.datetime_of_activity[0]"
   ]
  },
  {
   "cell_type": "code",
   "execution_count": 40,
   "id": "fc36fdd1",
   "metadata": {},
   "outputs": [
    {
     "data": {
      "text/plain": [
       "datetime.datetime(2021, 6, 9, 12, 8, 34, 635000)"
      ]
     },
     "execution_count": 40,
     "metadata": {},
     "output_type": "execute_result"
    }
   ],
   "source": [
    "datetime.datetime.strptime(df1.datetime_of_activity[0],'%Y-%m-%d %H:%M:%S.%f')"
   ]
  },
  {
   "cell_type": "code",
   "execution_count": null,
   "id": "39991253",
   "metadata": {},
   "outputs": [],
   "source": [
    "\n",
    "cdn_js=CDN.js_files\n",
    "cdn_css=CDN.css_files"
   ]
  },
  {
   "cell_type": "code",
   "execution_count": null,
   "id": "61afe6cc",
   "metadata": {},
   "outputs": [],
   "source": [
    "cdn_js"
   ]
  },
  {
   "cell_type": "code",
   "execution_count": 49,
   "id": "a1ad11af",
   "metadata": {},
   "outputs": [],
   "source": [
    "def plot_text_format(x):\n",
    "    return ('%.1f' % x).rstrip('0').rstrip('.')"
   ]
  },
  {
   "cell_type": "code",
   "execution_count": 50,
   "id": "040553a8",
   "metadata": {},
   "outputs": [],
   "source": [
    "y_obs_formatted=[ plot_text_format(i) for i in y_obs]"
   ]
  },
  {
   "cell_type": "code",
   "execution_count": 11,
   "id": "b4acc413",
   "metadata": {},
   "outputs": [],
   "source": [
    "curdoc().theme = 'contrast'\n",
    "source = ColumnDataSource(dict(x=x_obs, y=y_obs, text=y_obs_formatted))\n",
    "plot=Plot(plot_width=800, plot_height=300, toolbar_location=None)\n",
    "glyph = Text(x=\"x\", y=\"y\", text=\"text\")\n",
    "plot.add_glyph(source, glyph)\n",
    "\n",
    "# curdoc().add_root(plot)\n",
    "\n",
    "\n",
    "show(plot)"
   ]
  },
  {
   "cell_type": "code",
   "execution_count": 47,
   "id": "135127f5",
   "metadata": {},
   "outputs": [],
   "source": [
    "curdoc().theme = 'night_sky'\n",
    "source = ColumnDataSource(dict(x=x_obs, y=y_obs, text=y_obs_formatted))\n",
    "p2=figure(x_axis_label='Time',x_axis_type='datetime',y_axis_label='your life data',width=800, height=300, toolbar_location=None,\n",
    "          tools='xwheel_zoom,xpan',active_scroll='xwheel_zoom',x_range=(date1,date2))\n",
    "p2.yaxis.major_label_text_color='black'\n",
    "# p2.xaxis.x_range_name()\n",
    "# p2.extra_x_ranges = {\"ValueationRange\":bokeh.models.Range1d(start=date1, end=date2)}\n",
    "# p2.add_layout(bokeh.models.LinearAxis(x_range_name=\"ValueationRange\",\n",
    "#                                         axis_label='Valueation'), 'above')\n",
    "glyph = Text(text=\"text\", text_color=\"#d6fbf7\")\n",
    "\n",
    "p2.add_glyph(source, glyph)\n",
    "\n",
    "show(p2)"
   ]
  },
  {
   "cell_type": "code",
   "execution_count": 43,
   "id": "9f38a618",
   "metadata": {},
   "outputs": [],
   "source": [
    "date1=datetime.datetime.strptime(df1.datetime_of_activity[2],'%Y-%m-%d %H:%M:%S.%f')\n",
    "date2=datetime.datetime.strptime(df1.datetime_of_activity[0],'%Y-%m-%d %H:%M:%S.%f')"
   ]
  },
  {
   "cell_type": "code",
   "execution_count": 52,
   "id": "7007955d",
   "metadata": {},
   "outputs": [
    {
     "data": {
      "text/plain": [
       "[datetime.datetime(2021, 6, 9, 12, 8, 34, 635000),\n",
       " datetime.datetime(2021, 7, 19, 9, 58, 41, 657000),\n",
       " datetime.datetime(2021, 4, 1, 10, 53, 23, 421000),\n",
       " datetime.datetime(2021, 3, 21, 13, 1, 19, 783000),\n",
       " datetime.datetime(2021, 5, 21, 12, 0, 14, 864000),\n",
       " datetime.datetime(2021, 3, 26, 10, 46, 8, 983000),\n",
       " datetime.datetime(2021, 6, 9, 12, 0, 26, 467000),\n",
       " datetime.datetime(2021, 7, 24, 10, 7, 28, 476000),\n",
       " datetime.datetime(2021, 4, 21, 9, 59, 15, 338000),\n",
       " datetime.datetime(2021, 6, 7, 11, 58, 51, 927000),\n",
       " datetime.datetime(2021, 4, 11, 12, 15, 47, 878000),\n",
       " datetime.datetime(2021, 3, 26, 11, 3, 26, 601000),\n",
       " datetime.datetime(2021, 5, 15, 11, 9, 44, 660000),\n",
       " datetime.datetime(2021, 6, 7, 12, 8, 12, 138000),\n",
       " datetime.datetime(2021, 5, 17, 11, 23, 21, 470000),\n",
       " datetime.datetime(2021, 8, 9, 14, 18, 16, 796000),\n",
       " datetime.datetime(2021, 5, 18, 11, 32, 12, 553000),\n",
       " datetime.datetime(2021, 4, 25, 12, 47, 6, 940000),\n",
       " datetime.datetime(2021, 7, 19, 10, 13, 33, 401000),\n",
       " datetime.datetime(2021, 5, 25, 11, 55, 55, 917000),\n",
       " datetime.datetime(2021, 7, 31, 12, 40, 31, 765000),\n",
       " datetime.datetime(2021, 5, 18, 11, 26, 48, 918000),\n",
       " datetime.datetime(2021, 3, 30, 13, 44, 6, 286000),\n",
       " datetime.datetime(2021, 3, 30, 14, 26, 6, 210000),\n",
       " datetime.datetime(2021, 3, 17, 11, 41, 14, 32000),\n",
       " datetime.datetime(2021, 7, 19, 9, 32, 36, 953000),\n",
       " datetime.datetime(2021, 5, 5, 11, 16, 5, 181000),\n",
       " datetime.datetime(2021, 5, 21, 11, 17, 25, 989000),\n",
       " datetime.datetime(2021, 4, 26, 13, 42, 41, 359000),\n",
       " datetime.datetime(2021, 4, 8, 14, 39, 58, 681000),\n",
       " datetime.datetime(2021, 5, 8, 11, 8, 47, 71000),\n",
       " datetime.datetime(2021, 3, 27, 9, 53, 56, 865000),\n",
       " datetime.datetime(2021, 7, 20, 9, 39, 51, 783000),\n",
       " datetime.datetime(2021, 7, 31, 12, 15, 12, 371000),\n",
       " datetime.datetime(2021, 6, 18, 9, 44, 54, 619000),\n",
       " datetime.datetime(2021, 3, 29, 12, 40, 46, 528000),\n",
       " datetime.datetime(2021, 7, 25, 11, 23, 4, 696000),\n",
       " datetime.datetime(2021, 8, 13, 14, 52, 38, 296000),\n",
       " datetime.datetime(2021, 4, 26, 14, 1, 17, 298000),\n",
       " datetime.datetime(2021, 3, 31, 12, 6, 2, 714000),\n",
       " datetime.datetime(2021, 4, 20, 11, 15, 6, 690000),\n",
       " datetime.datetime(2021, 5, 21, 11, 36, 6, 69000),\n",
       " datetime.datetime(2021, 5, 10, 9, 25, 35, 236000),\n",
       " datetime.datetime(2021, 3, 30, 13, 56, 51, 563000),\n",
       " datetime.datetime(2021, 3, 25, 18, 49, 12, 443000),\n",
       " datetime.datetime(2021, 3, 27, 9, 58, 38, 447000),\n",
       " datetime.datetime(2021, 3, 31, 11, 53, 37, 490000),\n",
       " datetime.datetime(2021, 6, 3, 12, 53, 36, 762000),\n",
       " datetime.datetime(2021, 6, 1, 11, 22, 34, 651000),\n",
       " datetime.datetime(2021, 7, 31, 12, 24, 53, 897000),\n",
       " datetime.datetime(2021, 8, 3, 14, 44, 29, 520000),\n",
       " datetime.datetime(2021, 5, 27, 11, 12, 37, 703000),\n",
       " datetime.datetime(2021, 3, 28, 16, 7, 3, 760000),\n",
       " datetime.datetime(2021, 8, 14, 13, 21, 21, 201000),\n",
       " datetime.datetime(2021, 4, 20, 11, 4, 45, 655000),\n",
       " datetime.datetime(2021, 5, 9, 12, 27, 0, 378000),\n",
       " datetime.datetime(2021, 4, 3, 11, 6, 16, 134000),\n",
       " datetime.datetime(2021, 3, 16, 11, 54, 46, 867000),\n",
       " datetime.datetime(2021, 4, 11, 12, 2, 17, 714000),\n",
       " datetime.datetime(2021, 6, 7, 11, 54, 36, 148000),\n",
       " datetime.datetime(2021, 5, 16, 12, 4, 26, 864000),\n",
       " datetime.datetime(2021, 3, 29, 12, 54, 43, 186000),\n",
       " datetime.datetime(2021, 8, 14, 13, 6, 32, 753000),\n",
       " datetime.datetime(2021, 6, 18, 9, 26, 1, 770000),\n",
       " datetime.datetime(2021, 7, 24, 10, 33, 24, 891000),\n",
       " datetime.datetime(2021, 3, 17, 11, 12, 3, 280000),\n",
       " datetime.datetime(2021, 3, 29, 12, 19, 18, 811000),\n",
       " datetime.datetime(2021, 5, 15, 10, 27, 13, 549000),\n",
       " datetime.datetime(2021, 8, 7, 13, 27, 55, 940000),\n",
       " datetime.datetime(2021, 7, 30, 13, 3, 35, 188000),\n",
       " datetime.datetime(2021, 4, 8, 14, 45, 26, 73000),\n",
       " datetime.datetime(2021, 3, 10, 15, 11, 55, 523000),\n",
       " datetime.datetime(2021, 3, 26, 10, 49, 49, 697000),\n",
       " datetime.datetime(2021, 5, 21, 11, 45, 39, 6000),\n",
       " datetime.datetime(2021, 5, 27, 11, 39, 58, 223000),\n",
       " datetime.datetime(2021, 5, 10, 9, 17, 59, 757000),\n",
       " datetime.datetime(2021, 3, 26, 10, 43, 41, 974000),\n",
       " datetime.datetime(2021, 7, 21, 10, 40, 11, 503000),\n",
       " datetime.datetime(2021, 5, 23, 13, 37, 6, 832000),\n",
       " datetime.datetime(2021, 3, 30, 14, 1, 47, 493000),\n",
       " datetime.datetime(2021, 5, 18, 11, 22, 24, 661000),\n",
       " datetime.datetime(2021, 5, 8, 11, 14, 39, 497000),\n",
       " datetime.datetime(2021, 4, 9, 11, 52, 55, 398000),\n",
       " datetime.datetime(2021, 3, 15, 13, 1, 51, 167000),\n",
       " datetime.datetime(2021, 7, 23, 9, 44, 22, 678000),\n",
       " datetime.datetime(2021, 3, 29, 13, 7, 11, 901000),\n",
       " datetime.datetime(2021, 6, 3, 12, 30, 20, 871000),\n",
       " datetime.datetime(2021, 6, 20, 9, 11, 48, 177000),\n",
       " datetime.datetime(2021, 3, 31, 12, 20, 3, 581000),\n",
       " datetime.datetime(2021, 3, 30, 14, 12, 47, 46000),\n",
       " datetime.datetime(2021, 6, 25, 15, 1, 1, 552000),\n",
       " datetime.datetime(2021, 6, 7, 12, 26, 32, 240000),\n",
       " datetime.datetime(2021, 7, 25, 10, 31, 43, 470000),\n",
       " datetime.datetime(2021, 5, 5, 11, 29, 24, 832000),\n",
       " datetime.datetime(2021, 8, 14, 12, 44, 36, 880000),\n",
       " datetime.datetime(2021, 3, 12, 15, 25, 1, 572000),\n",
       " datetime.datetime(2021, 5, 5, 11, 45, 55, 72000),\n",
       " datetime.datetime(2021, 5, 16, 11, 23, 30, 477000),\n",
       " datetime.datetime(2021, 7, 30, 12, 29, 18, 710000),\n",
       " datetime.datetime(2021, 5, 16, 11, 50, 55, 378000),\n",
       " datetime.datetime(2021, 6, 25, 15, 13, 39, 68000),\n",
       " datetime.datetime(2021, 7, 26, 9, 53, 23, 71000),\n",
       " datetime.datetime(2021, 8, 7, 14, 2, 18, 364000),\n",
       " datetime.datetime(2021, 8, 12, 13, 58, 43, 553000),\n",
       " datetime.datetime(2021, 4, 1, 10, 59, 51, 292000),\n",
       " datetime.datetime(2021, 4, 1, 10, 29, 46, 798000),\n",
       " datetime.datetime(2021, 6, 16, 10, 33, 54, 52000),\n",
       " datetime.datetime(2021, 4, 1, 11, 4, 48, 638000),\n",
       " datetime.datetime(2021, 8, 9, 14, 36, 54, 516000),\n",
       " datetime.datetime(2021, 8, 13, 14, 9, 14, 408000),\n",
       " datetime.datetime(2021, 3, 25, 18, 37, 42, 190000),\n",
       " datetime.datetime(2021, 3, 27, 9, 41, 3, 778000),\n",
       " datetime.datetime(2021, 7, 26, 10, 24, 33, 43000),\n",
       " datetime.datetime(2021, 3, 31, 12, 1, 10, 543000),\n",
       " datetime.datetime(2021, 4, 1, 10, 44, 35, 125000),\n",
       " datetime.datetime(2021, 4, 26, 13, 26, 31, 691000),\n",
       " datetime.datetime(2021, 7, 27, 9, 56, 12, 318000),\n",
       " datetime.datetime(2021, 5, 17, 11, 26, 6, 755000),\n",
       " datetime.datetime(2021, 5, 10, 9, 5, 43, 381000),\n",
       " datetime.datetime(2021, 3, 31, 12, 14, 0, 533000),\n",
       " datetime.datetime(2021, 5, 17, 11, 33, 20, 671000),\n",
       " datetime.datetime(2021, 8, 3, 14, 12, 14, 959000),\n",
       " datetime.datetime(2021, 7, 18, 10, 21, 7, 247000),\n",
       " datetime.datetime(2021, 4, 3, 10, 59, 5, 486000),\n",
       " datetime.datetime(2021, 5, 10, 9, 29, 23, 403000),\n",
       " datetime.datetime(2021, 4, 10, 12, 13, 1, 137000),\n",
       " datetime.datetime(2021, 3, 23, 13, 59, 27, 986000),\n",
       " datetime.datetime(2021, 3, 14, 11, 16, 40, 819000),\n",
       " datetime.datetime(2021, 8, 9, 14, 8, 21, 36000),\n",
       " datetime.datetime(2021, 8, 3, 14, 33, 59, 364000),\n",
       " datetime.datetime(2021, 5, 9, 13, 8, 37, 645000),\n",
       " datetime.datetime(2021, 3, 25, 9, 58, 13, 565000),\n",
       " datetime.datetime(2021, 5, 6, 14, 45, 10, 931000),\n",
       " datetime.datetime(2021, 6, 3, 12, 38, 19, 378000),\n",
       " datetime.datetime(2021, 6, 9, 11, 41, 19, 710000),\n",
       " datetime.datetime(2021, 4, 26, 13, 37, 7, 403000),\n",
       " datetime.datetime(2021, 5, 5, 11, 57, 45, 265000),\n",
       " datetime.datetime(2021, 4, 8, 14, 21, 22, 658000),\n",
       " datetime.datetime(2021, 8, 17, 14, 6, 1, 401000),\n",
       " datetime.datetime(2021, 6, 3, 12, 10, 17, 256000),\n",
       " datetime.datetime(2021, 5, 10, 9, 52, 25, 938000),\n",
       " datetime.datetime(2021, 8, 20, 14, 4, 9, 641000),\n",
       " datetime.datetime(2021, 4, 26, 14, 13, 56, 335000),\n",
       " datetime.datetime(2021, 4, 6, 13, 32, 7, 203000),\n",
       " datetime.datetime(2021, 3, 26, 10, 38, 21, 276000),\n",
       " datetime.datetime(2021, 5, 8, 11, 11, 38, 713000),\n",
       " datetime.datetime(2021, 3, 26, 10, 58, 25, 512000),\n",
       " datetime.datetime(2021, 7, 26, 10, 33, 49, 267000),\n",
       " datetime.datetime(2021, 6, 7, 11, 46, 25, 431000),\n",
       " datetime.datetime(2021, 5, 5, 11, 35, 13, 730000),\n",
       " datetime.datetime(2021, 4, 8, 14, 34, 5, 380000),\n",
       " datetime.datetime(2021, 8, 17, 14, 32, 27, 930000),\n",
       " datetime.datetime(2021, 5, 6, 15, 9, 52, 700000),\n",
       " datetime.datetime(2021, 6, 16, 11, 2, 44, 5000),\n",
       " datetime.datetime(2021, 4, 21, 9, 39, 31, 311000),\n",
       " datetime.datetime(2021, 4, 27, 9, 58, 3, 576000),\n",
       " datetime.datetime(2021, 5, 17, 11, 20, 45, 743000),\n",
       " datetime.datetime(2021, 8, 7, 14, 16, 5, 700000),\n",
       " datetime.datetime(2021, 8, 13, 13, 42, 48, 920000),\n",
       " datetime.datetime(2021, 8, 16, 16, 3, 51, 782000),\n",
       " datetime.datetime(2021, 3, 28, 16, 33, 42, 878000),\n",
       " datetime.datetime(2021, 4, 22, 12, 47, 58, 630000),\n",
       " datetime.datetime(2021, 3, 20, 10, 40, 52, 927000),\n",
       " datetime.datetime(2021, 7, 19, 9, 53, 37, 510000),\n",
       " datetime.datetime(2021, 7, 19, 10, 25, 55, 823000),\n",
       " datetime.datetime(2021, 3, 29, 12, 28, 16, 206000),\n",
       " datetime.datetime(2021, 4, 17, 15, 5, 32, 737000),\n",
       " datetime.datetime(2021, 7, 20, 9, 46, 17, 911000),\n",
       " datetime.datetime(2021, 7, 31, 11, 38, 41, 529000),\n",
       " datetime.datetime(2021, 5, 15, 10, 55, 4, 795000),\n",
       " datetime.datetime(2021, 6, 25, 14, 17, 23, 45000),\n",
       " datetime.datetime(2021, 6, 16, 10, 53, 9, 598000),\n",
       " datetime.datetime(2021, 3, 14, 11, 49, 42, 661000),\n",
       " datetime.datetime(2021, 7, 27, 10, 17, 44, 315000),\n",
       " datetime.datetime(2021, 3, 12, 14, 51, 28),\n",
       " datetime.datetime(2021, 5, 17, 11, 45, 42, 269000),\n",
       " datetime.datetime(2021, 6, 16, 11, 15, 47, 697000),\n",
       " datetime.datetime(2021, 5, 18, 11, 5, 8, 200000),\n",
       " datetime.datetime(2021, 6, 7, 11, 31, 47, 279000),\n",
       " datetime.datetime(2021, 6, 7, 11, 43, 55, 346000),\n",
       " datetime.datetime(2021, 7, 25, 11, 35, 53, 53000),\n",
       " datetime.datetime(2021, 3, 21, 13, 27, 51, 944000),\n",
       " datetime.datetime(2021, 5, 10, 9, 15, 20, 161000),\n",
       " datetime.datetime(2021, 6, 20, 8, 54, 54, 812000),\n",
       " datetime.datetime(2021, 3, 30, 13, 52, 32, 660000),\n",
       " datetime.datetime(2021, 8, 9, 13, 29, 14, 6000),\n",
       " datetime.datetime(2021, 4, 9, 12, 25, 34, 637000),\n",
       " datetime.datetime(2021, 5, 18, 11, 46, 1, 369000),\n",
       " datetime.datetime(2021, 3, 12, 14, 54, 46, 197000),\n",
       " datetime.datetime(2021, 4, 11, 12, 20, 3, 119000),\n",
       " datetime.datetime(2021, 8, 2, 14, 30, 58, 792000),\n",
       " datetime.datetime(2021, 6, 1, 12, 1, 42, 582000),\n",
       " datetime.datetime(2021, 3, 29, 12, 33, 33, 65000),\n",
       " datetime.datetime(2021, 3, 26, 11, 14, 55, 190000),\n",
       " datetime.datetime(2021, 7, 26, 10, 45, 46, 354000),\n",
       " datetime.datetime(2021, 8, 13, 14, 38, 24, 272000),\n",
       " datetime.datetime(2021, 5, 18, 11, 19, 27, 441000),\n",
       " datetime.datetime(2021, 6, 7, 12, 36, 29, 635000),\n",
       " datetime.datetime(2021, 3, 28, 15, 51, 32, 551000),\n",
       " datetime.datetime(2021, 4, 19, 11, 38, 14, 676000),\n",
       " datetime.datetime(2021, 5, 9, 13, 24, 45, 79000),\n",
       " datetime.datetime(2021, 3, 25, 10, 28, 32, 122000),\n",
       " datetime.datetime(2021, 7, 25, 11, 11, 2, 390000),\n",
       " datetime.datetime(2021, 7, 20, 9, 3, 59, 644000),\n",
       " datetime.datetime(2021, 5, 22, 9, 50, 2, 368000),\n",
       " datetime.datetime(2021, 5, 10, 9, 22, 54, 48000),\n",
       " datetime.datetime(2021, 3, 27, 9, 49, 31, 713000),\n",
       " datetime.datetime(2021, 7, 24, 10, 48, 41, 355000),\n",
       " datetime.datetime(2021, 8, 2, 14, 43, 57, 556000),\n",
       " datetime.datetime(2021, 5, 17, 11, 5, 29, 365000),\n",
       " datetime.datetime(2021, 5, 8, 11, 0, 12, 279000),\n",
       " datetime.datetime(2021, 4, 26, 13, 39, 57, 588000),\n",
       " datetime.datetime(2021, 4, 9, 11, 44, 14, 233000),\n",
       " datetime.datetime(2021, 5, 10, 9, 31, 50, 895000),\n",
       " datetime.datetime(2021, 3, 15, 13, 28, 49, 759000),\n",
       " datetime.datetime(2021, 5, 6, 15, 18, 44, 775000),\n",
       " datetime.datetime(2021, 3, 25, 10, 55, 14, 99000),\n",
       " datetime.datetime(2021, 4, 21, 10, 6, 35, 522000),\n",
       " datetime.datetime(2021, 6, 1, 12, 28, 41, 279000),\n",
       " datetime.datetime(2021, 5, 28, 12, 27, 34, 907000),\n",
       " datetime.datetime(2021, 3, 10, 14, 36, 13, 549000),\n",
       " datetime.datetime(2021, 5, 10, 9, 39, 1, 628000),\n",
       " datetime.datetime(2021, 7, 23, 10, 20, 31, 565000),\n",
       " datetime.datetime(2021, 4, 25, 12, 17, 19, 88000)]"
      ]
     },
     "execution_count": 52,
     "metadata": {},
     "output_type": "execute_result"
    }
   ],
   "source": [
    "x_obs"
   ]
  },
  {
   "cell_type": "code",
   "execution_count": null,
   "id": "a10f9a84",
   "metadata": {},
   "outputs": [],
   "source": []
  },
  {
   "cell_type": "code",
   "execution_count": null,
   "id": "5a92dede",
   "metadata": {},
   "outputs": [],
   "source": []
  },
  {
   "cell_type": "code",
   "execution_count": null,
   "id": "c4ed3655",
   "metadata": {},
   "outputs": [],
   "source": []
  }
 ],
 "metadata": {
  "kernelspec": {
   "display_name": "Python 3",
   "language": "python",
   "name": "python3"
  },
  "language_info": {
   "codemirror_mode": {
    "name": "ipython",
    "version": 3
   },
   "file_extension": ".py",
   "mimetype": "text/x-python",
   "name": "python",
   "nbconvert_exporter": "python",
   "pygments_lexer": "ipython3",
   "version": "3.9.5"
  }
 },
 "nbformat": 4,
 "nbformat_minor": 5
}
